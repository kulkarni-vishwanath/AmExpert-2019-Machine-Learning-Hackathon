{
 "cells": [
  {
   "cell_type": "code",
   "execution_count": 1,
   "metadata": {
    "collapsed": true
   },
   "outputs": [],
   "source": [
    "import pandas as pd\n",
    "import numpy as np\n",
    "import matplotlib.pyplot as plt\n",
    "%matplotlib inline\n",
    "import seaborn as sns\n",
    "\n",
    "from sklearn.model_selection import train_test_split,RandomizedSearchCV,StratifiedKFold\n",
    "from sklearn.metrics import roc_auc_score\n",
    "from sklearn.ensemble import RandomForestClassifier,GradientBoostingClassifier\n",
    "import xgboost as xgb\n",
    "import lightgbm as lgb\n",
    "from sklearn.preprocessing import LabelEncoder,MinMaxScaler,StandardScaler\n",
    "from sklearn.compose import ColumnTransformer\n",
    "\n",
    "pd.set_option('display.max_columns', 500)\n",
    "pd.set_option('display.float_format',lambda x:'%.5f'%x)"
   ]
  },
  {
   "cell_type": "code",
   "execution_count": 2,
   "metadata": {
    "collapsed": false
   },
   "outputs": [],
   "source": [
    "train = pd.read_csv(\"train.csv\")\n",
    "test = pd.read_csv(\"test_QyjYwdj.csv\")\n",
    "campaign = pd.read_csv(\"campaign_data.csv\",parse_dates=['start_date','end_date'],dayfirst=True)\n",
    "mapping = pd.read_csv(\"coupon_item_mapping.csv\")\n",
    "demographics = pd.read_csv(\"customer_demographics.csv\")\n",
    "transactions = pd.read_csv(\"customer_transaction_data.csv\",parse_dates=['date'])\n",
    "item = pd.read_csv(\"item_data.csv\")"
   ]
  },
  {
   "cell_type": "code",
   "execution_count": 3,
   "metadata": {
    "collapsed": false
   },
   "outputs": [
    {
     "data": {
      "text/html": [
       "<div>\n",
       "<style scoped>\n",
       "    .dataframe tbody tr th:only-of-type {\n",
       "        vertical-align: middle;\n",
       "    }\n",
       "\n",
       "    .dataframe tbody tr th {\n",
       "        vertical-align: top;\n",
       "    }\n",
       "\n",
       "    .dataframe thead th {\n",
       "        text-align: right;\n",
       "    }\n",
       "</style>\n",
       "<table border=\"1\" class=\"dataframe\">\n",
       "  <thead>\n",
       "    <tr style=\"text-align: right;\">\n",
       "      <th></th>\n",
       "      <th>id</th>\n",
       "      <th>campaign_id</th>\n",
       "      <th>coupon_id</th>\n",
       "      <th>customer_id</th>\n",
       "      <th>redemption_status</th>\n",
       "    </tr>\n",
       "  </thead>\n",
       "  <tbody>\n",
       "    <tr>\n",
       "      <th>0</th>\n",
       "      <td>1</td>\n",
       "      <td>13</td>\n",
       "      <td>27</td>\n",
       "      <td>1053</td>\n",
       "      <td>0</td>\n",
       "    </tr>\n",
       "    <tr>\n",
       "      <th>1</th>\n",
       "      <td>2</td>\n",
       "      <td>13</td>\n",
       "      <td>116</td>\n",
       "      <td>48</td>\n",
       "      <td>0</td>\n",
       "    </tr>\n",
       "    <tr>\n",
       "      <th>2</th>\n",
       "      <td>6</td>\n",
       "      <td>9</td>\n",
       "      <td>635</td>\n",
       "      <td>205</td>\n",
       "      <td>0</td>\n",
       "    </tr>\n",
       "    <tr>\n",
       "      <th>3</th>\n",
       "      <td>7</td>\n",
       "      <td>13</td>\n",
       "      <td>644</td>\n",
       "      <td>1050</td>\n",
       "      <td>0</td>\n",
       "    </tr>\n",
       "    <tr>\n",
       "      <th>4</th>\n",
       "      <td>9</td>\n",
       "      <td>8</td>\n",
       "      <td>1017</td>\n",
       "      <td>1489</td>\n",
       "      <td>0</td>\n",
       "    </tr>\n",
       "  </tbody>\n",
       "</table>\n",
       "</div>"
      ],
      "text/plain": [
       "   id  campaign_id  coupon_id  customer_id  redemption_status\n",
       "0   1           13         27         1053                  0\n",
       "1   2           13        116           48                  0\n",
       "2   6            9        635          205                  0\n",
       "3   7           13        644         1050                  0\n",
       "4   9            8       1017         1489                  0"
      ]
     },
     "execution_count": 3,
     "metadata": {},
     "output_type": "execute_result"
    }
   ],
   "source": [
    "train.head()"
   ]
  },
  {
   "cell_type": "code",
   "execution_count": 4,
   "metadata": {
    "collapsed": false
   },
   "outputs": [
    {
     "name": "stdout",
     "output_type": "stream",
     "text": [
      "<class 'pandas.core.frame.DataFrame'>\n",
      "RangeIndex: 78369 entries, 0 to 78368\n",
      "Data columns (total 5 columns):\n",
      "id                   78369 non-null int64\n",
      "campaign_id          78369 non-null int64\n",
      "coupon_id            78369 non-null int64\n",
      "customer_id          78369 non-null int64\n",
      "redemption_status    78369 non-null int64\n",
      "dtypes: int64(5)\n",
      "memory usage: 3.0 MB\n"
     ]
    }
   ],
   "source": [
    "train.info()"
   ]
  },
  {
   "cell_type": "code",
   "execution_count": 5,
   "metadata": {
    "collapsed": false
   },
   "outputs": [
    {
     "data": {
      "text/plain": [
       "<matplotlib.axes._subplots.AxesSubplot at 0x2038007d630>"
      ]
     },
     "execution_count": 5,
     "metadata": {},
     "output_type": "execute_result"
    },
    {
     "data": {
      "image/png": "[encoded data removed]",
      "text/plain": [
       "<Figure size 432x288 with 1 Axes>"
      ]
     },
     "metadata": {},
     "output_type": "display_data"
    }
   ],
   "source": [
    "train.redemption_status.value_counts(dropna=False,normalize=True).plot(kind='bar')\n",
    "# The data is too imbalanced as we can see below."
   ]
  },
  {
   "cell_type": "code",
   "execution_count": 6,
   "metadata": {
    "collapsed": false
   },
   "outputs": [
    {
     "data": {
      "text/html": [
       "<div>\n",
       "<style scoped>\n",
       "    .dataframe tbody tr th:only-of-type {\n",
       "        vertical-align: middle;\n",
       "    }\n",
       "\n",
       "    .dataframe tbody tr th {\n",
       "        vertical-align: top;\n",
       "    }\n",
       "\n",
       "    .dataframe thead th {\n",
       "        text-align: right;\n",
       "    }\n",
       "</style>\n",
       "<table border=\"1\" class=\"dataframe\">\n",
       "  <thead>\n",
       "    <tr style=\"text-align: right;\">\n",
       "      <th></th>\n",
       "      <th>campaign_id</th>\n",
       "      <th>campaign_type</th>\n",
       "      <th>start_date</th>\n",
       "      <th>end_date</th>\n",
       "    </tr>\n",
       "  </thead>\n",
       "  <tbody>\n",
       "    <tr>\n",
       "      <th>0</th>\n",
       "      <td>24</td>\n",
       "      <td>Y</td>\n",
       "      <td>2013-10-21</td>\n",
       "      <td>2013-12-20</td>\n",
       "    </tr>\n",
       "    <tr>\n",
       "      <th>1</th>\n",
       "      <td>25</td>\n",
       "      <td>Y</td>\n",
       "      <td>2013-10-21</td>\n",
       "      <td>2013-11-22</td>\n",
       "    </tr>\n",
       "    <tr>\n",
       "      <th>2</th>\n",
       "      <td>20</td>\n",
       "      <td>Y</td>\n",
       "      <td>2013-09-07</td>\n",
       "      <td>2013-11-16</td>\n",
       "    </tr>\n",
       "    <tr>\n",
       "      <th>3</th>\n",
       "      <td>23</td>\n",
       "      <td>Y</td>\n",
       "      <td>2013-10-08</td>\n",
       "      <td>2013-11-15</td>\n",
       "    </tr>\n",
       "    <tr>\n",
       "      <th>4</th>\n",
       "      <td>21</td>\n",
       "      <td>Y</td>\n",
       "      <td>2013-09-16</td>\n",
       "      <td>2013-10-18</td>\n",
       "    </tr>\n",
       "  </tbody>\n",
       "</table>\n",
       "</div>"
      ],
      "text/plain": [
       "   campaign_id campaign_type start_date   end_date\n",
       "0           24             Y 2013-10-21 2013-12-20\n",
       "1           25             Y 2013-10-21 2013-11-22\n",
       "2           20             Y 2013-09-07 2013-11-16\n",
       "3           23             Y 2013-10-08 2013-11-15\n",
       "4           21             Y 2013-09-16 2013-10-18"
      ]
     },
     "execution_count": 6,
     "metadata": {},
     "output_type": "execute_result"
    }
   ],
   "source": [
    "campaign.head()"
   ]
  },
  {
   "cell_type": "code",
   "execution_count": 7,
   "metadata": {
    "collapsed": false
   },
   "outputs": [
    {
     "name": "stdout",
     "output_type": "stream",
     "text": [
      "<class 'pandas.core.frame.DataFrame'>\n",
      "RangeIndex: 28 entries, 0 to 27\n",
      "Data columns (total 4 columns):\n",
      "campaign_id      28 non-null int64\n",
      "campaign_type    28 non-null object\n",
      "start_date       28 non-null datetime64[ns]\n",
      "end_date         28 non-null datetime64[ns]\n",
      "dtypes: datetime64[ns](2), int64(1), object(1)\n",
      "memory usage: 976.0+ bytes\n"
     ]
    }
   ],
   "source": [
    "campaign.info()"
   ]
  },
  {
   "cell_type": "code",
   "execution_count": 8,
   "metadata": {
    "collapsed": false
   },
   "outputs": [
    {
     "data": {
      "text/html": [
       "<div>\n",
       "<style scoped>\n",
       "    .dataframe tbody tr th:only-of-type {\n",
       "        vertical-align: middle;\n",
       "    }\n",
       "\n",
       "    .dataframe tbody tr th {\n",
       "        vertical-align: top;\n",
       "    }\n",
       "\n",
       "    .dataframe thead th {\n",
       "        text-align: right;\n",
       "    }\n",
       "</style>\n",
       "<table border=\"1\" class=\"dataframe\">\n",
       "  <thead>\n",
       "    <tr style=\"text-align: right;\">\n",
       "      <th></th>\n",
       "      <th>coupon_id</th>\n",
       "      <th>item_id</th>\n",
       "    </tr>\n",
       "  </thead>\n",
       "  <tbody>\n",
       "    <tr>\n",
       "      <th>0</th>\n",
       "      <td>105</td>\n",
       "      <td>37</td>\n",
       "    </tr>\n",
       "    <tr>\n",
       "      <th>1</th>\n",
       "      <td>107</td>\n",
       "      <td>75</td>\n",
       "    </tr>\n",
       "    <tr>\n",
       "      <th>2</th>\n",
       "      <td>494</td>\n",
       "      <td>76</td>\n",
       "    </tr>\n",
       "    <tr>\n",
       "      <th>3</th>\n",
       "      <td>522</td>\n",
       "      <td>77</td>\n",
       "    </tr>\n",
       "    <tr>\n",
       "      <th>4</th>\n",
       "      <td>518</td>\n",
       "      <td>77</td>\n",
       "    </tr>\n",
       "  </tbody>\n",
       "</table>\n",
       "</div>"
      ],
      "text/plain": [
       "   coupon_id  item_id\n",
       "0        105       37\n",
       "1        107       75\n",
       "2        494       76\n",
       "3        522       77\n",
       "4        518       77"
      ]
     },
     "execution_count": 8,
     "metadata": {},
     "output_type": "execute_result"
    }
   ],
   "source": [
    "mapping.head()"
   ]
  },
  {
   "cell_type": "code",
   "execution_count": 9,
   "metadata": {
    "collapsed": false
   },
   "outputs": [
    {
     "name": "stdout",
     "output_type": "stream",
     "text": [
      "<class 'pandas.core.frame.DataFrame'>\n",
      "RangeIndex: 92663 entries, 0 to 92662\n",
      "Data columns (total 2 columns):\n",
      "coupon_id    92663 non-null int64\n",
      "item_id      92663 non-null int64\n",
      "dtypes: int64(2)\n",
      "memory usage: 1.4 MB\n"
     ]
    }
   ],
   "source": [
    "mapping.info()"
   ]
  },
  {
   "cell_type": "code",
   "execution_count": 10,
   "metadata": {
    "collapsed": false
   },
   "outputs": [
    {
     "data": {
      "text/html": [
       "<div>\n",
       "<style scoped>\n",
       "    .dataframe tbody tr th:only-of-type {\n",
       "        vertical-align: middle;\n",
       "    }\n",
       "\n",
       "    .dataframe tbody tr th {\n",
       "        vertical-align: top;\n",
       "    }\n",
       "\n",
       "    .dataframe thead th {\n",
       "        text-align: right;\n",
       "    }\n",
       "</style>\n",
       "<table border=\"1\" class=\"dataframe\">\n",
       "  <thead>\n",
       "    <tr style=\"text-align: right;\">\n",
       "      <th></th>\n",
       "      <th>customer_id</th>\n",
       "      <th>age_range</th>\n",
       "      <th>marital_status</th>\n",
       "      <th>rented</th>\n",
       "      <th>family_size</th>\n",
       "      <th>no_of_children</th>\n",
       "      <th>income_bracket</th>\n",
       "    </tr>\n",
       "  </thead>\n",
       "  <tbody>\n",
       "    <tr>\n",
       "      <th>0</th>\n",
       "      <td>1</td>\n",
       "      <td>70+</td>\n",
       "      <td>Married</td>\n",
       "      <td>0</td>\n",
       "      <td>2</td>\n",
       "      <td>NaN</td>\n",
       "      <td>4</td>\n",
       "    </tr>\n",
       "    <tr>\n",
       "      <th>1</th>\n",
       "      <td>6</td>\n",
       "      <td>46-55</td>\n",
       "      <td>Married</td>\n",
       "      <td>0</td>\n",
       "      <td>2</td>\n",
       "      <td>NaN</td>\n",
       "      <td>5</td>\n",
       "    </tr>\n",
       "    <tr>\n",
       "      <th>2</th>\n",
       "      <td>7</td>\n",
       "      <td>26-35</td>\n",
       "      <td>NaN</td>\n",
       "      <td>0</td>\n",
       "      <td>3</td>\n",
       "      <td>1</td>\n",
       "      <td>3</td>\n",
       "    </tr>\n",
       "    <tr>\n",
       "      <th>3</th>\n",
       "      <td>8</td>\n",
       "      <td>26-35</td>\n",
       "      <td>NaN</td>\n",
       "      <td>0</td>\n",
       "      <td>4</td>\n",
       "      <td>2</td>\n",
       "      <td>6</td>\n",
       "    </tr>\n",
       "    <tr>\n",
       "      <th>4</th>\n",
       "      <td>10</td>\n",
       "      <td>46-55</td>\n",
       "      <td>Single</td>\n",
       "      <td>0</td>\n",
       "      <td>1</td>\n",
       "      <td>NaN</td>\n",
       "      <td>5</td>\n",
       "    </tr>\n",
       "  </tbody>\n",
       "</table>\n",
       "</div>"
      ],
      "text/plain": [
       "   customer_id age_range marital_status  rented family_size no_of_children  \\\n",
       "0            1       70+        Married       0           2            NaN   \n",
       "1            6     46-55        Married       0           2            NaN   \n",
       "2            7     26-35            NaN       0           3              1   \n",
       "3            8     26-35            NaN       0           4              2   \n",
       "4           10     46-55         Single       0           1            NaN   \n",
       "\n",
       "   income_bracket  \n",
       "0               4  \n",
       "1               5  \n",
       "2               3  \n",
       "3               6  \n",
       "4               5  "
      ]
     },
     "execution_count": 10,
     "metadata": {},
     "output_type": "execute_result"
    }
   ],
   "source": [
    "demographics.head()"
   ]
  },
  {
   "cell_type": "code",
   "execution_count": 11,
   "metadata": {
    "collapsed": false
   },
   "outputs": [
    {
     "name": "stdout",
     "output_type": "stream",
     "text": [
      "<class 'pandas.core.frame.DataFrame'>\n",
      "RangeIndex: 760 entries, 0 to 759\n",
      "Data columns (total 7 columns):\n",
      "customer_id       760 non-null int64\n",
      "age_range         760 non-null object\n",
      "marital_status    431 non-null object\n",
      "rented            760 non-null int64\n",
      "family_size       760 non-null object\n",
      "no_of_children    222 non-null object\n",
      "income_bracket    760 non-null int64\n",
      "dtypes: int64(3), object(4)\n",
      "memory usage: 41.6+ KB\n"
     ]
    }
   ],
   "source": [
    "demographics.info()"
   ]
  },
  {
   "cell_type": "code",
   "execution_count": 12,
   "metadata": {
    "collapsed": false
   },
   "outputs": [
    {
     "data": {
      "text/html": [
       "<div>\n",
       "<style scoped>\n",
       "    .dataframe tbody tr th:only-of-type {\n",
       "        vertical-align: middle;\n",
       "    }\n",
       "\n",
       "    .dataframe tbody tr th {\n",
       "        vertical-align: top;\n",
       "    }\n",
       "\n",
       "    .dataframe thead th {\n",
       "        text-align: right;\n",
       "    }\n",
       "</style>\n",
       "<table border=\"1\" class=\"dataframe\">\n",
       "  <thead>\n",
       "    <tr style=\"text-align: right;\">\n",
       "      <th></th>\n",
       "      <th>date</th>\n",
       "      <th>customer_id</th>\n",
       "      <th>item_id</th>\n",
       "      <th>quantity</th>\n",
       "      <th>selling_price</th>\n",
       "      <th>other_discount</th>\n",
       "      <th>coupon_discount</th>\n",
       "    </tr>\n",
       "  </thead>\n",
       "  <tbody>\n",
       "    <tr>\n",
       "      <th>0</th>\n",
       "      <td>2012-01-02</td>\n",
       "      <td>1501</td>\n",
       "      <td>26830</td>\n",
       "      <td>1</td>\n",
       "      <td>35.26000</td>\n",
       "      <td>-10.69000</td>\n",
       "      <td>0.00000</td>\n",
       "    </tr>\n",
       "    <tr>\n",
       "      <th>1</th>\n",
       "      <td>2012-01-02</td>\n",
       "      <td>1501</td>\n",
       "      <td>54253</td>\n",
       "      <td>1</td>\n",
       "      <td>53.43000</td>\n",
       "      <td>-13.89000</td>\n",
       "      <td>0.00000</td>\n",
       "    </tr>\n",
       "    <tr>\n",
       "      <th>2</th>\n",
       "      <td>2012-01-02</td>\n",
       "      <td>1501</td>\n",
       "      <td>31962</td>\n",
       "      <td>1</td>\n",
       "      <td>106.50000</td>\n",
       "      <td>-14.25000</td>\n",
       "      <td>0.00000</td>\n",
       "    </tr>\n",
       "    <tr>\n",
       "      <th>3</th>\n",
       "      <td>2012-01-02</td>\n",
       "      <td>1501</td>\n",
       "      <td>33647</td>\n",
       "      <td>1</td>\n",
       "      <td>67.32000</td>\n",
       "      <td>0.00000</td>\n",
       "      <td>0.00000</td>\n",
       "    </tr>\n",
       "    <tr>\n",
       "      <th>4</th>\n",
       "      <td>2012-01-02</td>\n",
       "      <td>1501</td>\n",
       "      <td>48199</td>\n",
       "      <td>1</td>\n",
       "      <td>71.24000</td>\n",
       "      <td>-28.14000</td>\n",
       "      <td>0.00000</td>\n",
       "    </tr>\n",
       "  </tbody>\n",
       "</table>\n",
       "</div>"
      ],
      "text/plain": [
       "        date  customer_id  item_id  quantity  selling_price  other_discount  \\\n",
       "0 2012-01-02         1501    26830         1       35.26000       -10.69000   \n",
       "1 2012-01-02         1501    54253         1       53.43000       -13.89000   \n",
       "2 2012-01-02         1501    31962         1      106.50000       -14.25000   \n",
       "3 2012-01-02         1501    33647         1       67.32000         0.00000   \n",
       "4 2012-01-02         1501    48199         1       71.24000       -28.14000   \n",
       "\n",
       "   coupon_discount  \n",
       "0          0.00000  \n",
       "1          0.00000  \n",
       "2          0.00000  \n",
       "3          0.00000  \n",
       "4          0.00000  "
      ]
     },
     "execution_count": 12,
     "metadata": {},
     "output_type": "execute_result"
    }
   ],
   "source": [
    "transactions.head()"
   ]
  },
  {
   "cell_type": "code",
   "execution_count": 13,
   "metadata": {
    "collapsed": false
   },
   "outputs": [
    {
     "name": "stdout",
     "output_type": "stream",
     "text": [
      "<class 'pandas.core.frame.DataFrame'>\n",
      "RangeIndex: 1324566 entries, 0 to 1324565\n",
      "Data columns (total 7 columns):\n",
      "date               1324566 non-null datetime64[ns]\n",
      "customer_id        1324566 non-null int64\n",
      "item_id            1324566 non-null int64\n",
      "quantity           1324566 non-null int64\n",
      "selling_price      1324566 non-null float64\n",
      "other_discount     1324566 non-null float64\n",
      "coupon_discount    1324566 non-null float64\n",
      "dtypes: datetime64[ns](1), float64(3), int64(3)\n",
      "memory usage: 70.7 MB\n"
     ]
    }
   ],
   "source": [
    "transactions.info()"
   ]
  },
  {
   "cell_type": "code",
   "execution_count": 14,
   "metadata": {
    "collapsed": false
   },
   "outputs": [
    {
     "data": {
      "text/html": [
       "<div>\n",
       "<style scoped>\n",
       "    .dataframe tbody tr th:only-of-type {\n",
       "        vertical-align: middle;\n",
       "    }\n",
       "\n",
       "    .dataframe tbody tr th {\n",
       "        vertical-align: top;\n",
       "    }\n",
       "\n",
       "    .dataframe thead th {\n",
       "        text-align: right;\n",
       "    }\n",
       "</style>\n",
       "<table border=\"1\" class=\"dataframe\">\n",
       "  <thead>\n",
       "    <tr style=\"text-align: right;\">\n",
       "      <th></th>\n",
       "      <th>item_id</th>\n",
       "      <th>brand</th>\n",
       "      <th>brand_type</th>\n",
       "      <th>category</th>\n",
       "    </tr>\n",
       "  </thead>\n",
       "  <tbody>\n",
       "    <tr>\n",
       "      <th>0</th>\n",
       "      <td>1</td>\n",
       "      <td>1</td>\n",
       "      <td>Established</td>\n",
       "      <td>Grocery</td>\n",
       "    </tr>\n",
       "    <tr>\n",
       "      <th>1</th>\n",
       "      <td>2</td>\n",
       "      <td>1</td>\n",
       "      <td>Established</td>\n",
       "      <td>Miscellaneous</td>\n",
       "    </tr>\n",
       "    <tr>\n",
       "      <th>2</th>\n",
       "      <td>3</td>\n",
       "      <td>56</td>\n",
       "      <td>Local</td>\n",
       "      <td>Bakery</td>\n",
       "    </tr>\n",
       "    <tr>\n",
       "      <th>3</th>\n",
       "      <td>4</td>\n",
       "      <td>56</td>\n",
       "      <td>Local</td>\n",
       "      <td>Grocery</td>\n",
       "    </tr>\n",
       "    <tr>\n",
       "      <th>4</th>\n",
       "      <td>5</td>\n",
       "      <td>56</td>\n",
       "      <td>Local</td>\n",
       "      <td>Grocery</td>\n",
       "    </tr>\n",
       "  </tbody>\n",
       "</table>\n",
       "</div>"
      ],
      "text/plain": [
       "   item_id  brand   brand_type       category\n",
       "0        1      1  Established        Grocery\n",
       "1        2      1  Established  Miscellaneous\n",
       "2        3     56        Local         Bakery\n",
       "3        4     56        Local        Grocery\n",
       "4        5     56        Local        Grocery"
      ]
     },
     "execution_count": 14,
     "metadata": {},
     "output_type": "execute_result"
    }
   ],
   "source": [
    "item.head()"
   ]
  },
  {
   "cell_type": "code",
   "execution_count": 15,
   "metadata": {
    "collapsed": false
   },
   "outputs": [
    {
     "name": "stdout",
     "output_type": "stream",
     "text": [
      "<class 'pandas.core.frame.DataFrame'>\n",
      "RangeIndex: 74066 entries, 0 to 74065\n",
      "Data columns (total 4 columns):\n",
      "item_id       74066 non-null int64\n",
      "brand         74066 non-null int64\n",
      "brand_type    74066 non-null object\n",
      "category      74066 non-null object\n",
      "dtypes: int64(2), object(2)\n",
      "memory usage: 2.3+ MB\n"
     ]
    }
   ],
   "source": [
    "item.info()"
   ]
  },
  {
   "cell_type": "code",
   "execution_count": 16,
   "metadata": {
    "collapsed": false
   },
   "outputs": [
    {
     "data": {
      "text/html": [
       "<div>\n",
       "<style scoped>\n",
       "    .dataframe tbody tr th:only-of-type {\n",
       "        vertical-align: middle;\n",
       "    }\n",
       "\n",
       "    .dataframe tbody tr th {\n",
       "        vertical-align: top;\n",
       "    }\n",
       "\n",
       "    .dataframe thead th {\n",
       "        text-align: right;\n",
       "    }\n",
       "</style>\n",
       "<table border=\"1\" class=\"dataframe\">\n",
       "  <thead>\n",
       "    <tr style=\"text-align: right;\">\n",
       "      <th></th>\n",
       "      <th>id</th>\n",
       "      <th>campaign_id</th>\n",
       "      <th>coupon_id</th>\n",
       "      <th>customer_id</th>\n",
       "    </tr>\n",
       "  </thead>\n",
       "  <tbody>\n",
       "    <tr>\n",
       "      <th>0</th>\n",
       "      <td>3</td>\n",
       "      <td>22</td>\n",
       "      <td>869</td>\n",
       "      <td>967</td>\n",
       "    </tr>\n",
       "    <tr>\n",
       "      <th>1</th>\n",
       "      <td>4</td>\n",
       "      <td>20</td>\n",
       "      <td>389</td>\n",
       "      <td>1566</td>\n",
       "    </tr>\n",
       "    <tr>\n",
       "      <th>2</th>\n",
       "      <td>5</td>\n",
       "      <td>22</td>\n",
       "      <td>981</td>\n",
       "      <td>510</td>\n",
       "    </tr>\n",
       "    <tr>\n",
       "      <th>3</th>\n",
       "      <td>8</td>\n",
       "      <td>25</td>\n",
       "      <td>1069</td>\n",
       "      <td>361</td>\n",
       "    </tr>\n",
       "    <tr>\n",
       "      <th>4</th>\n",
       "      <td>10</td>\n",
       "      <td>17</td>\n",
       "      <td>498</td>\n",
       "      <td>811</td>\n",
       "    </tr>\n",
       "  </tbody>\n",
       "</table>\n",
       "</div>"
      ],
      "text/plain": [
       "   id  campaign_id  coupon_id  customer_id\n",
       "0   3           22        869          967\n",
       "1   4           20        389         1566\n",
       "2   5           22        981          510\n",
       "3   8           25       1069          361\n",
       "4  10           17        498          811"
      ]
     },
     "execution_count": 16,
     "metadata": {},
     "output_type": "execute_result"
    }
   ],
   "source": [
    "test.head()"
   ]
  },
  {
   "cell_type": "code",
   "execution_count": 17,
   "metadata": {
    "collapsed": false
   },
   "outputs": [
    {
     "name": "stdout",
     "output_type": "stream",
     "text": [
      "<class 'pandas.core.frame.DataFrame'>\n",
      "RangeIndex: 50226 entries, 0 to 50225\n",
      "Data columns (total 4 columns):\n",
      "id             50226 non-null int64\n",
      "campaign_id    50226 non-null int64\n",
      "coupon_id      50226 non-null int64\n",
      "customer_id    50226 non-null int64\n",
      "dtypes: int64(4)\n",
      "memory usage: 1.5 MB\n"
     ]
    }
   ],
   "source": [
    "test.info()"
   ]
  },
  {
   "cell_type": "code",
   "execution_count": null,
   "metadata": {
    "collapsed": true
   },
   "outputs": [],
   "source": []
  },
  {
   "cell_type": "markdown",
   "metadata": {},
   "source": [
    "#### EDA Train Data"
   ]
  },
  {
   "cell_type": "code",
   "execution_count": 18,
   "metadata": {
    "collapsed": false
   },
   "outputs": [
    {
     "data": {
      "text/plain": [
       "id                   0\n",
       "campaign_id          0\n",
       "coupon_id            0\n",
       "customer_id          0\n",
       "redemption_status    0\n",
       "dtype: int64"
      ]
     },
     "execution_count": 18,
     "metadata": {},
     "output_type": "execute_result"
    }
   ],
   "source": [
    "train.isnull().sum()"
   ]
  },
  {
   "cell_type": "code",
   "execution_count": 19,
   "metadata": {
    "collapsed": false
   },
   "outputs": [
    {
     "name": "stdout",
     "output_type": "stream",
     "text": [
      "Number of Unique Values in id column in tranining data are: 78369\n",
      "Number of Unique Values in campaign_id column in tranining data are: 18\n",
      "Number of Unique Values in coupon_id column in tranining data are: 866\n",
      "Number of Unique Values in customer_id column in tranining data are: 1428\n",
      "Number of Unique Values in redemption_status column in tranining data are: 2\n"
     ]
    }
   ],
   "source": [
    "for col in train.columns:\n",
    "    print (\"Number of Unique Values in {} column in tranining data are:\".format(col),train[col].nunique())"
   ]
  },
  {
   "cell_type": "markdown",
   "metadata": {},
   "source": [
    "1. Train data has information about 1428 Unique Customers. \n",
    "2. Those 1428 customers are served with 866 Unique Coupons. \n",
    "3. There are totally 18 unique campaigns. "
   ]
  },
  {
   "cell_type": "code",
   "execution_count": 20,
   "metadata": {
    "collapsed": false
   },
   "outputs": [
    {
     "data": {
      "text/plain": [
       "Text(0.5,1,\"Count Plot of Unique Campaign ID's served to customers.\")"
      ]
     },
     "execution_count": 20,
     "metadata": {},
     "output_type": "execute_result"
    },
    {
     "data": {
      "image/png": "[encoded data removed]",
      "text/plain": [
       "<Figure size 432x288 with 1 Axes>"
      ]
     },
     "metadata": {},
     "output_type": "display_data"
    }
   ],
   "source": [
    "sns.countplot(train['campaign_id'])\n",
    "plt.title(\"Count Plot of Unique Campaign ID's served to customers.\")\n",
    "# Campaigns 13 and 8 are mostly served."
   ]
  },
  {
   "cell_type": "code",
   "execution_count": 21,
   "metadata": {
    "collapsed": false
   },
   "outputs": [
    {
     "data": {
      "text/plain": [
       "1463    199\n",
       "590     193\n",
       "189     175\n",
       "1192    173\n",
       "464     171\n",
       "Name: customer_id, dtype: int64"
      ]
     },
     "execution_count": 21,
     "metadata": {},
     "output_type": "execute_result"
    }
   ],
   "source": [
    "train['customer_id'].value_counts().head()"
   ]
  },
  {
   "cell_type": "code",
   "execution_count": 22,
   "metadata": {
    "collapsed": false
   },
   "outputs": [
    {
     "data": {
      "text/plain": [
       "customer_id\n",
       "1463    11\n",
       "957     10\n",
       "1192     9\n",
       "1378     9\n",
       "590      8\n",
       "Name: campaign_id, dtype: int64"
      ]
     },
     "execution_count": 22,
     "metadata": {},
     "output_type": "execute_result"
    }
   ],
   "source": [
    "train.groupby('customer_id')['campaign_id'].nunique().sort_values(ascending=False).head()\n",
    "# Customer with id 463 has been served with 11 out of 18 unique campaigns followed by 957 who is served with 10."
   ]
  },
  {
   "cell_type": "code",
   "execution_count": 23,
   "metadata": {
    "collapsed": false
   },
   "outputs": [
    {
     "data": {
      "text/plain": [
       "<matplotlib.axes._subplots.AxesSubplot at 0x2038067f160>"
      ]
     },
     "execution_count": 23,
     "metadata": {},
     "output_type": "execute_result"
    },
    {
     "data": {
      "image/png": "[encoded data removed]",
      "text/plain": [
       "<Figure size 432x288 with 1 Axes>"
      ]
     },
     "metadata": {},
     "output_type": "display_data"
    }
   ],
   "source": [
    "train.groupby('campaign_id')['coupon_id'].nunique().sort_values().plot(kind='bar')\n",
    "# Count of Unique coupon_id's grouped by campaign_id. Campaign_id's 30,26,13 and 8 have highest number of coupon_id's under them."
   ]
  },
  {
   "cell_type": "code",
   "execution_count": 24,
   "metadata": {
    "collapsed": false
   },
   "outputs": [
    {
     "data": {
      "text/plain": [
       "705     570\n",
       "470     447\n",
       "691     405\n",
       "468     366\n",
       "1043    357\n",
       "Name: coupon_id, dtype: int64"
      ]
     },
     "execution_count": 24,
     "metadata": {},
     "output_type": "execute_result"
    }
   ],
   "source": [
    "train['coupon_id'].value_counts().head()"
   ]
  },
  {
   "cell_type": "code",
   "execution_count": 25,
   "metadata": {
    "collapsed": false
   },
   "outputs": [
    {
     "data": {
      "text/plain": [
       "customer_id\n",
       "1463    187\n",
       "590     185\n",
       "189     163\n",
       "1192    163\n",
       "63      159\n",
       "Name: coupon_id, dtype: int64"
      ]
     },
     "execution_count": 25,
     "metadata": {},
     "output_type": "execute_result"
    }
   ],
   "source": [
    "train.groupby('customer_id')['coupon_id'].nunique().sort_values(ascending=False).head()"
   ]
  },
  {
   "cell_type": "code",
   "execution_count": 26,
   "metadata": {
    "collapsed": false
   },
   "outputs": [
    {
     "data": {
      "text/html": [
       "<div>\n",
       "<style scoped>\n",
       "    .dataframe tbody tr th:only-of-type {\n",
       "        vertical-align: middle;\n",
       "    }\n",
       "\n",
       "    .dataframe tbody tr th {\n",
       "        vertical-align: top;\n",
       "    }\n",
       "\n",
       "    .dataframe thead th {\n",
       "        text-align: right;\n",
       "    }\n",
       "</style>\n",
       "<table border=\"1\" class=\"dataframe\">\n",
       "  <thead>\n",
       "    <tr style=\"text-align: right;\">\n",
       "      <th>redemption_status</th>\n",
       "      <th>0</th>\n",
       "      <th>1</th>\n",
       "    </tr>\n",
       "    <tr>\n",
       "      <th>campaign_id</th>\n",
       "      <th></th>\n",
       "      <th></th>\n",
       "    </tr>\n",
       "  </thead>\n",
       "  <tbody>\n",
       "    <tr>\n",
       "      <th>6</th>\n",
       "      <td>64</td>\n",
       "      <td>1</td>\n",
       "    </tr>\n",
       "    <tr>\n",
       "      <th>1</th>\n",
       "      <td>142</td>\n",
       "      <td>1</td>\n",
       "    </tr>\n",
       "    <tr>\n",
       "      <th>27</th>\n",
       "      <td>323</td>\n",
       "      <td>1</td>\n",
       "    </tr>\n",
       "    <tr>\n",
       "      <th>3</th>\n",
       "      <td>406</td>\n",
       "      <td>2</td>\n",
       "    </tr>\n",
       "    <tr>\n",
       "      <th>28</th>\n",
       "      <td>475</td>\n",
       "      <td>1</td>\n",
       "    </tr>\n",
       "    <tr>\n",
       "      <th>2</th>\n",
       "      <td>763</td>\n",
       "      <td>5</td>\n",
       "    </tr>\n",
       "    <tr>\n",
       "      <th>4</th>\n",
       "      <td>965</td>\n",
       "      <td>7</td>\n",
       "    </tr>\n",
       "    <tr>\n",
       "      <th>7</th>\n",
       "      <td>1580</td>\n",
       "      <td>4</td>\n",
       "    </tr>\n",
       "    <tr>\n",
       "      <th>10</th>\n",
       "      <td>1716</td>\n",
       "      <td>7</td>\n",
       "    </tr>\n",
       "    <tr>\n",
       "      <th>5</th>\n",
       "      <td>1820</td>\n",
       "      <td>7</td>\n",
       "    </tr>\n",
       "    <tr>\n",
       "      <th>12</th>\n",
       "      <td>2538</td>\n",
       "      <td>12</td>\n",
       "    </tr>\n",
       "    <tr>\n",
       "      <th>11</th>\n",
       "      <td>2776</td>\n",
       "      <td>6</td>\n",
       "    </tr>\n",
       "    <tr>\n",
       "      <th>9</th>\n",
       "      <td>3145</td>\n",
       "      <td>23</td>\n",
       "    </tr>\n",
       "    <tr>\n",
       "      <th>29</th>\n",
       "      <td>3879</td>\n",
       "      <td>16</td>\n",
       "    </tr>\n",
       "    <tr>\n",
       "      <th>26</th>\n",
       "      <td>6004</td>\n",
       "      <td>52</td>\n",
       "    </tr>\n",
       "    <tr>\n",
       "      <th>30</th>\n",
       "      <td>6428</td>\n",
       "      <td>39</td>\n",
       "    </tr>\n",
       "    <tr>\n",
       "      <th>13</th>\n",
       "      <td>22260</td>\n",
       "      <td>346</td>\n",
       "    </tr>\n",
       "    <tr>\n",
       "      <th>8</th>\n",
       "      <td>22356</td>\n",
       "      <td>199</td>\n",
       "    </tr>\n",
       "  </tbody>\n",
       "</table>\n",
       "</div>"
      ],
      "text/plain": [
       "redemption_status      0    1\n",
       "campaign_id                  \n",
       "6                     64    1\n",
       "1                    142    1\n",
       "27                   323    1\n",
       "3                    406    2\n",
       "28                   475    1\n",
       "2                    763    5\n",
       "4                    965    7\n",
       "7                   1580    4\n",
       "10                  1716    7\n",
       "5                   1820    7\n",
       "12                  2538   12\n",
       "11                  2776    6\n",
       "9                   3145   23\n",
       "29                  3879   16\n",
       "26                  6004   52\n",
       "30                  6428   39\n",
       "13                 22260  346\n",
       "8                  22356  199"
      ]
     },
     "execution_count": 26,
     "metadata": {},
     "output_type": "execute_result"
    }
   ],
   "source": [
    "train.groupby('campaign_id')['redemption_status'].value_counts().unstack().sort_values(by=0)\n",
    "# As we can see below, all the 18 campaigns have atleast one coupon which is redeemed under it."
   ]
  },
  {
   "cell_type": "code",
   "execution_count": 27,
   "metadata": {
    "collapsed": false
   },
   "outputs": [
    {
     "data": {
      "text/plain": [
       "<matplotlib.axes._subplots.AxesSubplot at 0x20380722a90>"
      ]
     },
     "execution_count": 27,
     "metadata": {},
     "output_type": "execute_result"
    },
    {
     "data": {
      "image/png": "[encoded data removed]",
      "text/plain": [
       "<Figure size 720x432 with 1 Axes>"
      ]
     },
     "metadata": {},
     "output_type": "display_data"
    }
   ],
   "source": [
    "train.groupby('campaign_id')['redemption_status'].value_counts().unstack().plot(kind='bar',figsize=(10,6))"
   ]
  },
  {
   "cell_type": "code",
   "execution_count": 28,
   "metadata": {
    "collapsed": false
   },
   "outputs": [
    {
     "data": {
      "text/html": [
       "<div>\n",
       "<style scoped>\n",
       "    .dataframe tbody tr th:only-of-type {\n",
       "        vertical-align: middle;\n",
       "    }\n",
       "\n",
       "    .dataframe tbody tr th {\n",
       "        vertical-align: top;\n",
       "    }\n",
       "\n",
       "    .dataframe thead th {\n",
       "        text-align: right;\n",
       "    }\n",
       "</style>\n",
       "<table border=\"1\" class=\"dataframe\">\n",
       "  <thead>\n",
       "    <tr style=\"text-align: right;\">\n",
       "      <th>redemption_status</th>\n",
       "      <th>0</th>\n",
       "      <th>1</th>\n",
       "    </tr>\n",
       "    <tr>\n",
       "      <th>coupon_id</th>\n",
       "      <th></th>\n",
       "      <th></th>\n",
       "    </tr>\n",
       "  </thead>\n",
       "  <tbody>\n",
       "    <tr>\n",
       "      <th>1102</th>\n",
       "      <td>197.00000</td>\n",
       "      <td>1.00000</td>\n",
       "    </tr>\n",
       "    <tr>\n",
       "      <th>911</th>\n",
       "      <td>154.00000</td>\n",
       "      <td>1.00000</td>\n",
       "    </tr>\n",
       "    <tr>\n",
       "      <th>669</th>\n",
       "      <td>213.00000</td>\n",
       "      <td>1.00000</td>\n",
       "    </tr>\n",
       "    <tr>\n",
       "      <th>667</th>\n",
       "      <td>165.00000</td>\n",
       "      <td>1.00000</td>\n",
       "    </tr>\n",
       "    <tr>\n",
       "      <th>666</th>\n",
       "      <td>69.00000</td>\n",
       "      <td>1.00000</td>\n",
       "    </tr>\n",
       "    <tr>\n",
       "      <th>665</th>\n",
       "      <td>29.00000</td>\n",
       "      <td>1.00000</td>\n",
       "    </tr>\n",
       "    <tr>\n",
       "      <th>662</th>\n",
       "      <td>122.00000</td>\n",
       "      <td>1.00000</td>\n",
       "    </tr>\n",
       "    <tr>\n",
       "      <th>916</th>\n",
       "      <td>136.00000</td>\n",
       "      <td>1.00000</td>\n",
       "    </tr>\n",
       "    <tr>\n",
       "      <th>660</th>\n",
       "      <td>35.00000</td>\n",
       "      <td>1.00000</td>\n",
       "    </tr>\n",
       "    <tr>\n",
       "      <th>658</th>\n",
       "      <td>334.00000</td>\n",
       "      <td>1.00000</td>\n",
       "    </tr>\n",
       "    <tr>\n",
       "      <th>656</th>\n",
       "      <td>121.00000</td>\n",
       "      <td>1.00000</td>\n",
       "    </tr>\n",
       "    <tr>\n",
       "      <th>647</th>\n",
       "      <td>36.00000</td>\n",
       "      <td>1.00000</td>\n",
       "    </tr>\n",
       "    <tr>\n",
       "      <th>643</th>\n",
       "      <td>134.00000</td>\n",
       "      <td>1.00000</td>\n",
       "    </tr>\n",
       "    <tr>\n",
       "      <th>627</th>\n",
       "      <td>213.00000</td>\n",
       "      <td>1.00000</td>\n",
       "    </tr>\n",
       "    <tr>\n",
       "      <th>940</th>\n",
       "      <td>121.00000</td>\n",
       "      <td>1.00000</td>\n",
       "    </tr>\n",
       "    <tr>\n",
       "      <th>616</th>\n",
       "      <td>132.00000</td>\n",
       "      <td>1.00000</td>\n",
       "    </tr>\n",
       "    <tr>\n",
       "      <th>967</th>\n",
       "      <td>165.00000</td>\n",
       "      <td>1.00000</td>\n",
       "    </tr>\n",
       "    <tr>\n",
       "      <th>972</th>\n",
       "      <td>31.00000</td>\n",
       "      <td>1.00000</td>\n",
       "    </tr>\n",
       "    <tr>\n",
       "      <th>994</th>\n",
       "      <td>35.00000</td>\n",
       "      <td>1.00000</td>\n",
       "    </tr>\n",
       "    <tr>\n",
       "      <th>522</th>\n",
       "      <td>43.00000</td>\n",
       "      <td>1.00000</td>\n",
       "    </tr>\n",
       "    <tr>\n",
       "      <th>525</th>\n",
       "      <td>16.00000</td>\n",
       "      <td>1.00000</td>\n",
       "    </tr>\n",
       "    <tr>\n",
       "      <th>528</th>\n",
       "      <td>68.00000</td>\n",
       "      <td>1.00000</td>\n",
       "    </tr>\n",
       "    <tr>\n",
       "      <th>992</th>\n",
       "      <td>111.00000</td>\n",
       "      <td>1.00000</td>\n",
       "    </tr>\n",
       "    <tr>\n",
       "      <th>531</th>\n",
       "      <td>37.00000</td>\n",
       "      <td>1.00000</td>\n",
       "    </tr>\n",
       "    <tr>\n",
       "      <th>1100</th>\n",
       "      <td>104.00000</td>\n",
       "      <td>1.00000</td>\n",
       "    </tr>\n",
       "    <tr>\n",
       "      <th>536</th>\n",
       "      <td>30.00000</td>\n",
       "      <td>1.00000</td>\n",
       "    </tr>\n",
       "    <tr>\n",
       "      <th>569</th>\n",
       "      <td>28.00000</td>\n",
       "      <td>1.00000</td>\n",
       "    </tr>\n",
       "    <tr>\n",
       "      <th>821</th>\n",
       "      <td>25.00000</td>\n",
       "      <td>1.00000</td>\n",
       "    </tr>\n",
       "    <tr>\n",
       "      <th>572</th>\n",
       "      <td>169.00000</td>\n",
       "      <td>1.00000</td>\n",
       "    </tr>\n",
       "    <tr>\n",
       "      <th>979</th>\n",
       "      <td>249.00000</td>\n",
       "      <td>1.00000</td>\n",
       "    </tr>\n",
       "    <tr>\n",
       "      <th>...</th>\n",
       "      <td>...</td>\n",
       "      <td>...</td>\n",
       "    </tr>\n",
       "    <tr>\n",
       "      <th>1073</th>\n",
       "      <td>135.00000</td>\n",
       "      <td>nan</td>\n",
       "    </tr>\n",
       "    <tr>\n",
       "      <th>1074</th>\n",
       "      <td>32.00000</td>\n",
       "      <td>nan</td>\n",
       "    </tr>\n",
       "    <tr>\n",
       "      <th>1075</th>\n",
       "      <td>170.00000</td>\n",
       "      <td>nan</td>\n",
       "    </tr>\n",
       "    <tr>\n",
       "      <th>1076</th>\n",
       "      <td>46.00000</td>\n",
       "      <td>nan</td>\n",
       "    </tr>\n",
       "    <tr>\n",
       "      <th>1080</th>\n",
       "      <td>29.00000</td>\n",
       "      <td>nan</td>\n",
       "    </tr>\n",
       "    <tr>\n",
       "      <th>1082</th>\n",
       "      <td>34.00000</td>\n",
       "      <td>nan</td>\n",
       "    </tr>\n",
       "    <tr>\n",
       "      <th>1083</th>\n",
       "      <td>123.00000</td>\n",
       "      <td>nan</td>\n",
       "    </tr>\n",
       "    <tr>\n",
       "      <th>1086</th>\n",
       "      <td>100.00000</td>\n",
       "      <td>nan</td>\n",
       "    </tr>\n",
       "    <tr>\n",
       "      <th>1087</th>\n",
       "      <td>28.00000</td>\n",
       "      <td>nan</td>\n",
       "    </tr>\n",
       "    <tr>\n",
       "      <th>1088</th>\n",
       "      <td>12.00000</td>\n",
       "      <td>nan</td>\n",
       "    </tr>\n",
       "    <tr>\n",
       "      <th>1089</th>\n",
       "      <td>12.00000</td>\n",
       "      <td>nan</td>\n",
       "    </tr>\n",
       "    <tr>\n",
       "      <th>1090</th>\n",
       "      <td>40.00000</td>\n",
       "      <td>nan</td>\n",
       "    </tr>\n",
       "    <tr>\n",
       "      <th>1091</th>\n",
       "      <td>12.00000</td>\n",
       "      <td>nan</td>\n",
       "    </tr>\n",
       "    <tr>\n",
       "      <th>1092</th>\n",
       "      <td>12.00000</td>\n",
       "      <td>nan</td>\n",
       "    </tr>\n",
       "    <tr>\n",
       "      <th>1093</th>\n",
       "      <td>34.00000</td>\n",
       "      <td>nan</td>\n",
       "    </tr>\n",
       "    <tr>\n",
       "      <th>1095</th>\n",
       "      <td>12.00000</td>\n",
       "      <td>nan</td>\n",
       "    </tr>\n",
       "    <tr>\n",
       "      <th>1096</th>\n",
       "      <td>12.00000</td>\n",
       "      <td>nan</td>\n",
       "    </tr>\n",
       "    <tr>\n",
       "      <th>1097</th>\n",
       "      <td>12.00000</td>\n",
       "      <td>nan</td>\n",
       "    </tr>\n",
       "    <tr>\n",
       "      <th>1098</th>\n",
       "      <td>12.00000</td>\n",
       "      <td>nan</td>\n",
       "    </tr>\n",
       "    <tr>\n",
       "      <th>1101</th>\n",
       "      <td>40.00000</td>\n",
       "      <td>nan</td>\n",
       "    </tr>\n",
       "    <tr>\n",
       "      <th>1103</th>\n",
       "      <td>28.00000</td>\n",
       "      <td>nan</td>\n",
       "    </tr>\n",
       "    <tr>\n",
       "      <th>1104</th>\n",
       "      <td>33.00000</td>\n",
       "      <td>nan</td>\n",
       "    </tr>\n",
       "    <tr>\n",
       "      <th>1105</th>\n",
       "      <td>166.00000</td>\n",
       "      <td>nan</td>\n",
       "    </tr>\n",
       "    <tr>\n",
       "      <th>1106</th>\n",
       "      <td>31.00000</td>\n",
       "      <td>nan</td>\n",
       "    </tr>\n",
       "    <tr>\n",
       "      <th>1107</th>\n",
       "      <td>48.00000</td>\n",
       "      <td>nan</td>\n",
       "    </tr>\n",
       "    <tr>\n",
       "      <th>1108</th>\n",
       "      <td>103.00000</td>\n",
       "      <td>nan</td>\n",
       "    </tr>\n",
       "    <tr>\n",
       "      <th>1110</th>\n",
       "      <td>152.00000</td>\n",
       "      <td>nan</td>\n",
       "    </tr>\n",
       "    <tr>\n",
       "      <th>1112</th>\n",
       "      <td>119.00000</td>\n",
       "      <td>nan</td>\n",
       "    </tr>\n",
       "    <tr>\n",
       "      <th>1114</th>\n",
       "      <td>94.00000</td>\n",
       "      <td>nan</td>\n",
       "    </tr>\n",
       "    <tr>\n",
       "      <th>1115</th>\n",
       "      <td>26.00000</td>\n",
       "      <td>nan</td>\n",
       "    </tr>\n",
       "  </tbody>\n",
       "</table>\n",
       "<p>866 rows × 2 columns</p>\n",
       "</div>"
      ],
      "text/plain": [
       "redemption_status         0       1\n",
       "coupon_id                          \n",
       "1102              197.00000 1.00000\n",
       "911               154.00000 1.00000\n",
       "669               213.00000 1.00000\n",
       "667               165.00000 1.00000\n",
       "666                69.00000 1.00000\n",
       "665                29.00000 1.00000\n",
       "662               122.00000 1.00000\n",
       "916               136.00000 1.00000\n",
       "660                35.00000 1.00000\n",
       "658               334.00000 1.00000\n",
       "656               121.00000 1.00000\n",
       "647                36.00000 1.00000\n",
       "643               134.00000 1.00000\n",
       "627               213.00000 1.00000\n",
       "940               121.00000 1.00000\n",
       "616               132.00000 1.00000\n",
       "967               165.00000 1.00000\n",
       "972                31.00000 1.00000\n",
       "994                35.00000 1.00000\n",
       "522                43.00000 1.00000\n",
       "525                16.00000 1.00000\n",
       "528                68.00000 1.00000\n",
       "992               111.00000 1.00000\n",
       "531                37.00000 1.00000\n",
       "1100              104.00000 1.00000\n",
       "536                30.00000 1.00000\n",
       "569                28.00000 1.00000\n",
       "821                25.00000 1.00000\n",
       "572               169.00000 1.00000\n",
       "979               249.00000 1.00000\n",
       "...                     ...     ...\n",
       "1073              135.00000     nan\n",
       "1074               32.00000     nan\n",
       "1075              170.00000     nan\n",
       "1076               46.00000     nan\n",
       "1080               29.00000     nan\n",
       "1082               34.00000     nan\n",
       "1083              123.00000     nan\n",
       "1086              100.00000     nan\n",
       "1087               28.00000     nan\n",
       "1088               12.00000     nan\n",
       "1089               12.00000     nan\n",
       "1090               40.00000     nan\n",
       "1091               12.00000     nan\n",
       "1092               12.00000     nan\n",
       "1093               34.00000     nan\n",
       "1095               12.00000     nan\n",
       "1096               12.00000     nan\n",
       "1097               12.00000     nan\n",
       "1098               12.00000     nan\n",
       "1101               40.00000     nan\n",
       "1103               28.00000     nan\n",
       "1104               33.00000     nan\n",
       "1105              166.00000     nan\n",
       "1106               31.00000     nan\n",
       "1107               48.00000     nan\n",
       "1108              103.00000     nan\n",
       "1110              152.00000     nan\n",
       "1112              119.00000     nan\n",
       "1114               94.00000     nan\n",
       "1115               26.00000     nan\n",
       "\n",
       "[866 rows x 2 columns]"
      ]
     },
     "execution_count": 28,
     "metadata": {},
     "output_type": "execute_result"
    }
   ],
   "source": [
    "train.groupby('coupon_id')['redemption_status'].value_counts().unstack().sort_values(by=1)\n",
    "# As we can see below, there are a lot of coupon_id's which have not been redeemed at all."
   ]
  },
  {
   "cell_type": "code",
   "execution_count": 29,
   "metadata": {
    "collapsed": false
   },
   "outputs": [
    {
     "data": {
      "text/html": [
       "<div>\n",
       "<style scoped>\n",
       "    .dataframe tbody tr th:only-of-type {\n",
       "        vertical-align: middle;\n",
       "    }\n",
       "\n",
       "    .dataframe tbody tr th {\n",
       "        vertical-align: top;\n",
       "    }\n",
       "\n",
       "    .dataframe thead th {\n",
       "        text-align: right;\n",
       "    }\n",
       "</style>\n",
       "<table border=\"1\" class=\"dataframe\">\n",
       "  <thead>\n",
       "    <tr style=\"text-align: right;\">\n",
       "      <th>redemption_status</th>\n",
       "      <th>0</th>\n",
       "      <th>1</th>\n",
       "    </tr>\n",
       "    <tr>\n",
       "      <th>customer_id</th>\n",
       "      <th></th>\n",
       "      <th></th>\n",
       "    </tr>\n",
       "  </thead>\n",
       "  <tbody>\n",
       "    <tr>\n",
       "      <th>795</th>\n",
       "      <td>126.00000</td>\n",
       "      <td>1.00000</td>\n",
       "    </tr>\n",
       "    <tr>\n",
       "      <th>1111</th>\n",
       "      <td>47.00000</td>\n",
       "      <td>1.00000</td>\n",
       "    </tr>\n",
       "    <tr>\n",
       "      <th>644</th>\n",
       "      <td>42.00000</td>\n",
       "      <td>1.00000</td>\n",
       "    </tr>\n",
       "    <tr>\n",
       "      <th>417</th>\n",
       "      <td>78.00000</td>\n",
       "      <td>1.00000</td>\n",
       "    </tr>\n",
       "    <tr>\n",
       "      <th>416</th>\n",
       "      <td>76.00000</td>\n",
       "      <td>1.00000</td>\n",
       "    </tr>\n",
       "    <tr>\n",
       "      <th>407</th>\n",
       "      <td>92.00000</td>\n",
       "      <td>1.00000</td>\n",
       "    </tr>\n",
       "    <tr>\n",
       "      <th>787</th>\n",
       "      <td>153.00000</td>\n",
       "      <td>1.00000</td>\n",
       "    </tr>\n",
       "    <tr>\n",
       "      <th>1166</th>\n",
       "      <td>57.00000</td>\n",
       "      <td>1.00000</td>\n",
       "    </tr>\n",
       "    <tr>\n",
       "      <th>385</th>\n",
       "      <td>39.00000</td>\n",
       "      <td>1.00000</td>\n",
       "    </tr>\n",
       "    <tr>\n",
       "      <th>1103</th>\n",
       "      <td>58.00000</td>\n",
       "      <td>1.00000</td>\n",
       "    </tr>\n",
       "    <tr>\n",
       "      <th>1168</th>\n",
       "      <td>46.00000</td>\n",
       "      <td>1.00000</td>\n",
       "    </tr>\n",
       "    <tr>\n",
       "      <th>1196</th>\n",
       "      <td>11.00000</td>\n",
       "      <td>1.00000</td>\n",
       "    </tr>\n",
       "    <tr>\n",
       "      <th>333</th>\n",
       "      <td>48.00000</td>\n",
       "      <td>1.00000</td>\n",
       "    </tr>\n",
       "    <tr>\n",
       "      <th>324</th>\n",
       "      <td>54.00000</td>\n",
       "      <td>1.00000</td>\n",
       "    </tr>\n",
       "    <tr>\n",
       "      <th>1231</th>\n",
       "      <td>78.00000</td>\n",
       "      <td>1.00000</td>\n",
       "    </tr>\n",
       "    <tr>\n",
       "      <th>648</th>\n",
       "      <td>81.00000</td>\n",
       "      <td>1.00000</td>\n",
       "    </tr>\n",
       "    <tr>\n",
       "      <th>303</th>\n",
       "      <td>69.00000</td>\n",
       "      <td>1.00000</td>\n",
       "    </tr>\n",
       "    <tr>\n",
       "      <th>857</th>\n",
       "      <td>60.00000</td>\n",
       "      <td>1.00000</td>\n",
       "    </tr>\n",
       "    <tr>\n",
       "      <th>295</th>\n",
       "      <td>79.00000</td>\n",
       "      <td>1.00000</td>\n",
       "    </tr>\n",
       "    <tr>\n",
       "      <th>370</th>\n",
       "      <td>21.00000</td>\n",
       "      <td>1.00000</td>\n",
       "    </tr>\n",
       "    <tr>\n",
       "      <th>450</th>\n",
       "      <td>72.00000</td>\n",
       "      <td>1.00000</td>\n",
       "    </tr>\n",
       "    <tr>\n",
       "      <th>452</th>\n",
       "      <td>47.00000</td>\n",
       "      <td>1.00000</td>\n",
       "    </tr>\n",
       "    <tr>\n",
       "      <th>1093</th>\n",
       "      <td>89.00000</td>\n",
       "      <td>1.00000</td>\n",
       "    </tr>\n",
       "    <tr>\n",
       "      <th>596</th>\n",
       "      <td>68.00000</td>\n",
       "      <td>1.00000</td>\n",
       "    </tr>\n",
       "    <tr>\n",
       "      <th>619</th>\n",
       "      <td>96.00000</td>\n",
       "      <td>1.00000</td>\n",
       "    </tr>\n",
       "    <tr>\n",
       "      <th>593</th>\n",
       "      <td>33.00000</td>\n",
       "      <td>1.00000</td>\n",
       "    </tr>\n",
       "    <tr>\n",
       "      <th>914</th>\n",
       "      <td>43.00000</td>\n",
       "      <td>1.00000</td>\n",
       "    </tr>\n",
       "    <tr>\n",
       "      <th>570</th>\n",
       "      <td>85.00000</td>\n",
       "      <td>1.00000</td>\n",
       "    </tr>\n",
       "    <tr>\n",
       "      <th>983</th>\n",
       "      <td>52.00000</td>\n",
       "      <td>1.00000</td>\n",
       "    </tr>\n",
       "    <tr>\n",
       "      <th>998</th>\n",
       "      <td>124.00000</td>\n",
       "      <td>1.00000</td>\n",
       "    </tr>\n",
       "    <tr>\n",
       "      <th>...</th>\n",
       "      <td>...</td>\n",
       "      <td>...</td>\n",
       "    </tr>\n",
       "    <tr>\n",
       "      <th>1535</th>\n",
       "      <td>21.00000</td>\n",
       "      <td>nan</td>\n",
       "    </tr>\n",
       "    <tr>\n",
       "      <th>1536</th>\n",
       "      <td>66.00000</td>\n",
       "      <td>nan</td>\n",
       "    </tr>\n",
       "    <tr>\n",
       "      <th>1537</th>\n",
       "      <td>67.00000</td>\n",
       "      <td>nan</td>\n",
       "    </tr>\n",
       "    <tr>\n",
       "      <th>1538</th>\n",
       "      <td>44.00000</td>\n",
       "      <td>nan</td>\n",
       "    </tr>\n",
       "    <tr>\n",
       "      <th>1539</th>\n",
       "      <td>48.00000</td>\n",
       "      <td>nan</td>\n",
       "    </tr>\n",
       "    <tr>\n",
       "      <th>1540</th>\n",
       "      <td>17.00000</td>\n",
       "      <td>nan</td>\n",
       "    </tr>\n",
       "    <tr>\n",
       "      <th>1541</th>\n",
       "      <td>24.00000</td>\n",
       "      <td>nan</td>\n",
       "    </tr>\n",
       "    <tr>\n",
       "      <th>1544</th>\n",
       "      <td>87.00000</td>\n",
       "      <td>nan</td>\n",
       "    </tr>\n",
       "    <tr>\n",
       "      <th>1545</th>\n",
       "      <td>55.00000</td>\n",
       "      <td>nan</td>\n",
       "    </tr>\n",
       "    <tr>\n",
       "      <th>1546</th>\n",
       "      <td>47.00000</td>\n",
       "      <td>nan</td>\n",
       "    </tr>\n",
       "    <tr>\n",
       "      <th>1550</th>\n",
       "      <td>83.00000</td>\n",
       "      <td>nan</td>\n",
       "    </tr>\n",
       "    <tr>\n",
       "      <th>1551</th>\n",
       "      <td>58.00000</td>\n",
       "      <td>nan</td>\n",
       "    </tr>\n",
       "    <tr>\n",
       "      <th>1554</th>\n",
       "      <td>17.00000</td>\n",
       "      <td>nan</td>\n",
       "    </tr>\n",
       "    <tr>\n",
       "      <th>1555</th>\n",
       "      <td>115.00000</td>\n",
       "      <td>nan</td>\n",
       "    </tr>\n",
       "    <tr>\n",
       "      <th>1557</th>\n",
       "      <td>31.00000</td>\n",
       "      <td>nan</td>\n",
       "    </tr>\n",
       "    <tr>\n",
       "      <th>1559</th>\n",
       "      <td>31.00000</td>\n",
       "      <td>nan</td>\n",
       "    </tr>\n",
       "    <tr>\n",
       "      <th>1560</th>\n",
       "      <td>22.00000</td>\n",
       "      <td>nan</td>\n",
       "    </tr>\n",
       "    <tr>\n",
       "      <th>1562</th>\n",
       "      <td>47.00000</td>\n",
       "      <td>nan</td>\n",
       "    </tr>\n",
       "    <tr>\n",
       "      <th>1564</th>\n",
       "      <td>13.00000</td>\n",
       "      <td>nan</td>\n",
       "    </tr>\n",
       "    <tr>\n",
       "      <th>1565</th>\n",
       "      <td>62.00000</td>\n",
       "      <td>nan</td>\n",
       "    </tr>\n",
       "    <tr>\n",
       "      <th>1566</th>\n",
       "      <td>54.00000</td>\n",
       "      <td>nan</td>\n",
       "    </tr>\n",
       "    <tr>\n",
       "      <th>1567</th>\n",
       "      <td>50.00000</td>\n",
       "      <td>nan</td>\n",
       "    </tr>\n",
       "    <tr>\n",
       "      <th>1568</th>\n",
       "      <td>54.00000</td>\n",
       "      <td>nan</td>\n",
       "    </tr>\n",
       "    <tr>\n",
       "      <th>1570</th>\n",
       "      <td>21.00000</td>\n",
       "      <td>nan</td>\n",
       "    </tr>\n",
       "    <tr>\n",
       "      <th>1571</th>\n",
       "      <td>24.00000</td>\n",
       "      <td>nan</td>\n",
       "    </tr>\n",
       "    <tr>\n",
       "      <th>1575</th>\n",
       "      <td>14.00000</td>\n",
       "      <td>nan</td>\n",
       "    </tr>\n",
       "    <tr>\n",
       "      <th>1576</th>\n",
       "      <td>15.00000</td>\n",
       "      <td>nan</td>\n",
       "    </tr>\n",
       "    <tr>\n",
       "      <th>1579</th>\n",
       "      <td>44.00000</td>\n",
       "      <td>nan</td>\n",
       "    </tr>\n",
       "    <tr>\n",
       "      <th>1580</th>\n",
       "      <td>42.00000</td>\n",
       "      <td>nan</td>\n",
       "    </tr>\n",
       "    <tr>\n",
       "      <th>1581</th>\n",
       "      <td>21.00000</td>\n",
       "      <td>nan</td>\n",
       "    </tr>\n",
       "  </tbody>\n",
       "</table>\n",
       "<p>1428 rows × 2 columns</p>\n",
       "</div>"
      ],
      "text/plain": [
       "redemption_status         0       1\n",
       "customer_id                        \n",
       "795               126.00000 1.00000\n",
       "1111               47.00000 1.00000\n",
       "644                42.00000 1.00000\n",
       "417                78.00000 1.00000\n",
       "416                76.00000 1.00000\n",
       "407                92.00000 1.00000\n",
       "787               153.00000 1.00000\n",
       "1166               57.00000 1.00000\n",
       "385                39.00000 1.00000\n",
       "1103               58.00000 1.00000\n",
       "1168               46.00000 1.00000\n",
       "1196               11.00000 1.00000\n",
       "333                48.00000 1.00000\n",
       "324                54.00000 1.00000\n",
       "1231               78.00000 1.00000\n",
       "648                81.00000 1.00000\n",
       "303                69.00000 1.00000\n",
       "857                60.00000 1.00000\n",
       "295                79.00000 1.00000\n",
       "370                21.00000 1.00000\n",
       "450                72.00000 1.00000\n",
       "452                47.00000 1.00000\n",
       "1093               89.00000 1.00000\n",
       "596                68.00000 1.00000\n",
       "619                96.00000 1.00000\n",
       "593                33.00000 1.00000\n",
       "914                43.00000 1.00000\n",
       "570                85.00000 1.00000\n",
       "983                52.00000 1.00000\n",
       "998               124.00000 1.00000\n",
       "...                     ...     ...\n",
       "1535               21.00000     nan\n",
       "1536               66.00000     nan\n",
       "1537               67.00000     nan\n",
       "1538               44.00000     nan\n",
       "1539               48.00000     nan\n",
       "1540               17.00000     nan\n",
       "1541               24.00000     nan\n",
       "1544               87.00000     nan\n",
       "1545               55.00000     nan\n",
       "1546               47.00000     nan\n",
       "1550               83.00000     nan\n",
       "1551               58.00000     nan\n",
       "1554               17.00000     nan\n",
       "1555              115.00000     nan\n",
       "1557               31.00000     nan\n",
       "1559               31.00000     nan\n",
       "1560               22.00000     nan\n",
       "1562               47.00000     nan\n",
       "1564               13.00000     nan\n",
       "1565               62.00000     nan\n",
       "1566               54.00000     nan\n",
       "1567               50.00000     nan\n",
       "1568               54.00000     nan\n",
       "1570               21.00000     nan\n",
       "1571               24.00000     nan\n",
       "1575               14.00000     nan\n",
       "1576               15.00000     nan\n",
       "1579               44.00000     nan\n",
       "1580               42.00000     nan\n",
       "1581               21.00000     nan\n",
       "\n",
       "[1428 rows x 2 columns]"
      ]
     },
     "execution_count": 29,
     "metadata": {},
     "output_type": "execute_result"
    }
   ],
   "source": [
    "train.groupby('customer_id')['redemption_status'].value_counts().unstack().sort_values(by=1)\n",
    "# As we can see below, there are a lot of customers who have not redeemed coupons at all."
   ]
  },
  {
   "cell_type": "code",
   "execution_count": 30,
   "metadata": {
    "collapsed": false
   },
   "outputs": [
    {
     "data": {
      "text/html": [
       "<div>\n",
       "<style scoped>\n",
       "    .dataframe tbody tr th:only-of-type {\n",
       "        vertical-align: middle;\n",
       "    }\n",
       "\n",
       "    .dataframe tbody tr th {\n",
       "        vertical-align: top;\n",
       "    }\n",
       "\n",
       "    .dataframe thead th {\n",
       "        text-align: right;\n",
       "    }\n",
       "</style>\n",
       "<table border=\"1\" class=\"dataframe\">\n",
       "  <thead>\n",
       "    <tr style=\"text-align: right;\">\n",
       "      <th></th>\n",
       "      <th>coupon_id</th>\n",
       "      <th>campaign_id</th>\n",
       "      <th>customer_id</th>\n",
       "    </tr>\n",
       "  </thead>\n",
       "  <tbody>\n",
       "    <tr>\n",
       "      <th>44</th>\n",
       "      <td>413</td>\n",
       "      <td>13</td>\n",
       "      <td>276</td>\n",
       "    </tr>\n",
       "    <tr>\n",
       "      <th>181</th>\n",
       "      <td>960</td>\n",
       "      <td>13</td>\n",
       "      <td>467</td>\n",
       "    </tr>\n",
       "    <tr>\n",
       "      <th>217</th>\n",
       "      <td>797</td>\n",
       "      <td>26</td>\n",
       "      <td>214</td>\n",
       "    </tr>\n",
       "    <tr>\n",
       "      <th>237</th>\n",
       "      <td>754</td>\n",
       "      <td>13</td>\n",
       "      <td>1103</td>\n",
       "    </tr>\n",
       "    <tr>\n",
       "      <th>607</th>\n",
       "      <td>21</td>\n",
       "      <td>13</td>\n",
       "      <td>1457</td>\n",
       "    </tr>\n",
       "    <tr>\n",
       "      <th>678</th>\n",
       "      <td>677</td>\n",
       "      <td>6</td>\n",
       "      <td>1192</td>\n",
       "    </tr>\n",
       "    <tr>\n",
       "      <th>697</th>\n",
       "      <td>586</td>\n",
       "      <td>13</td>\n",
       "      <td>1136</td>\n",
       "    </tr>\n",
       "    <tr>\n",
       "      <th>882</th>\n",
       "      <td>754</td>\n",
       "      <td>13</td>\n",
       "      <td>1319</td>\n",
       "    </tr>\n",
       "    <tr>\n",
       "      <th>997</th>\n",
       "      <td>674</td>\n",
       "      <td>8</td>\n",
       "      <td>1582</td>\n",
       "    </tr>\n",
       "    <tr>\n",
       "      <th>1084</th>\n",
       "      <td>578</td>\n",
       "      <td>9</td>\n",
       "      <td>63</td>\n",
       "    </tr>\n",
       "    <tr>\n",
       "      <th>1115</th>\n",
       "      <td>569</td>\n",
       "      <td>26</td>\n",
       "      <td>15</td>\n",
       "    </tr>\n",
       "    <tr>\n",
       "      <th>1203</th>\n",
       "      <td>23</td>\n",
       "      <td>13</td>\n",
       "      <td>608</td>\n",
       "    </tr>\n",
       "    <tr>\n",
       "      <th>1250</th>\n",
       "      <td>468</td>\n",
       "      <td>26</td>\n",
       "      <td>626</td>\n",
       "    </tr>\n",
       "    <tr>\n",
       "      <th>1355</th>\n",
       "      <td>465</td>\n",
       "      <td>8</td>\n",
       "      <td>1085</td>\n",
       "    </tr>\n",
       "    <tr>\n",
       "      <th>1366</th>\n",
       "      <td>512</td>\n",
       "      <td>13</td>\n",
       "      <td>162</td>\n",
       "    </tr>\n",
       "    <tr>\n",
       "      <th>1553</th>\n",
       "      <td>21</td>\n",
       "      <td>13</td>\n",
       "      <td>1558</td>\n",
       "    </tr>\n",
       "    <tr>\n",
       "      <th>1576</th>\n",
       "      <td>578</td>\n",
       "      <td>9</td>\n",
       "      <td>1198</td>\n",
       "    </tr>\n",
       "    <tr>\n",
       "      <th>1636</th>\n",
       "      <td>981</td>\n",
       "      <td>8</td>\n",
       "      <td>1578</td>\n",
       "    </tr>\n",
       "    <tr>\n",
       "      <th>1715</th>\n",
       "      <td>786</td>\n",
       "      <td>13</td>\n",
       "      <td>792</td>\n",
       "    </tr>\n",
       "    <tr>\n",
       "      <th>1862</th>\n",
       "      <td>913</td>\n",
       "      <td>11</td>\n",
       "      <td>839</td>\n",
       "    </tr>\n",
       "    <tr>\n",
       "      <th>2090</th>\n",
       "      <td>1018</td>\n",
       "      <td>8</td>\n",
       "      <td>257</td>\n",
       "    </tr>\n",
       "    <tr>\n",
       "      <th>2226</th>\n",
       "      <td>942</td>\n",
       "      <td>13</td>\n",
       "      <td>1327</td>\n",
       "    </tr>\n",
       "    <tr>\n",
       "      <th>2277</th>\n",
       "      <td>673</td>\n",
       "      <td>13</td>\n",
       "      <td>367</td>\n",
       "    </tr>\n",
       "    <tr>\n",
       "      <th>2577</th>\n",
       "      <td>1099</td>\n",
       "      <td>11</td>\n",
       "      <td>60</td>\n",
       "    </tr>\n",
       "    <tr>\n",
       "      <th>2758</th>\n",
       "      <td>726</td>\n",
       "      <td>13</td>\n",
       "      <td>1093</td>\n",
       "    </tr>\n",
       "    <tr>\n",
       "      <th>2892</th>\n",
       "      <td>465</td>\n",
       "      <td>13</td>\n",
       "      <td>627</td>\n",
       "    </tr>\n",
       "    <tr>\n",
       "      <th>2981</th>\n",
       "      <td>1065</td>\n",
       "      <td>13</td>\n",
       "      <td>243</td>\n",
       "    </tr>\n",
       "    <tr>\n",
       "      <th>3016</th>\n",
       "      <td>669</td>\n",
       "      <td>11</td>\n",
       "      <td>8</td>\n",
       "    </tr>\n",
       "    <tr>\n",
       "      <th>3037</th>\n",
       "      <td>444</td>\n",
       "      <td>9</td>\n",
       "      <td>1198</td>\n",
       "    </tr>\n",
       "    <tr>\n",
       "      <th>3081</th>\n",
       "      <td>705</td>\n",
       "      <td>13</td>\n",
       "      <td>257</td>\n",
       "    </tr>\n",
       "    <tr>\n",
       "      <th>...</th>\n",
       "      <td>...</td>\n",
       "      <td>...</td>\n",
       "      <td>...</td>\n",
       "    </tr>\n",
       "    <tr>\n",
       "      <th>74358</th>\n",
       "      <td>919</td>\n",
       "      <td>13</td>\n",
       "      <td>835</td>\n",
       "    </tr>\n",
       "    <tr>\n",
       "      <th>74428</th>\n",
       "      <td>1017</td>\n",
       "      <td>8</td>\n",
       "      <td>594</td>\n",
       "    </tr>\n",
       "    <tr>\n",
       "      <th>74445</th>\n",
       "      <td>661</td>\n",
       "      <td>8</td>\n",
       "      <td>416</td>\n",
       "    </tr>\n",
       "    <tr>\n",
       "      <th>74529</th>\n",
       "      <td>665</td>\n",
       "      <td>30</td>\n",
       "      <td>1415</td>\n",
       "    </tr>\n",
       "    <tr>\n",
       "      <th>74543</th>\n",
       "      <td>24</td>\n",
       "      <td>13</td>\n",
       "      <td>303</td>\n",
       "    </tr>\n",
       "    <tr>\n",
       "      <th>74631</th>\n",
       "      <td>678</td>\n",
       "      <td>30</td>\n",
       "      <td>1026</td>\n",
       "    </tr>\n",
       "    <tr>\n",
       "      <th>74816</th>\n",
       "      <td>1084</td>\n",
       "      <td>8</td>\n",
       "      <td>366</td>\n",
       "    </tr>\n",
       "    <tr>\n",
       "      <th>75119</th>\n",
       "      <td>661</td>\n",
       "      <td>8</td>\n",
       "      <td>243</td>\n",
       "    </tr>\n",
       "    <tr>\n",
       "      <th>75226</th>\n",
       "      <td>586</td>\n",
       "      <td>13</td>\n",
       "      <td>926</td>\n",
       "    </tr>\n",
       "    <tr>\n",
       "      <th>75782</th>\n",
       "      <td>726</td>\n",
       "      <td>13</td>\n",
       "      <td>565</td>\n",
       "    </tr>\n",
       "    <tr>\n",
       "      <th>75895</th>\n",
       "      <td>780</td>\n",
       "      <td>13</td>\n",
       "      <td>1070</td>\n",
       "    </tr>\n",
       "    <tr>\n",
       "      <th>75941</th>\n",
       "      <td>776</td>\n",
       "      <td>26</td>\n",
       "      <td>566</td>\n",
       "    </tr>\n",
       "    <tr>\n",
       "      <th>76066</th>\n",
       "      <td>9</td>\n",
       "      <td>8</td>\n",
       "      <td>1052</td>\n",
       "    </tr>\n",
       "    <tr>\n",
       "      <th>76080</th>\n",
       "      <td>27</td>\n",
       "      <td>13</td>\n",
       "      <td>1534</td>\n",
       "    </tr>\n",
       "    <tr>\n",
       "      <th>76101</th>\n",
       "      <td>449</td>\n",
       "      <td>8</td>\n",
       "      <td>1085</td>\n",
       "    </tr>\n",
       "    <tr>\n",
       "      <th>76184</th>\n",
       "      <td>468</td>\n",
       "      <td>13</td>\n",
       "      <td>1457</td>\n",
       "    </tr>\n",
       "    <tr>\n",
       "      <th>76332</th>\n",
       "      <td>705</td>\n",
       "      <td>9</td>\n",
       "      <td>556</td>\n",
       "    </tr>\n",
       "    <tr>\n",
       "      <th>76360</th>\n",
       "      <td>435</td>\n",
       "      <td>26</td>\n",
       "      <td>626</td>\n",
       "    </tr>\n",
       "    <tr>\n",
       "      <th>76609</th>\n",
       "      <td>643</td>\n",
       "      <td>29</td>\n",
       "      <td>113</td>\n",
       "    </tr>\n",
       "    <tr>\n",
       "      <th>76952</th>\n",
       "      <td>619</td>\n",
       "      <td>29</td>\n",
       "      <td>876</td>\n",
       "    </tr>\n",
       "    <tr>\n",
       "      <th>76976</th>\n",
       "      <td>622</td>\n",
       "      <td>8</td>\n",
       "      <td>1210</td>\n",
       "    </tr>\n",
       "    <tr>\n",
       "      <th>77337</th>\n",
       "      <td>624</td>\n",
       "      <td>8</td>\n",
       "      <td>823</td>\n",
       "    </tr>\n",
       "    <tr>\n",
       "      <th>77346</th>\n",
       "      <td>667</td>\n",
       "      <td>13</td>\n",
       "      <td>1070</td>\n",
       "    </tr>\n",
       "    <tr>\n",
       "      <th>77482</th>\n",
       "      <td>981</td>\n",
       "      <td>8</td>\n",
       "      <td>1336</td>\n",
       "    </tr>\n",
       "    <tr>\n",
       "      <th>77496</th>\n",
       "      <td>530</td>\n",
       "      <td>13</td>\n",
       "      <td>490</td>\n",
       "    </tr>\n",
       "    <tr>\n",
       "      <th>77617</th>\n",
       "      <td>982</td>\n",
       "      <td>13</td>\n",
       "      <td>1408</td>\n",
       "    </tr>\n",
       "    <tr>\n",
       "      <th>77729</th>\n",
       "      <td>885</td>\n",
       "      <td>13</td>\n",
       "      <td>781</td>\n",
       "    </tr>\n",
       "    <tr>\n",
       "      <th>77830</th>\n",
       "      <td>726</td>\n",
       "      <td>13</td>\n",
       "      <td>407</td>\n",
       "    </tr>\n",
       "    <tr>\n",
       "      <th>78060</th>\n",
       "      <td>705</td>\n",
       "      <td>9</td>\n",
       "      <td>999</td>\n",
       "    </tr>\n",
       "    <tr>\n",
       "      <th>78102</th>\n",
       "      <td>392</td>\n",
       "      <td>7</td>\n",
       "      <td>63</td>\n",
       "    </tr>\n",
       "  </tbody>\n",
       "</table>\n",
       "<p>729 rows × 3 columns</p>\n",
       "</div>"
      ],
      "text/plain": [
       "       coupon_id  campaign_id  customer_id\n",
       "44           413           13          276\n",
       "181          960           13          467\n",
       "217          797           26          214\n",
       "237          754           13         1103\n",
       "607           21           13         1457\n",
       "678          677            6         1192\n",
       "697          586           13         1136\n",
       "882          754           13         1319\n",
       "997          674            8         1582\n",
       "1084         578            9           63\n",
       "1115         569           26           15\n",
       "1203          23           13          608\n",
       "1250         468           26          626\n",
       "1355         465            8         1085\n",
       "1366         512           13          162\n",
       "1553          21           13         1558\n",
       "1576         578            9         1198\n",
       "1636         981            8         1578\n",
       "1715         786           13          792\n",
       "1862         913           11          839\n",
       "2090        1018            8          257\n",
       "2226         942           13         1327\n",
       "2277         673           13          367\n",
       "2577        1099           11           60\n",
       "2758         726           13         1093\n",
       "2892         465           13          627\n",
       "2981        1065           13          243\n",
       "3016         669           11            8\n",
       "3037         444            9         1198\n",
       "3081         705           13          257\n",
       "...          ...          ...          ...\n",
       "74358        919           13          835\n",
       "74428       1017            8          594\n",
       "74445        661            8          416\n",
       "74529        665           30         1415\n",
       "74543         24           13          303\n",
       "74631        678           30         1026\n",
       "74816       1084            8          366\n",
       "75119        661            8          243\n",
       "75226        586           13          926\n",
       "75782        726           13          565\n",
       "75895        780           13         1070\n",
       "75941        776           26          566\n",
       "76066          9            8         1052\n",
       "76080         27           13         1534\n",
       "76101        449            8         1085\n",
       "76184        468           13         1457\n",
       "76332        705            9          556\n",
       "76360        435           26          626\n",
       "76609        643           29          113\n",
       "76952        619           29          876\n",
       "76976        622            8         1210\n",
       "77337        624            8          823\n",
       "77346        667           13         1070\n",
       "77482        981            8         1336\n",
       "77496        530           13          490\n",
       "77617        982           13         1408\n",
       "77729        885           13          781\n",
       "77830        726           13          407\n",
       "78060        705            9          999\n",
       "78102        392            7           63\n",
       "\n",
       "[729 rows x 3 columns]"
      ]
     },
     "execution_count": 30,
     "metadata": {},
     "output_type": "execute_result"
    }
   ],
   "source": [
    "train[train['redemption_status'] == 1][['coupon_id','campaign_id','customer_id']]"
   ]
  },
  {
   "cell_type": "code",
   "execution_count": 31,
   "metadata": {
    "collapsed": false
   },
   "outputs": [
    {
     "name": "stdout",
     "output_type": "stream",
     "text": [
      "Number of Unique Coupons redeemed by customers are: 239\n",
      "Number of Unique Coupons not redeemed by customers are: 627\n"
     ]
    }
   ],
   "source": [
    "print (\"Number of Unique Coupons redeemed by customers are:\",train[train['redemption_status'] == 1]['coupon_id'].nunique())\n",
    "print (\"Number of Unique Coupons not redeemed by customers are:\",866-train[train['redemption_status'] == 1]['coupon_id'].nunique())\n",
    "# Only 239 out of 866 coupons have been redeemed by the customers."
   ]
  },
  {
   "cell_type": "code",
   "execution_count": 32,
   "metadata": {
    "collapsed": false
   },
   "outputs": [
    {
     "data": {
      "text/plain": [
       "18"
      ]
     },
     "execution_count": 32,
     "metadata": {},
     "output_type": "execute_result"
    }
   ],
   "source": [
    "train[train['redemption_status'] == 1]['campaign_id'].nunique()"
   ]
  },
  {
   "cell_type": "code",
   "execution_count": 33,
   "metadata": {
    "collapsed": false
   },
   "outputs": [
    {
     "name": "stdout",
     "output_type": "stream",
     "text": [
      "Number of Unique Customer who renewed at least one coupon are: 247\n",
      "Number of Unique Customer who did not renew a single coupon are: 1181\n"
     ]
    }
   ],
   "source": [
    "print (\"Number of Unique Customer who renewed at least one coupon are:\",train[train['redemption_status'] == 1]['customer_id'].nunique())\n",
    "print (\"Number of Unique Customer who did not renew a single coupon are:\",1428-train[train['redemption_status'] == 1]['customer_id'].nunique())\n",
    "# Only 247 out of 1468 customers have renewed the coupons available"
   ]
  },
  {
   "cell_type": "code",
   "execution_count": null,
   "metadata": {
    "collapsed": true
   },
   "outputs": [],
   "source": []
  },
  {
   "cell_type": "markdown",
   "metadata": {},
   "source": [
    "#### EDA Test Data"
   ]
  },
  {
   "cell_type": "code",
   "execution_count": 34,
   "metadata": {
    "collapsed": false
   },
   "outputs": [
    {
     "data": {
      "text/plain": [
       "(50226, 4)"
      ]
     },
     "execution_count": 34,
     "metadata": {},
     "output_type": "execute_result"
    }
   ],
   "source": [
    "test.shape"
   ]
  },
  {
   "cell_type": "code",
   "execution_count": 35,
   "metadata": {
    "collapsed": false
   },
   "outputs": [
    {
     "data": {
      "text/plain": [
       "id             0\n",
       "campaign_id    0\n",
       "coupon_id      0\n",
       "customer_id    0\n",
       "dtype: int64"
      ]
     },
     "execution_count": 35,
     "metadata": {},
     "output_type": "execute_result"
    }
   ],
   "source": [
    "test.isnull().sum()"
   ]
  },
  {
   "cell_type": "code",
   "execution_count": 36,
   "metadata": {
    "collapsed": false
   },
   "outputs": [
    {
     "name": "stdout",
     "output_type": "stream",
     "text": [
      "Number of Unique Values in id column in tranining data are: 50226\n",
      "Number of Unique Values in campaign_id column in tranining data are: 10\n",
      "Number of Unique Values in coupon_id column in tranining data are: 331\n",
      "Number of Unique Values in customer_id column in tranining data are: 1250\n"
     ]
    }
   ],
   "source": [
    "for col in test.columns:\n",
    "    print (\"Number of Unique Values in {} column in tranining data are:\".format(col),test[col].nunique())"
   ]
  },
  {
   "cell_type": "code",
   "execution_count": 37,
   "metadata": {
    "collapsed": false
   },
   "outputs": [
    {
     "data": {
      "text/plain": [
       "<matplotlib.axes._subplots.AxesSubplot at 0x203807c8518>"
      ]
     },
     "execution_count": 37,
     "metadata": {},
     "output_type": "execute_result"
    },
    {
     "data": {
      "image/png": "[encoded data removed]",
      "text/plain": [
       "<Figure size 432x288 with 1 Axes>"
      ]
     },
     "metadata": {},
     "output_type": "display_data"
    }
   ],
   "source": [
    "test['campaign_id'].value_counts().plot(kind='bar')\n",
    "# These campaign id are different from the ones in train data."
   ]
  },
  {
   "cell_type": "code",
   "execution_count": null,
   "metadata": {
    "collapsed": true
   },
   "outputs": [],
   "source": []
  },
  {
   "cell_type": "markdown",
   "metadata": {},
   "source": [
    "#### EDA Campaign Data"
   ]
  },
  {
   "cell_type": "code",
   "execution_count": 38,
   "metadata": {
    "collapsed": false
   },
   "outputs": [
    {
     "data": {
      "text/plain": [
       "campaign_id      0\n",
       "campaign_type    0\n",
       "start_date       0\n",
       "end_date         0\n",
       "dtype: int64"
      ]
     },
     "execution_count": 38,
     "metadata": {},
     "output_type": "execute_result"
    }
   ],
   "source": [
    "campaign.isnull().sum()"
   ]
  },
  {
   "cell_type": "code",
   "execution_count": 39,
   "metadata": {
    "collapsed": false
   },
   "outputs": [
    {
     "name": "stdout",
     "output_type": "stream",
     "text": [
      "Number Of Unique Campaigns in the Campaign data: 28\n"
     ]
    }
   ],
   "source": [
    "print (\"Number Of Unique Campaigns in the Campaign data:\",campaign['campaign_id'].nunique())\n",
    "# As mentioned in the competition the campaign data has campaign_id's of both Train and test data."
   ]
  },
  {
   "cell_type": "code",
   "execution_count": 40,
   "metadata": {
    "collapsed": false
   },
   "outputs": [
    {
     "data": {
      "text/plain": [
       "Y    22\n",
       "X     6\n",
       "Name: campaign_type, dtype: int64"
      ]
     },
     "execution_count": 40,
     "metadata": {},
     "output_type": "execute_result"
    }
   ],
   "source": [
    "campaign['campaign_type'].value_counts()\n",
    "# There are only two unique campaign_type "
   ]
  },
  {
   "cell_type": "code",
   "execution_count": 41,
   "metadata": {
    "collapsed": false
   },
   "outputs": [],
   "source": [
    "# Creating different columns with respect to start\n",
    "campaign['Campaign_Start_Day'] = campaign.start_date.dt.day\n",
    "campaign['Campaign_Start_Month'] = campaign.start_date.dt.month\n",
    "campaign['Campaign_Start_Year'] = campaign.start_date.dt.year\n",
    "campaign['Campaign_Start_Quarter'] = campaign.start_date.dt.quarter\n",
    "campaign['Campaign_Start_DayOfWeek'] = campaign.start_date.dt.dayofweek\n",
    "campaign['Campaign_Start_MonthStart'] = campaign.start_date.dt.is_month_start\n",
    "campaign['Campaign_Start_MonthEnd'] = campaign.start_date.dt.is_month_end\n",
    "campaign['Campaign_Start_QuarterStart'] = campaign.start_date.dt.is_quarter_start\n",
    "campaign['Campaign_Start_QuarterEnd'] = campaign.start_date.dt.is_quarter_end\n",
    "campaign['Campaign_Start_YearStart'] = campaign.start_date.dt.is_year_start\n",
    "campaign['Campaign_Start_YearEnd'] = campaign.start_date.dt.is_year_end\n",
    "\n",
    "campaign['Campaign_End_Day'] = campaign.end_date.dt.day\n",
    "campaign['Campaign_End_Month'] = campaign.end_date.dt.month\n",
    "campaign['Campaign_End_Year'] = campaign.end_date.dt.year\n",
    "campaign['Campaign_End_Quarter'] = campaign.end_date.dt.quarter\n",
    "campaign['Campaign_End_DayOfWeek'] = campaign.end_date.dt.dayofweek\n",
    "campaign['Campaign_End_MonthStart'] = campaign.end_date.dt.is_month_start\n",
    "campaign['Campaign_End_MonthEnd'] = campaign.end_date.dt.is_month_end\n",
    "campaign['Campaign_End_QuarterStart'] = campaign.end_date.dt.is_quarter_start\n",
    "campaign['Campaign_End_QuarterEnd'] = campaign.end_date.dt.is_quarter_end\n",
    "campaign['Campaign_End_YearStart'] = campaign.end_date.dt.is_year_start\n",
    "campaign['Campaign_End_YearEnd'] = campaign.end_date.dt.is_year_end"
   ]
  },
  {
   "cell_type": "markdown",
   "metadata": {},
   "source": [
    "Combining data and the campaign datasets to get additional details about campaign start date and end date into the training set"
   ]
  },
  {
   "cell_type": "code",
   "execution_count": null,
   "metadata": {
    "collapsed": true
   },
   "outputs": [],
   "source": []
  },
  {
   "cell_type": "markdown",
   "metadata": {},
   "source": [
    "#### EDA Demographics data"
   ]
  },
  {
   "cell_type": "code",
   "execution_count": 42,
   "metadata": {
    "collapsed": false
   },
   "outputs": [
    {
     "data": {
      "text/plain": [
       "(760, 7)"
      ]
     },
     "execution_count": 42,
     "metadata": {},
     "output_type": "execute_result"
    }
   ],
   "source": [
    "demographics.shape"
   ]
  },
  {
   "cell_type": "code",
   "execution_count": 43,
   "metadata": {
    "collapsed": false
   },
   "outputs": [
    {
     "data": {
      "text/plain": [
       "customer_id         0\n",
       "age_range           0\n",
       "marital_status    329\n",
       "rented              0\n",
       "family_size         0\n",
       "no_of_children    538\n",
       "income_bracket      0\n",
       "dtype: int64"
      ]
     },
     "execution_count": 43,
     "metadata": {},
     "output_type": "execute_result"
    }
   ],
   "source": [
    "demographics.isnull().sum()\n",
    "# There are missing values in marital_status and no_of_children columns."
   ]
  },
  {
   "cell_type": "code",
   "execution_count": 44,
   "metadata": {
    "collapsed": false
   },
   "outputs": [
    {
     "name": "stdout",
     "output_type": "stream",
     "text": [
      "Number of Unique Values in customer_id variable are: 760\n",
      "Number of Unique Values in age_range variable are: 6\n",
      "Number of Unique Values in marital_status variable are: 2\n",
      "Number of Unique Values in rented variable are: 2\n",
      "Number of Unique Values in family_size variable are: 5\n",
      "Number of Unique Values in no_of_children variable are: 3\n",
      "Number of Unique Values in income_bracket variable are: 12\n"
     ]
    }
   ],
   "source": [
    "for col in demographics.columns:\n",
    "    print (\"Number of Unique Values in {} variable are:\".format(col),demographics[col].nunique())"
   ]
  },
  {
   "cell_type": "code",
   "execution_count": 45,
   "metadata": {
    "collapsed": false
   },
   "outputs": [
    {
     "data": {
      "text/plain": [
       "Text(0,0.5,'Count')"
      ]
     },
     "execution_count": 45,
     "metadata": {},
     "output_type": "execute_result"
    },
    {
     "data": {
      "image/png": "[encoded data removed]",
      "text/plain": [
       "<Figure size 432x288 with 1 Axes>"
      ]
     },
     "metadata": {},
     "output_type": "display_data"
    }
   ],
   "source": [
    "demographics['age_range'].value_counts().plot(kind='bar')\n",
    "plt.title(\"Age distribution of customers\")\n",
    "plt.xlabel(\"Age Range\")\n",
    "plt.ylabel(\"Count\")"
   ]
  },
  {
   "cell_type": "code",
   "execution_count": 46,
   "metadata": {
    "collapsed": false
   },
   "outputs": [
    {
     "data": {
      "text/plain": [
       "Text(0,0.5,'Count')"
      ]
     },
     "execution_count": 46,
     "metadata": {},
     "output_type": "execute_result"
    },
    {
     "data": {
      "image/png": "[encoded data removed]",
      "text/plain": [
       "<Figure size 432x288 with 1 Axes>"
      ]
     },
     "metadata": {},
     "output_type": "display_data"
    }
   ],
   "source": [
    "demographics['marital_status'].value_counts(dropna=False).plot(kind='bar')\n",
    "plt.title(\"Marital_Status distribution of customers\")\n",
    "plt.xlabel(\"Marital Status\")\n",
    "plt.ylabel(\"Count\")"
   ]
  },
  {
   "cell_type": "code",
   "execution_count": 47,
   "metadata": {
    "collapsed": false
   },
   "outputs": [
    {
     "data": {
      "text/plain": [
       "Text(0,0.5,'Count')"
      ]
     },
     "execution_count": 47,
     "metadata": {},
     "output_type": "execute_result"
    },
    {
     "data": {
      "image/png": "[encoded data removed]",
      "text/plain": [
       "<Figure size 432x288 with 1 Axes>"
      ]
     },
     "metadata": {},
     "output_type": "display_data"
    }
   ],
   "source": [
    "demographics['rented'].value_counts(dropna=False).plot(kind='bar')\n",
    "plt.title(\"Distribution of Rented Variable\")\n",
    "plt.xlabel(\"Rented (0-NotRented,1-Rented)\")\n",
    "plt.ylabel(\"Count\")"
   ]
  },
  {
   "cell_type": "code",
   "execution_count": 48,
   "metadata": {
    "collapsed": false
   },
   "outputs": [
    {
     "data": {
      "text/plain": [
       "Text(0,0.5,'Count')"
      ]
     },
     "execution_count": 48,
     "metadata": {},
     "output_type": "execute_result"
    },
    {
     "data": {
      "image/png": "[encoded data removed]",
      "text/plain": [
       "<Figure size 432x288 with 1 Axes>"
      ]
     },
     "metadata": {},
     "output_type": "display_data"
    }
   ],
   "source": [
    "demographics['family_size'].value_counts(dropna=False).plot(kind='bar')\n",
    "plt.title(\"Distribution of Family Size Variable\")\n",
    "plt.xlabel(\"Family Size\")\n",
    "plt.ylabel(\"Count\")"
   ]
  },
  {
   "cell_type": "code",
   "execution_count": 49,
   "metadata": {
    "collapsed": false
   },
   "outputs": [
    {
     "data": {
      "text/plain": [
       "Text(0,0.5,'Count')"
      ]
     },
     "execution_count": 49,
     "metadata": {},
     "output_type": "execute_result"
    },
    {
     "data": {
      "image/png": "[encoded data removed]",
      "text/plain": [
       "<Figure size 432x288 with 1 Axes>"
      ]
     },
     "metadata": {},
     "output_type": "display_data"
    }
   ],
   "source": [
    "demographics['no_of_children'].value_counts(dropna=False).plot(kind='bar')\n",
    "plt.title(\"Distribution of Number of Children Variable\")\n",
    "plt.xlabel(\"Number of Children\")\n",
    "plt.ylabel(\"Count\")"
   ]
  },
  {
   "cell_type": "code",
   "execution_count": 50,
   "metadata": {
    "collapsed": false
   },
   "outputs": [
    {
     "data": {
      "text/plain": [
       "Text(0,0.5,'Count')"
      ]
     },
     "execution_count": 50,
     "metadata": {},
     "output_type": "execute_result"
    },
    {
     "data": {
      "image/png": "[encoded data removed]",
      "text/plain": [
       "<Figure size 432x288 with 1 Axes>"
      ]
     },
     "metadata": {},
     "output_type": "display_data"
    }
   ],
   "source": [
    "demographics['income_bracket'].value_counts(dropna=False).plot(kind='bar')\n",
    "plt.title(\"Distribution of Income Bracket Variable\")\n",
    "plt.xlabel(\"Income Bracket\")\n",
    "plt.ylabel(\"Count\")"
   ]
  },
  {
   "cell_type": "code",
   "execution_count": 51,
   "metadata": {
    "collapsed": true
   },
   "outputs": [],
   "source": [
    "demographics['marital_status'].fillna(demographics['marital_status'].value_counts(dropna=False).index[1],inplace=True)\n",
    "demographics['no_of_children'].fillna(demographics['no_of_children'].value_counts(dropna=False).index[1],inplace=True)"
   ]
  },
  {
   "cell_type": "code",
   "execution_count": 52,
   "metadata": {
    "collapsed": false
   },
   "outputs": [
    {
     "data": {
      "text/plain": [
       "customer_id       0\n",
       "age_range         0\n",
       "marital_status    0\n",
       "rented            0\n",
       "family_size       0\n",
       "no_of_children    0\n",
       "income_bracket    0\n",
       "dtype: int64"
      ]
     },
     "execution_count": 52,
     "metadata": {},
     "output_type": "execute_result"
    }
   ],
   "source": [
    "demographics.isnull().sum()"
   ]
  },
  {
   "cell_type": "code",
   "execution_count": 53,
   "metadata": {
    "collapsed": false
   },
   "outputs": [
    {
     "name": "stdout",
     "output_type": "stream",
     "text": [
      "<class 'pandas.core.frame.DataFrame'>\n",
      "RangeIndex: 760 entries, 0 to 759\n",
      "Data columns (total 7 columns):\n",
      "customer_id       760 non-null int64\n",
      "age_range         760 non-null object\n",
      "marital_status    760 non-null object\n",
      "rented            760 non-null int64\n",
      "family_size       760 non-null object\n",
      "no_of_children    760 non-null object\n",
      "income_bracket    760 non-null int64\n",
      "dtypes: int64(3), object(4)\n",
      "memory usage: 41.6+ KB\n"
     ]
    }
   ],
   "source": [
    "demographics.info()"
   ]
  },
  {
   "cell_type": "code",
   "execution_count": 54,
   "metadata": {
    "collapsed": true
   },
   "outputs": [],
   "source": [
    "demographics['income_bracket'] = demographics['income_bracket'].astype(\"object\")\n",
    "demographics['rented'] = demographics['rented'].astype(\"object\")"
   ]
  },
  {
   "cell_type": "code",
   "execution_count": 55,
   "metadata": {
    "collapsed": false,
    "scrolled": true
   },
   "outputs": [
    {
     "data": {
      "text/html": [
       "<div>\n",
       "<style scoped>\n",
       "    .dataframe tbody tr th:only-of-type {\n",
       "        vertical-align: middle;\n",
       "    }\n",
       "\n",
       "    .dataframe tbody tr th {\n",
       "        vertical-align: top;\n",
       "    }\n",
       "\n",
       "    .dataframe thead th {\n",
       "        text-align: right;\n",
       "    }\n",
       "</style>\n",
       "<table border=\"1\" class=\"dataframe\">\n",
       "  <thead>\n",
       "    <tr style=\"text-align: right;\">\n",
       "      <th></th>\n",
       "      <th>customer_id</th>\n",
       "      <th>age_range</th>\n",
       "      <th>marital_status</th>\n",
       "      <th>rented</th>\n",
       "      <th>family_size</th>\n",
       "      <th>no_of_children</th>\n",
       "      <th>income_bracket</th>\n",
       "    </tr>\n",
       "  </thead>\n",
       "  <tbody>\n",
       "    <tr>\n",
       "      <th>0</th>\n",
       "      <td>1</td>\n",
       "      <td>70+</td>\n",
       "      <td>Married</td>\n",
       "      <td>0</td>\n",
       "      <td>2</td>\n",
       "      <td>1</td>\n",
       "      <td>4</td>\n",
       "    </tr>\n",
       "    <tr>\n",
       "      <th>1</th>\n",
       "      <td>6</td>\n",
       "      <td>46-55</td>\n",
       "      <td>Married</td>\n",
       "      <td>0</td>\n",
       "      <td>2</td>\n",
       "      <td>1</td>\n",
       "      <td>5</td>\n",
       "    </tr>\n",
       "    <tr>\n",
       "      <th>2</th>\n",
       "      <td>7</td>\n",
       "      <td>26-35</td>\n",
       "      <td>Married</td>\n",
       "      <td>0</td>\n",
       "      <td>3</td>\n",
       "      <td>1</td>\n",
       "      <td>3</td>\n",
       "    </tr>\n",
       "    <tr>\n",
       "      <th>3</th>\n",
       "      <td>8</td>\n",
       "      <td>26-35</td>\n",
       "      <td>Married</td>\n",
       "      <td>0</td>\n",
       "      <td>4</td>\n",
       "      <td>2</td>\n",
       "      <td>6</td>\n",
       "    </tr>\n",
       "    <tr>\n",
       "      <th>4</th>\n",
       "      <td>10</td>\n",
       "      <td>46-55</td>\n",
       "      <td>Single</td>\n",
       "      <td>0</td>\n",
       "      <td>1</td>\n",
       "      <td>1</td>\n",
       "      <td>5</td>\n",
       "    </tr>\n",
       "  </tbody>\n",
       "</table>\n",
       "</div>"
      ],
      "text/plain": [
       "   customer_id age_range marital_status rented family_size no_of_children  \\\n",
       "0            1       70+        Married      0           2              1   \n",
       "1            6     46-55        Married      0           2              1   \n",
       "2            7     26-35        Married      0           3              1   \n",
       "3            8     26-35        Married      0           4              2   \n",
       "4           10     46-55         Single      0           1              1   \n",
       "\n",
       "  income_bracket  \n",
       "0              4  \n",
       "1              5  \n",
       "2              3  \n",
       "3              6  \n",
       "4              5  "
      ]
     },
     "execution_count": 55,
     "metadata": {},
     "output_type": "execute_result"
    }
   ],
   "source": [
    "demographics.head()"
   ]
  },
  {
   "cell_type": "code",
   "execution_count": null,
   "metadata": {
    "collapsed": true
   },
   "outputs": [],
   "source": []
  },
  {
   "cell_type": "markdown",
   "metadata": {},
   "source": [
    "#### EDA Mapping Data"
   ]
  },
  {
   "cell_type": "code",
   "execution_count": 56,
   "metadata": {
    "collapsed": false
   },
   "outputs": [
    {
     "data": {
      "text/plain": [
       "(92663, 2)"
      ]
     },
     "execution_count": 56,
     "metadata": {},
     "output_type": "execute_result"
    }
   ],
   "source": [
    "mapping.shape"
   ]
  },
  {
   "cell_type": "code",
   "execution_count": 57,
   "metadata": {
    "collapsed": false
   },
   "outputs": [
    {
     "name": "stdout",
     "output_type": "stream",
     "text": [
      "<class 'pandas.core.frame.DataFrame'>\n",
      "RangeIndex: 92663 entries, 0 to 92662\n",
      "Data columns (total 2 columns):\n",
      "coupon_id    92663 non-null int64\n",
      "item_id      92663 non-null int64\n",
      "dtypes: int64(2)\n",
      "memory usage: 1.4 MB\n"
     ]
    }
   ],
   "source": [
    "mapping.info()"
   ]
  },
  {
   "cell_type": "code",
   "execution_count": 58,
   "metadata": {
    "collapsed": false
   },
   "outputs": [
    {
     "name": "stdout",
     "output_type": "stream",
     "text": [
      "Number of Unique Values in coupon_id column in tranining data are: 1116\n",
      "Number of Unique Values in item_id column in tranining data are: 36289\n"
     ]
    }
   ],
   "source": [
    "for col in mapping.columns:\n",
    "    print (\"Number of Unique Values in {} column in tranining data are:\".format(col),mapping[col].nunique())"
   ]
  },
  {
   "cell_type": "markdown",
   "metadata": {},
   "source": [
    "1. There are a total of 36289 unique item_ids.\n",
    "2. Mapping data has a total of 1116 unique campaign_id's. "
   ]
  },
  {
   "cell_type": "code",
   "execution_count": null,
   "metadata": {
    "collapsed": true
   },
   "outputs": [],
   "source": []
  },
  {
   "cell_type": "markdown",
   "metadata": {},
   "source": [
    "#### EDA Transactions data"
   ]
  },
  {
   "cell_type": "code",
   "execution_count": 59,
   "metadata": {
    "collapsed": false
   },
   "outputs": [
    {
     "data": {
      "text/plain": [
       "(1324566, 7)"
      ]
     },
     "execution_count": 59,
     "metadata": {},
     "output_type": "execute_result"
    }
   ],
   "source": [
    "transactions.shape"
   ]
  },
  {
   "cell_type": "code",
   "execution_count": 60,
   "metadata": {
    "collapsed": false
   },
   "outputs": [
    {
     "data": {
      "text/plain": [
       "date               0\n",
       "customer_id        0\n",
       "item_id            0\n",
       "quantity           0\n",
       "selling_price      0\n",
       "other_discount     0\n",
       "coupon_discount    0\n",
       "dtype: int64"
      ]
     },
     "execution_count": 60,
     "metadata": {},
     "output_type": "execute_result"
    }
   ],
   "source": [
    "transactions.isnull().sum()"
   ]
  },
  {
   "cell_type": "code",
   "execution_count": 61,
   "metadata": {
    "collapsed": false
   },
   "outputs": [
    {
     "name": "stdout",
     "output_type": "stream",
     "text": [
      "<class 'pandas.core.frame.DataFrame'>\n",
      "RangeIndex: 1324566 entries, 0 to 1324565\n",
      "Data columns (total 7 columns):\n",
      "date               1324566 non-null datetime64[ns]\n",
      "customer_id        1324566 non-null int64\n",
      "item_id            1324566 non-null int64\n",
      "quantity           1324566 non-null int64\n",
      "selling_price      1324566 non-null float64\n",
      "other_discount     1324566 non-null float64\n",
      "coupon_discount    1324566 non-null float64\n",
      "dtypes: datetime64[ns](1), float64(3), int64(3)\n",
      "memory usage: 70.7 MB\n"
     ]
    }
   ],
   "source": [
    "transactions.info()"
   ]
  },
  {
   "cell_type": "code",
   "execution_count": 62,
   "metadata": {
    "collapsed": false
   },
   "outputs": [
    {
     "data": {
      "text/plain": [
       "(1582, 74063)"
      ]
     },
     "execution_count": 62,
     "metadata": {},
     "output_type": "execute_result"
    }
   ],
   "source": [
    "transactions['customer_id'].nunique(), transactions['item_id'].nunique()"
   ]
  },
  {
   "cell_type": "code",
   "execution_count": 63,
   "metadata": {
    "collapsed": false
   },
   "outputs": [
    {
     "data": {
      "text/plain": [
       "count   1324566.00000\n",
       "mean        114.60363\n",
       "std         152.90530\n",
       "min           0.36000\n",
       "25%          49.16000\n",
       "50%          78.01000\n",
       "75%         124.31000\n",
       "max       17809.64000\n",
       "Name: selling_price, dtype: float64"
      ]
     },
     "execution_count": 63,
     "metadata": {},
     "output_type": "execute_result"
    }
   ],
   "source": [
    "transactions['selling_price'].describe()"
   ]
  },
  {
   "cell_type": "code",
   "execution_count": 64,
   "metadata": {
    "collapsed": false
   },
   "outputs": [
    {
     "data": {
      "text/plain": [
       "<matplotlib.axes._subplots.AxesSubplot at 0x20385388240>"
      ]
     },
     "execution_count": 64,
     "metadata": {},
     "output_type": "execute_result"
    },
    {
     "data": {
      "image/png": "[encoded data removed]",
      "text/plain": [
       "<Figure size 432x288 with 1 Axes>"
      ]
     },
     "metadata": {},
     "output_type": "display_data"
    }
   ],
   "source": [
    "sns.boxplot(transactions['selling_price'])\n",
    "# There are some values in the selling price that stand out from the rest."
   ]
  },
  {
   "cell_type": "code",
   "execution_count": 65,
   "metadata": {
    "collapsed": false
   },
   "outputs": [],
   "source": [
    "lst = list(transactions[transactions['selling_price'] > 9000].index.values)\n",
    "transactions.drop(lst,inplace=True)"
   ]
  },
  {
   "cell_type": "code",
   "execution_count": 66,
   "metadata": {
    "collapsed": false
   },
   "outputs": [
    {
     "data": {
      "text/plain": [
       "<matplotlib.axes._subplots.AxesSubplot at 0x203853ddb38>"
      ]
     },
     "execution_count": 66,
     "metadata": {},
     "output_type": "execute_result"
    },
    {
     "data": {
      "image/png": "[encoded data removed]",
      "text/plain": [
       "<Figure size 432x288 with 1 Axes>"
      ]
     },
     "metadata": {},
     "output_type": "display_data"
    }
   ],
   "source": [
    "sns.boxplot(transactions['selling_price'])\n",
    "# There are some values in the selling price that stand out from the rest."
   ]
  },
  {
   "cell_type": "code",
   "execution_count": 67,
   "metadata": {
    "collapsed": true
   },
   "outputs": [],
   "source": [
    "transactions['other_discount'] = np.abs(transactions['other_discount'])\n",
    "transactions['coupon_discount'] = np.abs(transactions['coupon_discount'])\n",
    "\n",
    "transactions['MRP'] = transactions['selling_price']+transactions['other_discount']+transactions['coupon_discount']\n",
    "transactions['other_discount_pct'] = (transactions['other_discount']/transactions['MRP'])*100\n",
    "transactions['coupon_discount_pct'] = (transactions['coupon_discount']/transactions['MRP'])*100"
   ]
  },
  {
   "cell_type": "code",
   "execution_count": 68,
   "metadata": {
    "collapsed": false
   },
   "outputs": [],
   "source": [
    "transactions['transactions_Day'] = transactions.date.dt.day\n",
    "transactions['transactions_Month'] = transactions.date.dt.month\n",
    "transactions['transactions_Year'] = transactions.date.dt.year\n",
    "transactions['transactions_Quarter'] = transactions.date.dt.quarter\n",
    "transactions['transactions_DayOfWeek'] = transactions.date.dt.dayofweek"
   ]
  },
  {
   "cell_type": "code",
   "execution_count": null,
   "metadata": {
    "collapsed": true
   },
   "outputs": [],
   "source": []
  },
  {
   "cell_type": "markdown",
   "metadata": {},
   "source": [
    "#### EDA Item Data"
   ]
  },
  {
   "cell_type": "code",
   "execution_count": 69,
   "metadata": {
    "collapsed": false
   },
   "outputs": [
    {
     "data": {
      "text/plain": [
       "(74066, 4)"
      ]
     },
     "execution_count": 69,
     "metadata": {},
     "output_type": "execute_result"
    }
   ],
   "source": [
    "item.shape"
   ]
  },
  {
   "cell_type": "code",
   "execution_count": 70,
   "metadata": {
    "collapsed": false
   },
   "outputs": [
    {
     "name": "stdout",
     "output_type": "stream",
     "text": [
      "<class 'pandas.core.frame.DataFrame'>\n",
      "RangeIndex: 74066 entries, 0 to 74065\n",
      "Data columns (total 4 columns):\n",
      "item_id       74066 non-null int64\n",
      "brand         74066 non-null int64\n",
      "brand_type    74066 non-null object\n",
      "category      74066 non-null object\n",
      "dtypes: int64(2), object(2)\n",
      "memory usage: 2.3+ MB\n"
     ]
    }
   ],
   "source": [
    "item.info()"
   ]
  },
  {
   "cell_type": "code",
   "execution_count": 71,
   "metadata": {
    "collapsed": false
   },
   "outputs": [
    {
     "name": "stdout",
     "output_type": "stream",
     "text": [
      "Number of Unique Values in item_id column in tranining data are: 74066\n",
      "Number of Unique Values in brand column in tranining data are: 5528\n",
      "Number of Unique Values in brand_type column in tranining data are: 2\n",
      "Number of Unique Values in category column in tranining data are: 19\n"
     ]
    }
   ],
   "source": [
    "for col in item.columns:\n",
    "    print (\"Number of Unique Values in {} column in tranining data are:\".format(col),item[col].nunique())"
   ]
  },
  {
   "cell_type": "code",
   "execution_count": 72,
   "metadata": {
    "collapsed": false
   },
   "outputs": [
    {
     "data": {
      "text/plain": [
       "56      10480\n",
       "686      1142\n",
       "1        1091\n",
       "4700      923\n",
       "1262      906\n",
       "Name: brand, dtype: int64"
      ]
     },
     "execution_count": 72,
     "metadata": {},
     "output_type": "execute_result"
    }
   ],
   "source": [
    "item['brand'].value_counts().head()"
   ]
  },
  {
   "cell_type": "code",
   "execution_count": 73,
   "metadata": {
    "collapsed": false
   },
   "outputs": [
    {
     "data": {
      "text/plain": [
       "Established    62842\n",
       "Local          11224\n",
       "Name: brand_type, dtype: int64"
      ]
     },
     "execution_count": 73,
     "metadata": {},
     "output_type": "execute_result"
    }
   ],
   "source": [
    "item['brand_type'].value_counts()"
   ]
  },
  {
   "cell_type": "code",
   "execution_count": 74,
   "metadata": {
    "collapsed": false
   },
   "outputs": [
    {
     "data": {
      "text/plain": [
       "Text(0,0.5,'Count')"
      ]
     },
     "execution_count": 74,
     "metadata": {},
     "output_type": "execute_result"
    },
    {
     "data": {
      "image/png": "[encoded data removed]",
      "text/plain": [
       "<Figure size 432x288 with 1 Axes>"
      ]
     },
     "metadata": {},
     "output_type": "display_data"
    }
   ],
   "source": [
    "item['category'].value_counts().plot(kind='bar')\n",
    "plt.title(\"Distributon of Category column\")\n",
    "plt.xlabel(\"Category\")\n",
    "plt.ylabel(\"Count\")"
   ]
  },
  {
   "cell_type": "code",
   "execution_count": null,
   "metadata": {
    "collapsed": true
   },
   "outputs": [],
   "source": []
  },
  {
   "cell_type": "markdown",
   "metadata": {},
   "source": [
    "#### Combining Datasets to get final data."
   ]
  },
  {
   "cell_type": "code",
   "execution_count": 75,
   "metadata": {
    "collapsed": false
   },
   "outputs": [
    {
     "name": "stdout",
     "output_type": "stream",
     "text": [
      "Training Dataset Shape: (78369, 3)\n",
      "Test Dataset Shape: (50226, 3)\n",
      "Combined Dataset Shape: (128595, 3)\n"
     ]
    }
   ],
   "source": [
    "Submission = test[['id']]\n",
    "\n",
    "test.drop('id',axis=1,inplace=True)\n",
    "train.drop('id',axis=1,inplace=True)\n",
    "\n",
    "y = train['redemption_status']\n",
    "train.drop('redemption_status',axis=1,inplace=True)\n",
    "\n",
    "len_train = len(train)\n",
    "data = pd.concat([train,test],axis=0).reset_index(drop=True)\n",
    "\n",
    "print (\"Training Dataset Shape:\",train.shape)\n",
    "print (\"Test Dataset Shape:\",test.shape)\n",
    "print (\"Combined Dataset Shape:\",data.shape)"
   ]
  },
  {
   "cell_type": "code",
   "execution_count": 76,
   "metadata": {
    "collapsed": false
   },
   "outputs": [
    {
     "data": {
      "text/html": [
       "<div>\n",
       "<style scoped>\n",
       "    .dataframe tbody tr th:only-of-type {\n",
       "        vertical-align: middle;\n",
       "    }\n",
       "\n",
       "    .dataframe tbody tr th {\n",
       "        vertical-align: top;\n",
       "    }\n",
       "\n",
       "    .dataframe thead th {\n",
       "        text-align: right;\n",
       "    }\n",
       "</style>\n",
       "<table border=\"1\" class=\"dataframe\">\n",
       "  <thead>\n",
       "    <tr style=\"text-align: right;\">\n",
       "      <th></th>\n",
       "      <th>campaign_id</th>\n",
       "      <th>coupon_id</th>\n",
       "      <th>customer_id</th>\n",
       "    </tr>\n",
       "  </thead>\n",
       "  <tbody>\n",
       "    <tr>\n",
       "      <th>0</th>\n",
       "      <td>13</td>\n",
       "      <td>27</td>\n",
       "      <td>1053</td>\n",
       "    </tr>\n",
       "    <tr>\n",
       "      <th>1</th>\n",
       "      <td>13</td>\n",
       "      <td>116</td>\n",
       "      <td>48</td>\n",
       "    </tr>\n",
       "    <tr>\n",
       "      <th>2</th>\n",
       "      <td>9</td>\n",
       "      <td>635</td>\n",
       "      <td>205</td>\n",
       "    </tr>\n",
       "    <tr>\n",
       "      <th>3</th>\n",
       "      <td>13</td>\n",
       "      <td>644</td>\n",
       "      <td>1050</td>\n",
       "    </tr>\n",
       "    <tr>\n",
       "      <th>4</th>\n",
       "      <td>8</td>\n",
       "      <td>1017</td>\n",
       "      <td>1489</td>\n",
       "    </tr>\n",
       "  </tbody>\n",
       "</table>\n",
       "</div>"
      ],
      "text/plain": [
       "   campaign_id  coupon_id  customer_id\n",
       "0           13         27         1053\n",
       "1           13        116           48\n",
       "2            9        635          205\n",
       "3           13        644         1050\n",
       "4            8       1017         1489"
      ]
     },
     "execution_count": 76,
     "metadata": {},
     "output_type": "execute_result"
    }
   ],
   "source": [
    "data.head()"
   ]
  },
  {
   "cell_type": "code",
   "execution_count": null,
   "metadata": {
    "collapsed": true
   },
   "outputs": [],
   "source": []
  },
  {
   "cell_type": "code",
   "execution_count": 77,
   "metadata": {
    "collapsed": false
   },
   "outputs": [
    {
     "name": "stdout",
     "output_type": "stream",
     "text": [
      "train_test_campaign dataset shape: (128595, 28)\n"
     ]
    }
   ],
   "source": [
    "# Combining train_test with campaign data on campaign_id column\n",
    "data = pd.merge(left=data,right=campaign,left_on='campaign_id',right_on='campaign_id',how='left')\n",
    "print (\"train_test_campaign dataset shape:\",data.shape)"
   ]
  },
  {
   "cell_type": "code",
   "execution_count": 78,
   "metadata": {
    "collapsed": false
   },
   "outputs": [
    {
     "data": {
      "text/html": [
       "<div>\n",
       "<style scoped>\n",
       "    .dataframe tbody tr th:only-of-type {\n",
       "        vertical-align: middle;\n",
       "    }\n",
       "\n",
       "    .dataframe tbody tr th {\n",
       "        vertical-align: top;\n",
       "    }\n",
       "\n",
       "    .dataframe thead th {\n",
       "        text-align: right;\n",
       "    }\n",
       "</style>\n",
       "<table border=\"1\" class=\"dataframe\">\n",
       "  <thead>\n",
       "    <tr style=\"text-align: right;\">\n",
       "      <th></th>\n",
       "      <th>campaign_id</th>\n",
       "      <th>coupon_id</th>\n",
       "      <th>customer_id</th>\n",
       "      <th>campaign_type</th>\n",
       "      <th>start_date</th>\n",
       "      <th>end_date</th>\n",
       "      <th>Campaign_Start_Day</th>\n",
       "      <th>Campaign_Start_Month</th>\n",
       "      <th>Campaign_Start_Year</th>\n",
       "      <th>Campaign_Start_Quarter</th>\n",
       "      <th>Campaign_Start_DayOfWeek</th>\n",
       "      <th>Campaign_Start_MonthStart</th>\n",
       "      <th>Campaign_Start_MonthEnd</th>\n",
       "      <th>Campaign_Start_QuarterStart</th>\n",
       "      <th>Campaign_Start_QuarterEnd</th>\n",
       "      <th>Campaign_Start_YearStart</th>\n",
       "      <th>Campaign_Start_YearEnd</th>\n",
       "      <th>Campaign_End_Day</th>\n",
       "      <th>Campaign_End_Month</th>\n",
       "      <th>Campaign_End_Year</th>\n",
       "      <th>Campaign_End_Quarter</th>\n",
       "      <th>Campaign_End_DayOfWeek</th>\n",
       "      <th>Campaign_End_MonthStart</th>\n",
       "      <th>Campaign_End_MonthEnd</th>\n",
       "      <th>Campaign_End_QuarterStart</th>\n",
       "      <th>Campaign_End_QuarterEnd</th>\n",
       "      <th>Campaign_End_YearStart</th>\n",
       "      <th>Campaign_End_YearEnd</th>\n",
       "    </tr>\n",
       "  </thead>\n",
       "  <tbody>\n",
       "    <tr>\n",
       "      <th>0</th>\n",
       "      <td>13</td>\n",
       "      <td>27</td>\n",
       "      <td>1053</td>\n",
       "      <td>X</td>\n",
       "      <td>2013-05-19</td>\n",
       "      <td>2013-07-05</td>\n",
       "      <td>19</td>\n",
       "      <td>5</td>\n",
       "      <td>2013</td>\n",
       "      <td>2</td>\n",
       "      <td>6</td>\n",
       "      <td>False</td>\n",
       "      <td>False</td>\n",
       "      <td>False</td>\n",
       "      <td>False</td>\n",
       "      <td>False</td>\n",
       "      <td>False</td>\n",
       "      <td>5</td>\n",
       "      <td>7</td>\n",
       "      <td>2013</td>\n",
       "      <td>3</td>\n",
       "      <td>4</td>\n",
       "      <td>False</td>\n",
       "      <td>False</td>\n",
       "      <td>False</td>\n",
       "      <td>False</td>\n",
       "      <td>False</td>\n",
       "      <td>False</td>\n",
       "    </tr>\n",
       "    <tr>\n",
       "      <th>1</th>\n",
       "      <td>13</td>\n",
       "      <td>116</td>\n",
       "      <td>48</td>\n",
       "      <td>X</td>\n",
       "      <td>2013-05-19</td>\n",
       "      <td>2013-07-05</td>\n",
       "      <td>19</td>\n",
       "      <td>5</td>\n",
       "      <td>2013</td>\n",
       "      <td>2</td>\n",
       "      <td>6</td>\n",
       "      <td>False</td>\n",
       "      <td>False</td>\n",
       "      <td>False</td>\n",
       "      <td>False</td>\n",
       "      <td>False</td>\n",
       "      <td>False</td>\n",
       "      <td>5</td>\n",
       "      <td>7</td>\n",
       "      <td>2013</td>\n",
       "      <td>3</td>\n",
       "      <td>4</td>\n",
       "      <td>False</td>\n",
       "      <td>False</td>\n",
       "      <td>False</td>\n",
       "      <td>False</td>\n",
       "      <td>False</td>\n",
       "      <td>False</td>\n",
       "    </tr>\n",
       "    <tr>\n",
       "      <th>2</th>\n",
       "      <td>9</td>\n",
       "      <td>635</td>\n",
       "      <td>205</td>\n",
       "      <td>Y</td>\n",
       "      <td>2013-03-11</td>\n",
       "      <td>2013-04-12</td>\n",
       "      <td>11</td>\n",
       "      <td>3</td>\n",
       "      <td>2013</td>\n",
       "      <td>1</td>\n",
       "      <td>0</td>\n",
       "      <td>False</td>\n",
       "      <td>False</td>\n",
       "      <td>False</td>\n",
       "      <td>False</td>\n",
       "      <td>False</td>\n",
       "      <td>False</td>\n",
       "      <td>12</td>\n",
       "      <td>4</td>\n",
       "      <td>2013</td>\n",
       "      <td>2</td>\n",
       "      <td>4</td>\n",
       "      <td>False</td>\n",
       "      <td>False</td>\n",
       "      <td>False</td>\n",
       "      <td>False</td>\n",
       "      <td>False</td>\n",
       "      <td>False</td>\n",
       "    </tr>\n",
       "    <tr>\n",
       "      <th>3</th>\n",
       "      <td>13</td>\n",
       "      <td>644</td>\n",
       "      <td>1050</td>\n",
       "      <td>X</td>\n",
       "      <td>2013-05-19</td>\n",
       "      <td>2013-07-05</td>\n",
       "      <td>19</td>\n",
       "      <td>5</td>\n",
       "      <td>2013</td>\n",
       "      <td>2</td>\n",
       "      <td>6</td>\n",
       "      <td>False</td>\n",
       "      <td>False</td>\n",
       "      <td>False</td>\n",
       "      <td>False</td>\n",
       "      <td>False</td>\n",
       "      <td>False</td>\n",
       "      <td>5</td>\n",
       "      <td>7</td>\n",
       "      <td>2013</td>\n",
       "      <td>3</td>\n",
       "      <td>4</td>\n",
       "      <td>False</td>\n",
       "      <td>False</td>\n",
       "      <td>False</td>\n",
       "      <td>False</td>\n",
       "      <td>False</td>\n",
       "      <td>False</td>\n",
       "    </tr>\n",
       "    <tr>\n",
       "      <th>4</th>\n",
       "      <td>8</td>\n",
       "      <td>1017</td>\n",
       "      <td>1489</td>\n",
       "      <td>X</td>\n",
       "      <td>2013-02-16</td>\n",
       "      <td>2013-04-05</td>\n",
       "      <td>16</td>\n",
       "      <td>2</td>\n",
       "      <td>2013</td>\n",
       "      <td>1</td>\n",
       "      <td>5</td>\n",
       "      <td>False</td>\n",
       "      <td>False</td>\n",
       "      <td>False</td>\n",
       "      <td>False</td>\n",
       "      <td>False</td>\n",
       "      <td>False</td>\n",
       "      <td>5</td>\n",
       "      <td>4</td>\n",
       "      <td>2013</td>\n",
       "      <td>2</td>\n",
       "      <td>4</td>\n",
       "      <td>False</td>\n",
       "      <td>False</td>\n",
       "      <td>False</td>\n",
       "      <td>False</td>\n",
       "      <td>False</td>\n",
       "      <td>False</td>\n",
       "    </tr>\n",
       "  </tbody>\n",
       "</table>\n",
       "</div>"
      ],
      "text/plain": [
       "   campaign_id  coupon_id  customer_id campaign_type start_date   end_date  \\\n",
       "0           13         27         1053             X 2013-05-19 2013-07-05   \n",
       "1           13        116           48             X 2013-05-19 2013-07-05   \n",
       "2            9        635          205             Y 2013-03-11 2013-04-12   \n",
       "3           13        644         1050             X 2013-05-19 2013-07-05   \n",
       "4            8       1017         1489             X 2013-02-16 2013-04-05   \n",
       "\n",
       "   Campaign_Start_Day  Campaign_Start_Month  Campaign_Start_Year  \\\n",
       "0                  19                     5                 2013   \n",
       "1                  19                     5                 2013   \n",
       "2                  11                     3                 2013   \n",
       "3                  19                     5                 2013   \n",
       "4                  16                     2                 2013   \n",
       "\n",
       "   Campaign_Start_Quarter  Campaign_Start_DayOfWeek  \\\n",
       "0                       2                         6   \n",
       "1                       2                         6   \n",
       "2                       1                         0   \n",
       "3                       2                         6   \n",
       "4                       1                         5   \n",
       "\n",
       "   Campaign_Start_MonthStart  Campaign_Start_MonthEnd  \\\n",
       "0                      False                    False   \n",
       "1                      False                    False   \n",
       "2                      False                    False   \n",
       "3                      False                    False   \n",
       "4                      False                    False   \n",
       "\n",
       "   Campaign_Start_QuarterStart  Campaign_Start_QuarterEnd  \\\n",
       "0                        False                      False   \n",
       "1                        False                      False   \n",
       "2                        False                      False   \n",
       "3                        False                      False   \n",
       "4                        False                      False   \n",
       "\n",
       "   Campaign_Start_YearStart  Campaign_Start_YearEnd  Campaign_End_Day  \\\n",
       "0                     False                   False                 5   \n",
       "1                     False                   False                 5   \n",
       "2                     False                   False                12   \n",
       "3                     False                   False                 5   \n",
       "4                     False                   False                 5   \n",
       "\n",
       "   Campaign_End_Month  Campaign_End_Year  Campaign_End_Quarter  \\\n",
       "0                   7               2013                     3   \n",
       "1                   7               2013                     3   \n",
       "2                   4               2013                     2   \n",
       "3                   7               2013                     3   \n",
       "4                   4               2013                     2   \n",
       "\n",
       "   Campaign_End_DayOfWeek  Campaign_End_MonthStart  Campaign_End_MonthEnd  \\\n",
       "0                       4                    False                  False   \n",
       "1                       4                    False                  False   \n",
       "2                       4                    False                  False   \n",
       "3                       4                    False                  False   \n",
       "4                       4                    False                  False   \n",
       "\n",
       "   Campaign_End_QuarterStart  Campaign_End_QuarterEnd  Campaign_End_YearStart  \\\n",
       "0                      False                    False                   False   \n",
       "1                      False                    False                   False   \n",
       "2                      False                    False                   False   \n",
       "3                      False                    False                   False   \n",
       "4                      False                    False                   False   \n",
       "\n",
       "   Campaign_End_YearEnd  \n",
       "0                 False  \n",
       "1                 False  \n",
       "2                 False  \n",
       "3                 False  \n",
       "4                 False  "
      ]
     },
     "execution_count": 78,
     "metadata": {},
     "output_type": "execute_result"
    }
   ],
   "source": [
    "data.head()"
   ]
  },
  {
   "cell_type": "code",
   "execution_count": 79,
   "metadata": {
    "collapsed": true
   },
   "outputs": [],
   "source": [
    "data.drop(['start_date','end_date'],axis=1,inplace=True)"
   ]
  },
  {
   "cell_type": "code",
   "execution_count": null,
   "metadata": {
    "collapsed": true
   },
   "outputs": [],
   "source": []
  },
  {
   "cell_type": "code",
   "execution_count": 80,
   "metadata": {
    "collapsed": false
   },
   "outputs": [
    {
     "data": {
      "text/plain": [
       "(128595, 32)"
      ]
     },
     "execution_count": 80,
     "metadata": {},
     "output_type": "execute_result"
    }
   ],
   "source": [
    "data = pd.merge(left=data,right=demographics,left_on='customer_id',right_on='customer_id',how='left')\n",
    "data.shape"
   ]
  },
  {
   "cell_type": "code",
   "execution_count": 81,
   "metadata": {
    "collapsed": false
   },
   "outputs": [
    {
     "data": {
      "text/plain": [
       "campaign_id                        0\n",
       "coupon_id                          0\n",
       "customer_id                        0\n",
       "campaign_type                      0\n",
       "Campaign_Start_Day                 0\n",
       "Campaign_Start_Month               0\n",
       "Campaign_Start_Year                0\n",
       "Campaign_Start_Quarter             0\n",
       "Campaign_Start_DayOfWeek           0\n",
       "Campaign_Start_MonthStart          0\n",
       "Campaign_Start_MonthEnd            0\n",
       "Campaign_Start_QuarterStart        0\n",
       "Campaign_Start_QuarterEnd          0\n",
       "Campaign_Start_YearStart           0\n",
       "Campaign_Start_YearEnd             0\n",
       "Campaign_End_Day                   0\n",
       "Campaign_End_Month                 0\n",
       "Campaign_End_Year                  0\n",
       "Campaign_End_Quarter               0\n",
       "Campaign_End_DayOfWeek             0\n",
       "Campaign_End_MonthStart            0\n",
       "Campaign_End_MonthEnd              0\n",
       "Campaign_End_QuarterStart          0\n",
       "Campaign_End_QuarterEnd            0\n",
       "Campaign_End_YearStart             0\n",
       "Campaign_End_YearEnd               0\n",
       "age_range                      53995\n",
       "marital_status                 53995\n",
       "rented                         53995\n",
       "family_size                    53995\n",
       "no_of_children                 53995\n",
       "income_bracket                 53995\n",
       "dtype: int64"
      ]
     },
     "execution_count": 81,
     "metadata": {},
     "output_type": "execute_result"
    }
   ],
   "source": [
    "data.isnull().sum()"
   ]
  },
  {
   "cell_type": "code",
   "execution_count": 82,
   "metadata": {
    "collapsed": true
   },
   "outputs": [],
   "source": [
    "data['age_range'].fillna(data['age_range'].value_counts(dropna=False).index[1],inplace=True)\n",
    "data['marital_status'].fillna(data['marital_status'].value_counts(dropna=False).index[0],inplace=True)\n",
    "data['rented'].fillna(data['rented'].value_counts(dropna=False).index[0],inplace=True)\n",
    "data['family_size'].fillna(data['family_size'].value_counts(dropna=False).index[1],inplace=True)\n",
    "data['no_of_children'].fillna(data['no_of_children'].value_counts(dropna=False).index[0],inplace=True)\n",
    "data['income_bracket'].fillna(data['income_bracket'].value_counts(dropna=False).index[1],inplace=True)"
   ]
  },
  {
   "cell_type": "code",
   "execution_count": null,
   "metadata": {
    "collapsed": true
   },
   "outputs": [],
   "source": []
  },
  {
   "cell_type": "code",
   "execution_count": 83,
   "metadata": {
    "collapsed": false
   },
   "outputs": [
    {
     "data": {
      "text/plain": [
       "(92663, 5)"
      ]
     },
     "execution_count": 83,
     "metadata": {},
     "output_type": "execute_result"
    }
   ],
   "source": [
    "# Merging mapping and item data to get details about coupons.\n",
    "coupon_item = pd.merge(item,mapping,left_on='item_id',right_on='item_id',how='inner')\n",
    "coupon_item.shape"
   ]
  },
  {
   "cell_type": "code",
   "execution_count": 84,
   "metadata": {
    "collapsed": false
   },
   "outputs": [
    {
     "data": {
      "text/html": [
       "<div>\n",
       "<style scoped>\n",
       "    .dataframe tbody tr th:only-of-type {\n",
       "        vertical-align: middle;\n",
       "    }\n",
       "\n",
       "    .dataframe tbody tr th {\n",
       "        vertical-align: top;\n",
       "    }\n",
       "\n",
       "    .dataframe thead th {\n",
       "        text-align: right;\n",
       "    }\n",
       "</style>\n",
       "<table border=\"1\" class=\"dataframe\">\n",
       "  <thead>\n",
       "    <tr style=\"text-align: right;\">\n",
       "      <th></th>\n",
       "      <th>item_id</th>\n",
       "      <th>brand</th>\n",
       "      <th>brand_type</th>\n",
       "      <th>category</th>\n",
       "      <th>coupon_id</th>\n",
       "    </tr>\n",
       "  </thead>\n",
       "  <tbody>\n",
       "    <tr>\n",
       "      <th>0</th>\n",
       "      <td>1</td>\n",
       "      <td>1</td>\n",
       "      <td>Established</td>\n",
       "      <td>Grocery</td>\n",
       "      <td>22</td>\n",
       "    </tr>\n",
       "    <tr>\n",
       "      <th>1</th>\n",
       "      <td>1</td>\n",
       "      <td>1</td>\n",
       "      <td>Established</td>\n",
       "      <td>Grocery</td>\n",
       "      <td>31</td>\n",
       "    </tr>\n",
       "    <tr>\n",
       "      <th>2</th>\n",
       "      <td>4</td>\n",
       "      <td>56</td>\n",
       "      <td>Local</td>\n",
       "      <td>Grocery</td>\n",
       "      <td>166</td>\n",
       "    </tr>\n",
       "    <tr>\n",
       "      <th>3</th>\n",
       "      <td>4</td>\n",
       "      <td>56</td>\n",
       "      <td>Local</td>\n",
       "      <td>Grocery</td>\n",
       "      <td>327</td>\n",
       "    </tr>\n",
       "    <tr>\n",
       "      <th>4</th>\n",
       "      <td>4</td>\n",
       "      <td>56</td>\n",
       "      <td>Local</td>\n",
       "      <td>Grocery</td>\n",
       "      <td>82</td>\n",
       "    </tr>\n",
       "  </tbody>\n",
       "</table>\n",
       "</div>"
      ],
      "text/plain": [
       "   item_id  brand   brand_type category  coupon_id\n",
       "0        1      1  Established  Grocery         22\n",
       "1        1      1  Established  Grocery         31\n",
       "2        4     56        Local  Grocery        166\n",
       "3        4     56        Local  Grocery        327\n",
       "4        4     56        Local  Grocery         82"
      ]
     },
     "execution_count": 84,
     "metadata": {},
     "output_type": "execute_result"
    }
   ],
   "source": [
    "coupon_item.head()"
   ]
  },
  {
   "cell_type": "code",
   "execution_count": 85,
   "metadata": {
    "collapsed": false
   },
   "outputs": [],
   "source": [
    "# Creating additional features\n",
    "number_of_unique_item_id_per_coupon = coupon_item.groupby('coupon_id')['item_id'].nunique().to_dict()\n",
    "data['number_of_unique_item_id_per_coupon'] = data['coupon_id'].map(number_of_unique_item_id_per_coupon)\n",
    "\n",
    "number_of_unique_brands_per_coupon = coupon_item.groupby('coupon_id')['brand'].nunique().to_dict()\n",
    "data['number_of_unique_brands_per_coupon'] = data['coupon_id'].map(number_of_unique_brands_per_coupon)\n",
    "\n",
    "common_brand_per_coupon = coupon_item.groupby('coupon_id').brand.apply(lambda x: x.mode()[0]).to_dict()\n",
    "data['common_brand_per_coupon'] = data['coupon_id'].map(common_brand_per_coupon)\n",
    "\n",
    "number_of_unique_brand_types_per_coupon = coupon_item.groupby('coupon_id')['brand_type'].nunique().to_dict()\n",
    "data['number_of_unique_brand_types_per_coupon'] = data['coupon_id'].map(number_of_unique_brand_types_per_coupon)\n",
    "\n",
    "common_brand_type_per_coupon = coupon_item.groupby('coupon_id').brand_type.apply(lambda x: x.mode()[0]).to_dict()\n",
    "data['common_brand_type_per_coupon'] = data['coupon_id'].map(common_brand_per_coupon)\n",
    "\n",
    "number_of_unique_category_per_coupon = coupon_item.groupby('coupon_id')['category'].nunique().to_dict()\n",
    "data['number_of_unique_category_per_coupon'] = data['coupon_id'].map(number_of_unique_category_per_coupon)\n",
    "\n",
    "common_category_per_coupon = coupon_item.groupby('coupon_id').category.apply(lambda x: x.mode()[0]).to_dict()\n",
    "data['common_category_per_coupon'] = data['coupon_id'].map(common_category_per_coupon)"
   ]
  },
  {
   "cell_type": "code",
   "execution_count": null,
   "metadata": {
    "collapsed": true
   },
   "outputs": [],
   "source": []
  },
  {
   "cell_type": "code",
   "execution_count": 86,
   "metadata": {
    "collapsed": false
   },
   "outputs": [
    {
     "data": {
      "text/plain": [
       "(1324563, 19)"
      ]
     },
     "execution_count": 86,
     "metadata": {},
     "output_type": "execute_result"
    }
   ],
   "source": [
    "# Merging transaction and item data to get details about coupons.\n",
    "transactions_item = pd.merge(transactions,item,left_on='item_id',right_on='item_id',how='inner')\n",
    "transactions_item['total_price'] = transactions_item['quantity']*transactions_item['selling_price']\n",
    "transactions_item.shape"
   ]
  },
  {
   "cell_type": "code",
   "execution_count": 87,
   "metadata": {
    "collapsed": false
   },
   "outputs": [
    {
     "data": {
      "text/html": [
       "<div>\n",
       "<style scoped>\n",
       "    .dataframe tbody tr th:only-of-type {\n",
       "        vertical-align: middle;\n",
       "    }\n",
       "\n",
       "    .dataframe tbody tr th {\n",
       "        vertical-align: top;\n",
       "    }\n",
       "\n",
       "    .dataframe thead th {\n",
       "        text-align: right;\n",
       "    }\n",
       "</style>\n",
       "<table border=\"1\" class=\"dataframe\">\n",
       "  <thead>\n",
       "    <tr style=\"text-align: right;\">\n",
       "      <th></th>\n",
       "      <th>date</th>\n",
       "      <th>customer_id</th>\n",
       "      <th>item_id</th>\n",
       "      <th>quantity</th>\n",
       "      <th>selling_price</th>\n",
       "      <th>other_discount</th>\n",
       "      <th>coupon_discount</th>\n",
       "      <th>MRP</th>\n",
       "      <th>other_discount_pct</th>\n",
       "      <th>coupon_discount_pct</th>\n",
       "      <th>transactions_Day</th>\n",
       "      <th>transactions_Month</th>\n",
       "      <th>transactions_Year</th>\n",
       "      <th>transactions_Quarter</th>\n",
       "      <th>transactions_DayOfWeek</th>\n",
       "      <th>brand</th>\n",
       "      <th>brand_type</th>\n",
       "      <th>category</th>\n",
       "      <th>total_price</th>\n",
       "    </tr>\n",
       "  </thead>\n",
       "  <tbody>\n",
       "    <tr>\n",
       "      <th>0</th>\n",
       "      <td>2012-01-02</td>\n",
       "      <td>1501</td>\n",
       "      <td>26830</td>\n",
       "      <td>1</td>\n",
       "      <td>35.26000</td>\n",
       "      <td>10.69000</td>\n",
       "      <td>0.00000</td>\n",
       "      <td>45.95000</td>\n",
       "      <td>23.26442</td>\n",
       "      <td>0.00000</td>\n",
       "      <td>2</td>\n",
       "      <td>1</td>\n",
       "      <td>2012</td>\n",
       "      <td>1</td>\n",
       "      <td>0</td>\n",
       "      <td>56</td>\n",
       "      <td>Local</td>\n",
       "      <td>Natural Products</td>\n",
       "      <td>35.26000</td>\n",
       "    </tr>\n",
       "    <tr>\n",
       "      <th>1</th>\n",
       "      <td>2012-01-02</td>\n",
       "      <td>135</td>\n",
       "      <td>26830</td>\n",
       "      <td>1</td>\n",
       "      <td>35.26000</td>\n",
       "      <td>10.69000</td>\n",
       "      <td>0.00000</td>\n",
       "      <td>45.95000</td>\n",
       "      <td>23.26442</td>\n",
       "      <td>0.00000</td>\n",
       "      <td>2</td>\n",
       "      <td>1</td>\n",
       "      <td>2012</td>\n",
       "      <td>1</td>\n",
       "      <td>0</td>\n",
       "      <td>56</td>\n",
       "      <td>Local</td>\n",
       "      <td>Natural Products</td>\n",
       "      <td>35.26000</td>\n",
       "    </tr>\n",
       "    <tr>\n",
       "      <th>2</th>\n",
       "      <td>2012-01-02</td>\n",
       "      <td>464</td>\n",
       "      <td>26830</td>\n",
       "      <td>1</td>\n",
       "      <td>35.26000</td>\n",
       "      <td>10.69000</td>\n",
       "      <td>0.00000</td>\n",
       "      <td>45.95000</td>\n",
       "      <td>23.26442</td>\n",
       "      <td>0.00000</td>\n",
       "      <td>2</td>\n",
       "      <td>1</td>\n",
       "      <td>2012</td>\n",
       "      <td>1</td>\n",
       "      <td>0</td>\n",
       "      <td>56</td>\n",
       "      <td>Local</td>\n",
       "      <td>Natural Products</td>\n",
       "      <td>35.26000</td>\n",
       "    </tr>\n",
       "    <tr>\n",
       "      <th>3</th>\n",
       "      <td>2012-01-12</td>\n",
       "      <td>1185</td>\n",
       "      <td>26830</td>\n",
       "      <td>1</td>\n",
       "      <td>45.95000</td>\n",
       "      <td>0.00000</td>\n",
       "      <td>0.00000</td>\n",
       "      <td>45.95000</td>\n",
       "      <td>0.00000</td>\n",
       "      <td>0.00000</td>\n",
       "      <td>12</td>\n",
       "      <td>1</td>\n",
       "      <td>2012</td>\n",
       "      <td>1</td>\n",
       "      <td>3</td>\n",
       "      <td>56</td>\n",
       "      <td>Local</td>\n",
       "      <td>Natural Products</td>\n",
       "      <td>45.95000</td>\n",
       "    </tr>\n",
       "    <tr>\n",
       "      <th>4</th>\n",
       "      <td>2012-01-13</td>\n",
       "      <td>1140</td>\n",
       "      <td>26830</td>\n",
       "      <td>1</td>\n",
       "      <td>45.95000</td>\n",
       "      <td>0.00000</td>\n",
       "      <td>0.00000</td>\n",
       "      <td>45.95000</td>\n",
       "      <td>0.00000</td>\n",
       "      <td>0.00000</td>\n",
       "      <td>13</td>\n",
       "      <td>1</td>\n",
       "      <td>2012</td>\n",
       "      <td>1</td>\n",
       "      <td>4</td>\n",
       "      <td>56</td>\n",
       "      <td>Local</td>\n",
       "      <td>Natural Products</td>\n",
       "      <td>45.95000</td>\n",
       "    </tr>\n",
       "  </tbody>\n",
       "</table>\n",
       "</div>"
      ],
      "text/plain": [
       "        date  customer_id  item_id  quantity  selling_price  other_discount  \\\n",
       "0 2012-01-02         1501    26830         1       35.26000        10.69000   \n",
       "1 2012-01-02          135    26830         1       35.26000        10.69000   \n",
       "2 2012-01-02          464    26830         1       35.26000        10.69000   \n",
       "3 2012-01-12         1185    26830         1       45.95000         0.00000   \n",
       "4 2012-01-13         1140    26830         1       45.95000         0.00000   \n",
       "\n",
       "   coupon_discount      MRP  other_discount_pct  coupon_discount_pct  \\\n",
       "0          0.00000 45.95000            23.26442              0.00000   \n",
       "1          0.00000 45.95000            23.26442              0.00000   \n",
       "2          0.00000 45.95000            23.26442              0.00000   \n",
       "3          0.00000 45.95000             0.00000              0.00000   \n",
       "4          0.00000 45.95000             0.00000              0.00000   \n",
       "\n",
       "   transactions_Day  transactions_Month  transactions_Year  \\\n",
       "0                 2                   1               2012   \n",
       "1                 2                   1               2012   \n",
       "2                 2                   1               2012   \n",
       "3                12                   1               2012   \n",
       "4                13                   1               2012   \n",
       "\n",
       "   transactions_Quarter  transactions_DayOfWeek  brand brand_type  \\\n",
       "0                     1                       0     56      Local   \n",
       "1                     1                       0     56      Local   \n",
       "2                     1                       0     56      Local   \n",
       "3                     1                       3     56      Local   \n",
       "4                     1                       4     56      Local   \n",
       "\n",
       "           category  total_price  \n",
       "0  Natural Products     35.26000  \n",
       "1  Natural Products     35.26000  \n",
       "2  Natural Products     35.26000  \n",
       "3  Natural Products     45.95000  \n",
       "4  Natural Products     45.95000  "
      ]
     },
     "execution_count": 87,
     "metadata": {},
     "output_type": "execute_result"
    }
   ],
   "source": [
    "transactions_item.head()"
   ]
  },
  {
   "cell_type": "code",
   "execution_count": 88,
   "metadata": {
    "collapsed": false
   },
   "outputs": [],
   "source": [
    "# Generating new features\n",
    "average_other_discount_pct_per_customer = transactions_item.groupby('customer_id').other_discount_pct.mean().to_dict()\n",
    "data['average_other_discount_pct_per_customer'] = data['customer_id'].map(average_other_discount_pct_per_customer)\n",
    "\n",
    "average_coupon_discount_pct_per_customer = transactions_item.groupby('customer_id').coupon_discount_pct.mean().to_dict()\n",
    "data['average_coupon_discount_pct_per_customer'] = data['customer_id'].map(average_coupon_discount_pct_per_customer)\n",
    "\n",
    "number_of_unique_item_id_purchased_per_coupon = transactions_item.groupby('customer_id')['item_id'].nunique().to_dict()\n",
    "data['number_of_unique_item_id_purchased_per_coupon'] = data['coupon_id'].map(number_of_unique_item_id_purchased_per_coupon)\n",
    "\n",
    "commonly_purchased_item_per_customer = transactions_item.groupby('customer_id').item_id.apply(lambda x: x.mode()[0]).to_dict()\n",
    "data['commonly_purchased_item_per_customer'] = data['customer_id'].map(commonly_purchased_item_per_customer)\n",
    "\n",
    "total_quantity_purchased_per_customer = transactions_item.groupby('customer_id')['quantity'].sum().to_dict()\n",
    "data['total_quantity_purchased_per_customer'] = data['customer_id'].map(total_quantity_purchased_per_customer)\n",
    "\n",
    "total_amount_per_customer = transactions_item.groupby('customer_id')['total_price'].sum().to_dict()\n",
    "data['total_amount_per_customer'] = data['customer_id'].map(total_quantity_purchased_per_customer)\n",
    "\n",
    "average_amount_per_customer = transactions_item.groupby('customer_id').total_price.mean().to_dict()\n",
    "data['average_amount_per_customer'] = data['customer_id'].map(average_amount_per_customer)\n",
    "\n",
    "median_amount_per_customer = transactions_item.groupby('customer_id').total_price.median().to_dict()\n",
    "data['median_amount_per_customer'] = data['customer_id'].map(median_amount_per_customer)\n",
    "\n",
    "total_other_discount_per_customer = transactions_item.groupby('customer_id').other_discount.sum().to_dict()\n",
    "data['total_other_discount_per_customer'] = data['customer_id'].map(total_other_discount_per_customer)\n",
    "\n",
    "average_other_discount_per_customer = transactions_item.groupby('customer_id').other_discount.mean().to_dict()\n",
    "data['average_other_discount_per_customer'] = data['customer_id'].map(average_other_discount_per_customer)\n",
    "\n",
    "median_other_discount_per_customer = transactions_item.groupby('customer_id').other_discount.median().to_dict()\n",
    "data['median_other_discount_per_customer'] = data['customer_id'].map(median_other_discount_per_customer)\n",
    "\n",
    "total_coupon_discount_per_customer = transactions_item.groupby('customer_id').coupon_discount.sum().to_dict()\n",
    "data['total_coupon_discount_per_customer'] = data['customer_id'].map(total_coupon_discount_per_customer)\n",
    "\n",
    "average_coupon_discount_per_customer = transactions_item.groupby('customer_id').coupon_discount.mean().to_dict()\n",
    "data['average_coupon_discount_per_customer'] = data['customer_id'].map(average_coupon_discount_per_customer)\n",
    "\n",
    "median_coupon_discount_per_customer = transactions_item.groupby('customer_id').coupon_discount.median().to_dict()\n",
    "data['median_coupon_discount_per_customer'] = data['customer_id'].map(median_coupon_discount_per_customer)\n",
    "\n",
    "customer_since_how_many_years = transactions_item.groupby('customer_id')['transactions_Year'].nunique().to_dict()\n",
    "data['customer_since_how_many_years'] = data['customer_id'].map(customer_since_how_many_years)\n",
    "\n",
    "most_shopped_day_per_customer = transactions_item.groupby('customer_id')['transactions_Day'].apply(lambda x: x.mode()[0]).to_dict()\n",
    "data['most_shopped_day_per_customer'] = data['customer_id'].map(most_shopped_day_per_customer)\n",
    "\n",
    "most_shopped_dayofweek_per_customer = transactions_item.groupby('customer_id')['transactions_DayOfWeek'].apply(lambda x: x.mode()[0]).to_dict()\n",
    "data['most_shopped_dayofweek_per_customer'] = data['customer_id'].map(most_shopped_dayofweek_per_customer)\n",
    "\n",
    "most_shopped_month_per_customer = transactions_item.groupby('customer_id')['transactions_Month'].apply(lambda x: x.mode()[0]).to_dict()\n",
    "data['most_shopped_month_per_customer'] = data['customer_id'].map(most_shopped_month_per_customer)\n",
    "\n",
    "#####################################################################################################################\n",
    "\n",
    "number_of_unique_item_id_per_customer = transactions_item.groupby('customer_id')['item_id'].nunique().to_dict()\n",
    "data['number_of_unique_item_id_per_customer'] = data['customer_id'].map(number_of_unique_item_id_per_customer)\n",
    "\n",
    "number_of_unique_brands_per_customer = transactions_item.groupby('customer_id')['brand'].nunique().to_dict()\n",
    "data['number_of_unique_brands_per_customer'] = data['customer_id'].map(number_of_unique_brands_per_customer)\n",
    "\n",
    "common_brand_per_customer = transactions_item.groupby('customer_id').brand.apply(lambda x: x.mode()[0]).to_dict()\n",
    "data['common_brand_per_customer'] = data['customer_id'].map(common_brand_per_customer)\n",
    "\n",
    "number_of_unique_brand_types_per_customer = transactions_item.groupby('customer_id')['brand_type'].nunique().to_dict()\n",
    "data['number_of_unique_brand_types_per_customer'] = data['customer_id'].map(number_of_unique_brand_types_per_customer)\n",
    "\n",
    "common_brand_type_per_customer = transactions_item.groupby('customer_id').brand_type.apply(lambda x: x.mode()[0]).to_dict()\n",
    "data['common_brand_type_per_customer'] = data['customer_id'].map(common_brand_type_per_customer)\n",
    "\n",
    "number_of_unique_category_per_customer = transactions_item.groupby('customer_id')['category'].nunique().to_dict()\n",
    "data['number_of_unique_category_per_customer'] = data['customer_id'].map(number_of_unique_category_per_customer)\n",
    "\n",
    "common_category_per_customer = transactions_item.groupby('customer_id').category.apply(lambda x: x.mode()[0]).to_dict()\n",
    "data['common_category_per_customer'] = data['customer_id'].map(common_category_per_customer)"
   ]
  },
  {
   "cell_type": "code",
   "execution_count": 89,
   "metadata": {
    "collapsed": false
   },
   "outputs": [
    {
     "data": {
      "text/plain": [
       "(128595, 64)"
      ]
     },
     "execution_count": 89,
     "metadata": {},
     "output_type": "execute_result"
    }
   ],
   "source": [
    "data.shape"
   ]
  },
  {
   "cell_type": "code",
   "execution_count": 90,
   "metadata": {
    "collapsed": false
   },
   "outputs": [
    {
     "data": {
      "text/html": [
       "<div>\n",
       "<style scoped>\n",
       "    .dataframe tbody tr th:only-of-type {\n",
       "        vertical-align: middle;\n",
       "    }\n",
       "\n",
       "    .dataframe tbody tr th {\n",
       "        vertical-align: top;\n",
       "    }\n",
       "\n",
       "    .dataframe thead th {\n",
       "        text-align: right;\n",
       "    }\n",
       "</style>\n",
       "<table border=\"1\" class=\"dataframe\">\n",
       "  <thead>\n",
       "    <tr style=\"text-align: right;\">\n",
       "      <th></th>\n",
       "      <th>campaign_id</th>\n",
       "      <th>coupon_id</th>\n",
       "      <th>customer_id</th>\n",
       "      <th>campaign_type</th>\n",
       "      <th>Campaign_Start_Day</th>\n",
       "      <th>Campaign_Start_Month</th>\n",
       "      <th>Campaign_Start_Year</th>\n",
       "      <th>Campaign_Start_Quarter</th>\n",
       "      <th>Campaign_Start_DayOfWeek</th>\n",
       "      <th>Campaign_Start_MonthStart</th>\n",
       "      <th>Campaign_Start_MonthEnd</th>\n",
       "      <th>Campaign_Start_QuarterStart</th>\n",
       "      <th>Campaign_Start_QuarterEnd</th>\n",
       "      <th>Campaign_Start_YearStart</th>\n",
       "      <th>Campaign_Start_YearEnd</th>\n",
       "      <th>Campaign_End_Day</th>\n",
       "      <th>Campaign_End_Month</th>\n",
       "      <th>Campaign_End_Year</th>\n",
       "      <th>Campaign_End_Quarter</th>\n",
       "      <th>Campaign_End_DayOfWeek</th>\n",
       "      <th>Campaign_End_MonthStart</th>\n",
       "      <th>Campaign_End_MonthEnd</th>\n",
       "      <th>Campaign_End_QuarterStart</th>\n",
       "      <th>Campaign_End_QuarterEnd</th>\n",
       "      <th>Campaign_End_YearStart</th>\n",
       "      <th>Campaign_End_YearEnd</th>\n",
       "      <th>age_range</th>\n",
       "      <th>marital_status</th>\n",
       "      <th>rented</th>\n",
       "      <th>family_size</th>\n",
       "      <th>no_of_children</th>\n",
       "      <th>income_bracket</th>\n",
       "      <th>number_of_unique_item_id_per_coupon</th>\n",
       "      <th>number_of_unique_brands_per_coupon</th>\n",
       "      <th>common_brand_per_coupon</th>\n",
       "      <th>number_of_unique_brand_types_per_coupon</th>\n",
       "      <th>common_brand_type_per_coupon</th>\n",
       "      <th>number_of_unique_category_per_coupon</th>\n",
       "      <th>common_category_per_coupon</th>\n",
       "      <th>average_other_discount_pct_per_customer</th>\n",
       "      <th>average_coupon_discount_pct_per_customer</th>\n",
       "      <th>number_of_unique_item_id_purchased_per_coupon</th>\n",
       "      <th>commonly_purchased_item_per_customer</th>\n",
       "      <th>total_quantity_purchased_per_customer</th>\n",
       "      <th>total_amount_per_customer</th>\n",
       "      <th>average_amount_per_customer</th>\n",
       "      <th>median_amount_per_customer</th>\n",
       "      <th>total_other_discount_per_customer</th>\n",
       "      <th>average_other_discount_per_customer</th>\n",
       "      <th>median_other_discount_per_customer</th>\n",
       "      <th>total_coupon_discount_per_customer</th>\n",
       "      <th>average_coupon_discount_per_customer</th>\n",
       "      <th>median_coupon_discount_per_customer</th>\n",
       "      <th>customer_since_how_many_years</th>\n",
       "      <th>most_shopped_day_per_customer</th>\n",
       "      <th>most_shopped_dayofweek_per_customer</th>\n",
       "      <th>most_shopped_month_per_customer</th>\n",
       "      <th>number_of_unique_item_id_per_customer</th>\n",
       "      <th>number_of_unique_brands_per_customer</th>\n",
       "      <th>common_brand_per_customer</th>\n",
       "      <th>number_of_unique_brand_types_per_customer</th>\n",
       "      <th>common_brand_type_per_customer</th>\n",
       "      <th>number_of_unique_category_per_customer</th>\n",
       "      <th>common_category_per_customer</th>\n",
       "    </tr>\n",
       "  </thead>\n",
       "  <tbody>\n",
       "    <tr>\n",
       "      <th>0</th>\n",
       "      <td>13</td>\n",
       "      <td>27</td>\n",
       "      <td>1053</td>\n",
       "      <td>X</td>\n",
       "      <td>19</td>\n",
       "      <td>5</td>\n",
       "      <td>2013</td>\n",
       "      <td>2</td>\n",
       "      <td>6</td>\n",
       "      <td>False</td>\n",
       "      <td>False</td>\n",
       "      <td>False</td>\n",
       "      <td>False</td>\n",
       "      <td>False</td>\n",
       "      <td>False</td>\n",
       "      <td>5</td>\n",
       "      <td>7</td>\n",
       "      <td>2013</td>\n",
       "      <td>3</td>\n",
       "      <td>4</td>\n",
       "      <td>False</td>\n",
       "      <td>False</td>\n",
       "      <td>False</td>\n",
       "      <td>False</td>\n",
       "      <td>False</td>\n",
       "      <td>False</td>\n",
       "      <td>46-55</td>\n",
       "      <td>Married</td>\n",
       "      <td>0.00000</td>\n",
       "      <td>1</td>\n",
       "      <td>1</td>\n",
       "      <td>5.00000</td>\n",
       "      <td>125</td>\n",
       "      <td>2</td>\n",
       "      <td>1105</td>\n",
       "      <td>1</td>\n",
       "      <td>1105</td>\n",
       "      <td>1</td>\n",
       "      <td>Grocery</td>\n",
       "      <td>14.87907</td>\n",
       "      <td>0.11216</td>\n",
       "      <td>866</td>\n",
       "      <td>14458</td>\n",
       "      <td>105551</td>\n",
       "      <td>105551</td>\n",
       "      <td>224818.62939</td>\n",
       "      <td>108.99000</td>\n",
       "      <td>10282.37000</td>\n",
       "      <td>33.16894</td>\n",
       "      <td>3.56000</td>\n",
       "      <td>89.05000</td>\n",
       "      <td>0.28726</td>\n",
       "      <td>0.00000</td>\n",
       "      <td>2</td>\n",
       "      <td>11</td>\n",
       "      <td>2</td>\n",
       "      <td>5</td>\n",
       "      <td>208</td>\n",
       "      <td>84</td>\n",
       "      <td>56</td>\n",
       "      <td>2</td>\n",
       "      <td>Established</td>\n",
       "      <td>8</td>\n",
       "      <td>Grocery</td>\n",
       "    </tr>\n",
       "    <tr>\n",
       "      <th>1</th>\n",
       "      <td>13</td>\n",
       "      <td>116</td>\n",
       "      <td>48</td>\n",
       "      <td>X</td>\n",
       "      <td>19</td>\n",
       "      <td>5</td>\n",
       "      <td>2013</td>\n",
       "      <td>2</td>\n",
       "      <td>6</td>\n",
       "      <td>False</td>\n",
       "      <td>False</td>\n",
       "      <td>False</td>\n",
       "      <td>False</td>\n",
       "      <td>False</td>\n",
       "      <td>False</td>\n",
       "      <td>5</td>\n",
       "      <td>7</td>\n",
       "      <td>2013</td>\n",
       "      <td>3</td>\n",
       "      <td>4</td>\n",
       "      <td>False</td>\n",
       "      <td>False</td>\n",
       "      <td>False</td>\n",
       "      <td>False</td>\n",
       "      <td>False</td>\n",
       "      <td>False</td>\n",
       "      <td>36-45</td>\n",
       "      <td>Married</td>\n",
       "      <td>0.00000</td>\n",
       "      <td>2</td>\n",
       "      <td>1</td>\n",
       "      <td>3.00000</td>\n",
       "      <td>3</td>\n",
       "      <td>1</td>\n",
       "      <td>56</td>\n",
       "      <td>1</td>\n",
       "      <td>56</td>\n",
       "      <td>1</td>\n",
       "      <td>Grocery</td>\n",
       "      <td>15.14790</td>\n",
       "      <td>0.44178</td>\n",
       "      <td>345</td>\n",
       "      <td>23932</td>\n",
       "      <td>12143</td>\n",
       "      <td>12143</td>\n",
       "      <td>32536.28403</td>\n",
       "      <td>106.50000</td>\n",
       "      <td>10664.18000</td>\n",
       "      <td>27.69917</td>\n",
       "      <td>7.12000</td>\n",
       "      <td>1237.79000</td>\n",
       "      <td>3.21504</td>\n",
       "      <td>0.00000</td>\n",
       "      <td>2</td>\n",
       "      <td>4</td>\n",
       "      <td>5</td>\n",
       "      <td>6</td>\n",
       "      <td>244</td>\n",
       "      <td>102</td>\n",
       "      <td>56</td>\n",
       "      <td>2</td>\n",
       "      <td>Established</td>\n",
       "      <td>12</td>\n",
       "      <td>Grocery</td>\n",
       "    </tr>\n",
       "    <tr>\n",
       "      <th>2</th>\n",
       "      <td>9</td>\n",
       "      <td>635</td>\n",
       "      <td>205</td>\n",
       "      <td>Y</td>\n",
       "      <td>11</td>\n",
       "      <td>3</td>\n",
       "      <td>2013</td>\n",
       "      <td>1</td>\n",
       "      <td>0</td>\n",
       "      <td>False</td>\n",
       "      <td>False</td>\n",
       "      <td>False</td>\n",
       "      <td>False</td>\n",
       "      <td>False</td>\n",
       "      <td>False</td>\n",
       "      <td>12</td>\n",
       "      <td>4</td>\n",
       "      <td>2013</td>\n",
       "      <td>2</td>\n",
       "      <td>4</td>\n",
       "      <td>False</td>\n",
       "      <td>False</td>\n",
       "      <td>False</td>\n",
       "      <td>False</td>\n",
       "      <td>False</td>\n",
       "      <td>False</td>\n",
       "      <td>46-55</td>\n",
       "      <td>Married</td>\n",
       "      <td>0.00000</td>\n",
       "      <td>2</td>\n",
       "      <td>1</td>\n",
       "      <td>7.00000</td>\n",
       "      <td>67</td>\n",
       "      <td>1</td>\n",
       "      <td>560</td>\n",
       "      <td>1</td>\n",
       "      <td>560</td>\n",
       "      <td>1</td>\n",
       "      <td>Pharmaceutical</td>\n",
       "      <td>10.74744</td>\n",
       "      <td>1.46366</td>\n",
       "      <td>274</td>\n",
       "      <td>13294</td>\n",
       "      <td>1351</td>\n",
       "      <td>1351</td>\n",
       "      <td>187.11419</td>\n",
       "      <td>106.50000</td>\n",
       "      <td>17261.79000</td>\n",
       "      <td>17.79566</td>\n",
       "      <td>0.00000</td>\n",
       "      <td>2145.72000</td>\n",
       "      <td>2.21208</td>\n",
       "      <td>0.00000</td>\n",
       "      <td>2</td>\n",
       "      <td>27</td>\n",
       "      <td>2</td>\n",
       "      <td>3</td>\n",
       "      <td>533</td>\n",
       "      <td>186</td>\n",
       "      <td>56</td>\n",
       "      <td>2</td>\n",
       "      <td>Established</td>\n",
       "      <td>11</td>\n",
       "      <td>Grocery</td>\n",
       "    </tr>\n",
       "    <tr>\n",
       "      <th>3</th>\n",
       "      <td>13</td>\n",
       "      <td>644</td>\n",
       "      <td>1050</td>\n",
       "      <td>X</td>\n",
       "      <td>19</td>\n",
       "      <td>5</td>\n",
       "      <td>2013</td>\n",
       "      <td>2</td>\n",
       "      <td>6</td>\n",
       "      <td>False</td>\n",
       "      <td>False</td>\n",
       "      <td>False</td>\n",
       "      <td>False</td>\n",
       "      <td>False</td>\n",
       "      <td>False</td>\n",
       "      <td>5</td>\n",
       "      <td>7</td>\n",
       "      <td>2013</td>\n",
       "      <td>3</td>\n",
       "      <td>4</td>\n",
       "      <td>False</td>\n",
       "      <td>False</td>\n",
       "      <td>False</td>\n",
       "      <td>False</td>\n",
       "      <td>False</td>\n",
       "      <td>False</td>\n",
       "      <td>46-55</td>\n",
       "      <td>Married</td>\n",
       "      <td>0.00000</td>\n",
       "      <td>2</td>\n",
       "      <td>1</td>\n",
       "      <td>5.00000</td>\n",
       "      <td>4</td>\n",
       "      <td>1</td>\n",
       "      <td>611</td>\n",
       "      <td>1</td>\n",
       "      <td>611</td>\n",
       "      <td>1</td>\n",
       "      <td>Grocery</td>\n",
       "      <td>13.56198</td>\n",
       "      <td>0.09923</td>\n",
       "      <td>272</td>\n",
       "      <td>9281</td>\n",
       "      <td>306</td>\n",
       "      <td>306</td>\n",
       "      <td>129.97190</td>\n",
       "      <td>81.57000</td>\n",
       "      <td>3947.37000</td>\n",
       "      <td>16.65557</td>\n",
       "      <td>1.42000</td>\n",
       "      <td>178.10000</td>\n",
       "      <td>0.75148</td>\n",
       "      <td>0.00000</td>\n",
       "      <td>2</td>\n",
       "      <td>9</td>\n",
       "      <td>4</td>\n",
       "      <td>8</td>\n",
       "      <td>216</td>\n",
       "      <td>73</td>\n",
       "      <td>56</td>\n",
       "      <td>2</td>\n",
       "      <td>Established</td>\n",
       "      <td>8</td>\n",
       "      <td>Grocery</td>\n",
       "    </tr>\n",
       "    <tr>\n",
       "      <th>4</th>\n",
       "      <td>8</td>\n",
       "      <td>1017</td>\n",
       "      <td>1489</td>\n",
       "      <td>X</td>\n",
       "      <td>16</td>\n",
       "      <td>2</td>\n",
       "      <td>2013</td>\n",
       "      <td>1</td>\n",
       "      <td>5</td>\n",
       "      <td>False</td>\n",
       "      <td>False</td>\n",
       "      <td>False</td>\n",
       "      <td>False</td>\n",
       "      <td>False</td>\n",
       "      <td>False</td>\n",
       "      <td>5</td>\n",
       "      <td>4</td>\n",
       "      <td>2013</td>\n",
       "      <td>2</td>\n",
       "      <td>4</td>\n",
       "      <td>False</td>\n",
       "      <td>False</td>\n",
       "      <td>False</td>\n",
       "      <td>False</td>\n",
       "      <td>False</td>\n",
       "      <td>False</td>\n",
       "      <td>46-55</td>\n",
       "      <td>Married</td>\n",
       "      <td>0.00000</td>\n",
       "      <td>2</td>\n",
       "      <td>1</td>\n",
       "      <td>3.00000</td>\n",
       "      <td>32</td>\n",
       "      <td>1</td>\n",
       "      <td>1558</td>\n",
       "      <td>1</td>\n",
       "      <td>1558</td>\n",
       "      <td>1</td>\n",
       "      <td>Grocery</td>\n",
       "      <td>13.46946</td>\n",
       "      <td>0.34815</td>\n",
       "      <td>1113</td>\n",
       "      <td>10673</td>\n",
       "      <td>139063</td>\n",
       "      <td>139063</td>\n",
       "      <td>222981.57407</td>\n",
       "      <td>106.50000</td>\n",
       "      <td>11534.90000</td>\n",
       "      <td>20.52473</td>\n",
       "      <td>0.18000</td>\n",
       "      <td>265.01000</td>\n",
       "      <td>0.47155</td>\n",
       "      <td>0.00000</td>\n",
       "      <td>2</td>\n",
       "      <td>2</td>\n",
       "      <td>4</td>\n",
       "      <td>5</td>\n",
       "      <td>327</td>\n",
       "      <td>106</td>\n",
       "      <td>56</td>\n",
       "      <td>2</td>\n",
       "      <td>Established</td>\n",
       "      <td>8</td>\n",
       "      <td>Grocery</td>\n",
       "    </tr>\n",
       "  </tbody>\n",
       "</table>\n",
       "</div>"
      ],
      "text/plain": [
       "   campaign_id  coupon_id  customer_id campaign_type  Campaign_Start_Day  \\\n",
       "0           13         27         1053             X                  19   \n",
       "1           13        116           48             X                  19   \n",
       "2            9        635          205             Y                  11   \n",
       "3           13        644         1050             X                  19   \n",
       "4            8       1017         1489             X                  16   \n",
       "\n",
       "   Campaign_Start_Month  Campaign_Start_Year  Campaign_Start_Quarter  \\\n",
       "0                     5                 2013                       2   \n",
       "1                     5                 2013                       2   \n",
       "2                     3                 2013                       1   \n",
       "3                     5                 2013                       2   \n",
       "4                     2                 2013                       1   \n",
       "\n",
       "   Campaign_Start_DayOfWeek  Campaign_Start_MonthStart  \\\n",
       "0                         6                      False   \n",
       "1                         6                      False   \n",
       "2                         0                      False   \n",
       "3                         6                      False   \n",
       "4                         5                      False   \n",
       "\n",
       "   Campaign_Start_MonthEnd  Campaign_Start_QuarterStart  \\\n",
       "0                    False                        False   \n",
       "1                    False                        False   \n",
       "2                    False                        False   \n",
       "3                    False                        False   \n",
       "4                    False                        False   \n",
       "\n",
       "   Campaign_Start_QuarterEnd  Campaign_Start_YearStart  \\\n",
       "0                      False                     False   \n",
       "1                      False                     False   \n",
       "2                      False                     False   \n",
       "3                      False                     False   \n",
       "4                      False                     False   \n",
       "\n",
       "   Campaign_Start_YearEnd  Campaign_End_Day  Campaign_End_Month  \\\n",
       "0                   False                 5                   7   \n",
       "1                   False                 5                   7   \n",
       "2                   False                12                   4   \n",
       "3                   False                 5                   7   \n",
       "4                   False                 5                   4   \n",
       "\n",
       "   Campaign_End_Year  Campaign_End_Quarter  Campaign_End_DayOfWeek  \\\n",
       "0               2013                     3                       4   \n",
       "1               2013                     3                       4   \n",
       "2               2013                     2                       4   \n",
       "3               2013                     3                       4   \n",
       "4               2013                     2                       4   \n",
       "\n",
       "   Campaign_End_MonthStart  Campaign_End_MonthEnd  Campaign_End_QuarterStart  \\\n",
       "0                    False                  False                      False   \n",
       "1                    False                  False                      False   \n",
       "2                    False                  False                      False   \n",
       "3                    False                  False                      False   \n",
       "4                    False                  False                      False   \n",
       "\n",
       "   Campaign_End_QuarterEnd  Campaign_End_YearStart  Campaign_End_YearEnd  \\\n",
       "0                    False                   False                 False   \n",
       "1                    False                   False                 False   \n",
       "2                    False                   False                 False   \n",
       "3                    False                   False                 False   \n",
       "4                    False                   False                 False   \n",
       "\n",
       "  age_range marital_status  rented family_size no_of_children  income_bracket  \\\n",
       "0     46-55        Married 0.00000           1              1         5.00000   \n",
       "1     36-45        Married 0.00000           2              1         3.00000   \n",
       "2     46-55        Married 0.00000           2              1         7.00000   \n",
       "3     46-55        Married 0.00000           2              1         5.00000   \n",
       "4     46-55        Married 0.00000           2              1         3.00000   \n",
       "\n",
       "   number_of_unique_item_id_per_coupon  number_of_unique_brands_per_coupon  \\\n",
       "0                                  125                                   2   \n",
       "1                                    3                                   1   \n",
       "2                                   67                                   1   \n",
       "3                                    4                                   1   \n",
       "4                                   32                                   1   \n",
       "\n",
       "   common_brand_per_coupon  number_of_unique_brand_types_per_coupon  \\\n",
       "0                     1105                                        1   \n",
       "1                       56                                        1   \n",
       "2                      560                                        1   \n",
       "3                      611                                        1   \n",
       "4                     1558                                        1   \n",
       "\n",
       "   common_brand_type_per_coupon  number_of_unique_category_per_coupon  \\\n",
       "0                          1105                                     1   \n",
       "1                            56                                     1   \n",
       "2                           560                                     1   \n",
       "3                           611                                     1   \n",
       "4                          1558                                     1   \n",
       "\n",
       "  common_category_per_coupon  average_other_discount_pct_per_customer  \\\n",
       "0                    Grocery                                 14.87907   \n",
       "1                    Grocery                                 15.14790   \n",
       "2             Pharmaceutical                                 10.74744   \n",
       "3                    Grocery                                 13.56198   \n",
       "4                    Grocery                                 13.46946   \n",
       "\n",
       "   average_coupon_discount_pct_per_customer  \\\n",
       "0                                   0.11216   \n",
       "1                                   0.44178   \n",
       "2                                   1.46366   \n",
       "3                                   0.09923   \n",
       "4                                   0.34815   \n",
       "\n",
       "   number_of_unique_item_id_purchased_per_coupon  \\\n",
       "0                                            866   \n",
       "1                                            345   \n",
       "2                                            274   \n",
       "3                                            272   \n",
       "4                                           1113   \n",
       "\n",
       "   commonly_purchased_item_per_customer  \\\n",
       "0                                 14458   \n",
       "1                                 23932   \n",
       "2                                 13294   \n",
       "3                                  9281   \n",
       "4                                 10673   \n",
       "\n",
       "   total_quantity_purchased_per_customer  total_amount_per_customer  \\\n",
       "0                                 105551                     105551   \n",
       "1                                  12143                      12143   \n",
       "2                                   1351                       1351   \n",
       "3                                    306                        306   \n",
       "4                                 139063                     139063   \n",
       "\n",
       "   average_amount_per_customer  median_amount_per_customer  \\\n",
       "0                 224818.62939                   108.99000   \n",
       "1                  32536.28403                   106.50000   \n",
       "2                    187.11419                   106.50000   \n",
       "3                    129.97190                    81.57000   \n",
       "4                 222981.57407                   106.50000   \n",
       "\n",
       "   total_other_discount_per_customer  average_other_discount_per_customer  \\\n",
       "0                        10282.37000                             33.16894   \n",
       "1                        10664.18000                             27.69917   \n",
       "2                        17261.79000                             17.79566   \n",
       "3                         3947.37000                             16.65557   \n",
       "4                        11534.90000                             20.52473   \n",
       "\n",
       "   median_other_discount_per_customer  total_coupon_discount_per_customer  \\\n",
       "0                             3.56000                            89.05000   \n",
       "1                             7.12000                          1237.79000   \n",
       "2                             0.00000                          2145.72000   \n",
       "3                             1.42000                           178.10000   \n",
       "4                             0.18000                           265.01000   \n",
       "\n",
       "   average_coupon_discount_per_customer  median_coupon_discount_per_customer  \\\n",
       "0                               0.28726                              0.00000   \n",
       "1                               3.21504                              0.00000   \n",
       "2                               2.21208                              0.00000   \n",
       "3                               0.75148                              0.00000   \n",
       "4                               0.47155                              0.00000   \n",
       "\n",
       "   customer_since_how_many_years  most_shopped_day_per_customer  \\\n",
       "0                              2                             11   \n",
       "1                              2                              4   \n",
       "2                              2                             27   \n",
       "3                              2                              9   \n",
       "4                              2                              2   \n",
       "\n",
       "   most_shopped_dayofweek_per_customer  most_shopped_month_per_customer  \\\n",
       "0                                    2                                5   \n",
       "1                                    5                                6   \n",
       "2                                    2                                3   \n",
       "3                                    4                                8   \n",
       "4                                    4                                5   \n",
       "\n",
       "   number_of_unique_item_id_per_customer  \\\n",
       "0                                    208   \n",
       "1                                    244   \n",
       "2                                    533   \n",
       "3                                    216   \n",
       "4                                    327   \n",
       "\n",
       "   number_of_unique_brands_per_customer  common_brand_per_customer  \\\n",
       "0                                    84                         56   \n",
       "1                                   102                         56   \n",
       "2                                   186                         56   \n",
       "3                                    73                         56   \n",
       "4                                   106                         56   \n",
       "\n",
       "   number_of_unique_brand_types_per_customer common_brand_type_per_customer  \\\n",
       "0                                          2                    Established   \n",
       "1                                          2                    Established   \n",
       "2                                          2                    Established   \n",
       "3                                          2                    Established   \n",
       "4                                          2                    Established   \n",
       "\n",
       "   number_of_unique_category_per_customer common_category_per_customer  \n",
       "0                                       8                      Grocery  \n",
       "1                                      12                      Grocery  \n",
       "2                                      11                      Grocery  \n",
       "3                                       8                      Grocery  \n",
       "4                                       8                      Grocery  "
      ]
     },
     "execution_count": 90,
     "metadata": {},
     "output_type": "execute_result"
    }
   ],
   "source": [
    "data.head()"
   ]
  },
  {
   "cell_type": "code",
   "execution_count": 91,
   "metadata": {
    "collapsed": false
   },
   "outputs": [
    {
     "name": "stdout",
     "output_type": "stream",
     "text": [
      "<class 'pandas.core.frame.DataFrame'>\n",
      "Int64Index: 128595 entries, 0 to 128594\n",
      "Data columns (total 64 columns):\n",
      "campaign_id                                      128595 non-null int64\n",
      "coupon_id                                        128595 non-null int64\n",
      "customer_id                                      128595 non-null int64\n",
      "campaign_type                                    128595 non-null object\n",
      "Campaign_Start_Day                               128595 non-null int64\n",
      "Campaign_Start_Month                             128595 non-null int64\n",
      "Campaign_Start_Year                              128595 non-null int64\n",
      "Campaign_Start_Quarter                           128595 non-null int64\n",
      "Campaign_Start_DayOfWeek                         128595 non-null int64\n",
      "Campaign_Start_MonthStart                        128595 non-null bool\n",
      "Campaign_Start_MonthEnd                          128595 non-null bool\n",
      "Campaign_Start_QuarterStart                      128595 non-null bool\n",
      "Campaign_Start_QuarterEnd                        128595 non-null bool\n",
      "Campaign_Start_YearStart                         128595 non-null bool\n",
      "Campaign_Start_YearEnd                           128595 non-null bool\n",
      "Campaign_End_Day                                 128595 non-null int64\n",
      "Campaign_End_Month                               128595 non-null int64\n",
      "Campaign_End_Year                                128595 non-null int64\n",
      "Campaign_End_Quarter                             128595 non-null int64\n",
      "Campaign_End_DayOfWeek                           128595 non-null int64\n",
      "Campaign_End_MonthStart                          128595 non-null bool\n",
      "Campaign_End_MonthEnd                            128595 non-null bool\n",
      "Campaign_End_QuarterStart                        128595 non-null bool\n",
      "Campaign_End_QuarterEnd                          128595 non-null bool\n",
      "Campaign_End_YearStart                           128595 non-null bool\n",
      "Campaign_End_YearEnd                             128595 non-null bool\n",
      "age_range                                        128595 non-null object\n",
      "marital_status                                   128595 non-null object\n",
      "rented                                           128595 non-null float64\n",
      "family_size                                      128595 non-null object\n",
      "no_of_children                                   128595 non-null object\n",
      "income_bracket                                   128595 non-null float64\n",
      "number_of_unique_item_id_per_coupon              128595 non-null int64\n",
      "number_of_unique_brands_per_coupon               128595 non-null int64\n",
      "common_brand_per_coupon                          128595 non-null int64\n",
      "number_of_unique_brand_types_per_coupon          128595 non-null int64\n",
      "common_brand_type_per_coupon                     128595 non-null int64\n",
      "number_of_unique_category_per_coupon             128595 non-null int64\n",
      "common_category_per_coupon                       128595 non-null object\n",
      "average_other_discount_pct_per_customer          128595 non-null float64\n",
      "average_coupon_discount_pct_per_customer         128595 non-null float64\n",
      "number_of_unique_item_id_purchased_per_coupon    128595 non-null int64\n",
      "commonly_purchased_item_per_customer             128595 non-null int64\n",
      "total_quantity_purchased_per_customer            128595 non-null int64\n",
      "total_amount_per_customer                        128595 non-null int64\n",
      "average_amount_per_customer                      128595 non-null float64\n",
      "median_amount_per_customer                       128595 non-null float64\n",
      "total_other_discount_per_customer                128595 non-null float64\n",
      "average_other_discount_per_customer              128595 non-null float64\n",
      "median_other_discount_per_customer               128595 non-null float64\n",
      "total_coupon_discount_per_customer               128595 non-null float64\n",
      "average_coupon_discount_per_customer             128595 non-null float64\n",
      "median_coupon_discount_per_customer              128595 non-null float64\n",
      "customer_since_how_many_years                    128595 non-null int64\n",
      "most_shopped_day_per_customer                    128595 non-null int64\n",
      "most_shopped_dayofweek_per_customer              128595 non-null int64\n",
      "most_shopped_month_per_customer                  128595 non-null int64\n",
      "number_of_unique_item_id_per_customer            128595 non-null int64\n",
      "number_of_unique_brands_per_customer             128595 non-null int64\n",
      "common_brand_per_customer                        128595 non-null int64\n",
      "number_of_unique_brand_types_per_customer        128595 non-null int64\n",
      "common_brand_type_per_customer                   128595 non-null object\n",
      "number_of_unique_category_per_customer           128595 non-null int64\n",
      "common_category_per_customer                     128595 non-null object\n",
      "dtypes: bool(12), float64(12), int64(32), object(8)\n",
      "memory usage: 53.5+ MB\n"
     ]
    }
   ],
   "source": [
    "data.info()"
   ]
  },
  {
   "cell_type": "code",
   "execution_count": 92,
   "metadata": {
    "collapsed": false
   },
   "outputs": [],
   "source": [
    "# dropping the id variables \n",
    "id_vars = data[['campaign_id']]\n",
    "data.drop(id_vars,axis=1,inplace=True)"
   ]
  },
  {
   "cell_type": "code",
   "execution_count": 93,
   "metadata": {
    "collapsed": false
   },
   "outputs": [],
   "source": [
    "categorical_columns = ['coupon_id','customer_id','campaign_type','Campaign_Start_Day','Campaign_Start_Month','Campaign_Start_Year','Campaign_Start_Quarter',\n",
    "                      'Campaign_Start_DayOfWeek','Campaign_End_Day','Campaign_End_Month','Campaign_End_Year','Campaign_End_Quarter',\n",
    "                      'Campaign_End_DayOfWeek','common_brand_per_coupon','common_brand_type_per_coupon','common_category_per_coupon',\n",
    "                      'commonly_purchased_item_per_customer','most_shopped_day_per_customer','most_shopped_dayofweek_per_customer',\n",
    "                      'most_shopped_month_per_customer','common_brand_per_customer','common_brand_type_per_customer']\n",
    "for col in categorical_columns:\n",
    "    data[col] = data[col].astype(\"object\")"
   ]
  },
  {
   "cell_type": "code",
   "execution_count": 94,
   "metadata": {
    "collapsed": true
   },
   "outputs": [],
   "source": [
    "# Categorical boolean mask\n",
    "categorical_feature_mask = data.dtypes==object\n",
    "# filter categorical columns using mask and turn it into a list\n",
    "categorical_cols = data.columns[categorical_feature_mask].tolist()\n",
    "# import labelencoder\n",
    "from sklearn.preprocessing import LabelEncoder\n",
    "# instantiate labelencoder object\n",
    "le = LabelEncoder()\n",
    "# apply le on categorical feature columns\n",
    "data[categorical_cols] = data[categorical_cols].apply(lambda col: le.fit_transform(col))"
   ]
  },
  {
   "cell_type": "code",
   "execution_count": 95,
   "metadata": {
    "collapsed": false
   },
   "outputs": [],
   "source": [
    "train = data.iloc[:len_train,:]\n",
    "test = data.iloc[len_train:,:]"
   ]
  },
  {
   "cell_type": "markdown",
   "metadata": {},
   "source": [
    "#### Removing Highly Correlated Variables"
   ]
  },
  {
   "cell_type": "code",
   "execution_count": 96,
   "metadata": {
    "collapsed": false
   },
   "outputs": [
    {
     "name": "stdout",
     "output_type": "stream",
     "text": [
      "Wall time: 889 ms\n"
     ]
    }
   ],
   "source": [
    "%%time\n",
    "# Let's check the correlation between the variables and eliminate the one's that have high correlation\n",
    "# Threshold for removing correlated variables\n",
    "threshold = 0.9\n",
    "# Absolute value correlation matrix\n",
    "corr_matrix = train.corr().abs()\n",
    "corr_matrix.head()"
   ]
  },
  {
   "cell_type": "code",
   "execution_count": 97,
   "metadata": {
    "collapsed": false
   },
   "outputs": [
    {
     "data": {
      "text/html": [
       "<div>\n",
       "<style scoped>\n",
       "    .dataframe tbody tr th:only-of-type {\n",
       "        vertical-align: middle;\n",
       "    }\n",
       "\n",
       "    .dataframe tbody tr th {\n",
       "        vertical-align: top;\n",
       "    }\n",
       "\n",
       "    .dataframe thead th {\n",
       "        text-align: right;\n",
       "    }\n",
       "</style>\n",
       "<table border=\"1\" class=\"dataframe\">\n",
       "  <thead>\n",
       "    <tr style=\"text-align: right;\">\n",
       "      <th></th>\n",
       "      <th>coupon_id</th>\n",
       "      <th>customer_id</th>\n",
       "      <th>campaign_type</th>\n",
       "      <th>Campaign_Start_Day</th>\n",
       "      <th>Campaign_Start_Month</th>\n",
       "      <th>Campaign_Start_Year</th>\n",
       "      <th>Campaign_Start_Quarter</th>\n",
       "      <th>Campaign_Start_DayOfWeek</th>\n",
       "      <th>Campaign_Start_MonthStart</th>\n",
       "      <th>Campaign_Start_MonthEnd</th>\n",
       "      <th>Campaign_Start_QuarterStart</th>\n",
       "      <th>Campaign_Start_QuarterEnd</th>\n",
       "      <th>Campaign_Start_YearStart</th>\n",
       "      <th>Campaign_Start_YearEnd</th>\n",
       "      <th>Campaign_End_Day</th>\n",
       "      <th>Campaign_End_Month</th>\n",
       "      <th>Campaign_End_Year</th>\n",
       "      <th>Campaign_End_Quarter</th>\n",
       "      <th>Campaign_End_DayOfWeek</th>\n",
       "      <th>Campaign_End_MonthStart</th>\n",
       "      <th>Campaign_End_MonthEnd</th>\n",
       "      <th>Campaign_End_QuarterStart</th>\n",
       "      <th>Campaign_End_QuarterEnd</th>\n",
       "      <th>Campaign_End_YearStart</th>\n",
       "      <th>Campaign_End_YearEnd</th>\n",
       "      <th>age_range</th>\n",
       "      <th>marital_status</th>\n",
       "      <th>rented</th>\n",
       "      <th>family_size</th>\n",
       "      <th>no_of_children</th>\n",
       "      <th>income_bracket</th>\n",
       "      <th>number_of_unique_item_id_per_coupon</th>\n",
       "      <th>number_of_unique_brands_per_coupon</th>\n",
       "      <th>common_brand_per_coupon</th>\n",
       "      <th>number_of_unique_brand_types_per_coupon</th>\n",
       "      <th>common_brand_type_per_coupon</th>\n",
       "      <th>number_of_unique_category_per_coupon</th>\n",
       "      <th>common_category_per_coupon</th>\n",
       "      <th>average_other_discount_pct_per_customer</th>\n",
       "      <th>average_coupon_discount_pct_per_customer</th>\n",
       "      <th>number_of_unique_item_id_purchased_per_coupon</th>\n",
       "      <th>commonly_purchased_item_per_customer</th>\n",
       "      <th>total_quantity_purchased_per_customer</th>\n",
       "      <th>total_amount_per_customer</th>\n",
       "      <th>average_amount_per_customer</th>\n",
       "      <th>median_amount_per_customer</th>\n",
       "      <th>total_other_discount_per_customer</th>\n",
       "      <th>average_other_discount_per_customer</th>\n",
       "      <th>median_other_discount_per_customer</th>\n",
       "      <th>total_coupon_discount_per_customer</th>\n",
       "      <th>average_coupon_discount_per_customer</th>\n",
       "      <th>median_coupon_discount_per_customer</th>\n",
       "      <th>customer_since_how_many_years</th>\n",
       "      <th>most_shopped_day_per_customer</th>\n",
       "      <th>most_shopped_dayofweek_per_customer</th>\n",
       "      <th>most_shopped_month_per_customer</th>\n",
       "      <th>number_of_unique_item_id_per_customer</th>\n",
       "      <th>number_of_unique_brands_per_customer</th>\n",
       "      <th>common_brand_per_customer</th>\n",
       "      <th>number_of_unique_brand_types_per_customer</th>\n",
       "      <th>common_brand_type_per_customer</th>\n",
       "      <th>number_of_unique_category_per_customer</th>\n",
       "      <th>common_category_per_customer</th>\n",
       "    </tr>\n",
       "  </thead>\n",
       "  <tbody>\n",
       "    <tr>\n",
       "      <th>coupon_id</th>\n",
       "      <td>nan</td>\n",
       "      <td>0.00755</td>\n",
       "      <td>0.18309</td>\n",
       "      <td>0.05841</td>\n",
       "      <td>0.10991</td>\n",
       "      <td>0.14160</td>\n",
       "      <td>0.13476</td>\n",
       "      <td>0.14578</td>\n",
       "      <td>nan</td>\n",
       "      <td>nan</td>\n",
       "      <td>nan</td>\n",
       "      <td>nan</td>\n",
       "      <td>nan</td>\n",
       "      <td>nan</td>\n",
       "      <td>0.13877</td>\n",
       "      <td>0.01408</td>\n",
       "      <td>0.11224</td>\n",
       "      <td>0.04535</td>\n",
       "      <td>0.03175</td>\n",
       "      <td>0.00966</td>\n",
       "      <td>0.08420</td>\n",
       "      <td>nan</td>\n",
       "      <td>nan</td>\n",
       "      <td>nan</td>\n",
       "      <td>nan</td>\n",
       "      <td>0.01972</td>\n",
       "      <td>0.00317</td>\n",
       "      <td>0.00993</td>\n",
       "      <td>0.02026</td>\n",
       "      <td>0.02124</td>\n",
       "      <td>0.00560</td>\n",
       "      <td>0.15723</td>\n",
       "      <td>0.14800</td>\n",
       "      <td>0.60684</td>\n",
       "      <td>0.20108</td>\n",
       "      <td>0.60684</td>\n",
       "      <td>0.15753</td>\n",
       "      <td>0.11716</td>\n",
       "      <td>0.00160</td>\n",
       "      <td>0.00611</td>\n",
       "      <td>0.03771</td>\n",
       "      <td>0.00876</td>\n",
       "      <td>0.01197</td>\n",
       "      <td>0.01197</td>\n",
       "      <td>0.00152</td>\n",
       "      <td>0.00281</td>\n",
       "      <td>0.03078</td>\n",
       "      <td>0.00362</td>\n",
       "      <td>0.01016</td>\n",
       "      <td>0.01722</td>\n",
       "      <td>0.00553</td>\n",
       "      <td>nan</td>\n",
       "      <td>0.00598</td>\n",
       "      <td>0.00153</td>\n",
       "      <td>0.00049</td>\n",
       "      <td>0.01183</td>\n",
       "      <td>0.03613</td>\n",
       "      <td>0.03029</td>\n",
       "      <td>0.00705</td>\n",
       "      <td>nan</td>\n",
       "      <td>0.00377</td>\n",
       "      <td>0.02147</td>\n",
       "      <td>0.00167</td>\n",
       "    </tr>\n",
       "    <tr>\n",
       "      <th>customer_id</th>\n",
       "      <td>nan</td>\n",
       "      <td>nan</td>\n",
       "      <td>0.02119</td>\n",
       "      <td>0.00742</td>\n",
       "      <td>0.00888</td>\n",
       "      <td>0.00675</td>\n",
       "      <td>0.00514</td>\n",
       "      <td>0.00262</td>\n",
       "      <td>nan</td>\n",
       "      <td>nan</td>\n",
       "      <td>nan</td>\n",
       "      <td>nan</td>\n",
       "      <td>nan</td>\n",
       "      <td>nan</td>\n",
       "      <td>0.01133</td>\n",
       "      <td>0.00145</td>\n",
       "      <td>0.00137</td>\n",
       "      <td>0.00689</td>\n",
       "      <td>0.02338</td>\n",
       "      <td>0.00124</td>\n",
       "      <td>0.01709</td>\n",
       "      <td>nan</td>\n",
       "      <td>nan</td>\n",
       "      <td>nan</td>\n",
       "      <td>nan</td>\n",
       "      <td>0.04481</td>\n",
       "      <td>0.02631</td>\n",
       "      <td>0.00817</td>\n",
       "      <td>0.01213</td>\n",
       "      <td>0.00085</td>\n",
       "      <td>0.06419</td>\n",
       "      <td>0.00351</td>\n",
       "      <td>0.00338</td>\n",
       "      <td>0.00034</td>\n",
       "      <td>0.00324</td>\n",
       "      <td>0.00034</td>\n",
       "      <td>0.00163</td>\n",
       "      <td>0.01246</td>\n",
       "      <td>0.02205</td>\n",
       "      <td>0.02917</td>\n",
       "      <td>0.00094</td>\n",
       "      <td>0.00551</td>\n",
       "      <td>0.02328</td>\n",
       "      <td>0.02328</td>\n",
       "      <td>0.00710</td>\n",
       "      <td>0.01586</td>\n",
       "      <td>0.11179</td>\n",
       "      <td>0.04046</td>\n",
       "      <td>0.03600</td>\n",
       "      <td>0.05158</td>\n",
       "      <td>0.01559</td>\n",
       "      <td>nan</td>\n",
       "      <td>0.01734</td>\n",
       "      <td>0.02598</td>\n",
       "      <td>0.03169</td>\n",
       "      <td>0.00438</td>\n",
       "      <td>0.11772</td>\n",
       "      <td>0.12147</td>\n",
       "      <td>0.01611</td>\n",
       "      <td>nan</td>\n",
       "      <td>0.02635</td>\n",
       "      <td>0.09193</td>\n",
       "      <td>0.04915</td>\n",
       "    </tr>\n",
       "    <tr>\n",
       "      <th>campaign_type</th>\n",
       "      <td>nan</td>\n",
       "      <td>nan</td>\n",
       "      <td>nan</td>\n",
       "      <td>0.40220</td>\n",
       "      <td>0.03381</td>\n",
       "      <td>0.07639</td>\n",
       "      <td>0.10080</td>\n",
       "      <td>0.65729</td>\n",
       "      <td>nan</td>\n",
       "      <td>nan</td>\n",
       "      <td>nan</td>\n",
       "      <td>nan</td>\n",
       "      <td>nan</td>\n",
       "      <td>nan</td>\n",
       "      <td>0.58204</td>\n",
       "      <td>0.02776</td>\n",
       "      <td>0.15629</td>\n",
       "      <td>0.11434</td>\n",
       "      <td>0.16215</td>\n",
       "      <td>0.04811</td>\n",
       "      <td>0.38190</td>\n",
       "      <td>nan</td>\n",
       "      <td>nan</td>\n",
       "      <td>nan</td>\n",
       "      <td>nan</td>\n",
       "      <td>0.05118</td>\n",
       "      <td>0.02593</td>\n",
       "      <td>0.03305</td>\n",
       "      <td>0.06153</td>\n",
       "      <td>0.05669</td>\n",
       "      <td>0.05107</td>\n",
       "      <td>0.05019</td>\n",
       "      <td>0.05327</td>\n",
       "      <td>0.10518</td>\n",
       "      <td>0.07848</td>\n",
       "      <td>0.10518</td>\n",
       "      <td>0.05099</td>\n",
       "      <td>0.07898</td>\n",
       "      <td>0.03979</td>\n",
       "      <td>0.03329</td>\n",
       "      <td>0.02766</td>\n",
       "      <td>0.02931</td>\n",
       "      <td>0.06122</td>\n",
       "      <td>0.06122</td>\n",
       "      <td>0.01753</td>\n",
       "      <td>0.02835</td>\n",
       "      <td>0.10484</td>\n",
       "      <td>0.02715</td>\n",
       "      <td>0.01006</td>\n",
       "      <td>0.05010</td>\n",
       "      <td>0.01806</td>\n",
       "      <td>nan</td>\n",
       "      <td>0.00696</td>\n",
       "      <td>0.00510</td>\n",
       "      <td>0.02848</td>\n",
       "      <td>0.01522</td>\n",
       "      <td>0.13009</td>\n",
       "      <td>0.13434</td>\n",
       "      <td>0.01582</td>\n",
       "      <td>nan</td>\n",
       "      <td>0.01919</td>\n",
       "      <td>0.07876</td>\n",
       "      <td>0.01239</td>\n",
       "    </tr>\n",
       "    <tr>\n",
       "      <th>Campaign_Start_Day</th>\n",
       "      <td>nan</td>\n",
       "      <td>nan</td>\n",
       "      <td>nan</td>\n",
       "      <td>nan</td>\n",
       "      <td>0.10640</td>\n",
       "      <td>0.20850</td>\n",
       "      <td>0.04867</td>\n",
       "      <td>0.18975</td>\n",
       "      <td>nan</td>\n",
       "      <td>nan</td>\n",
       "      <td>nan</td>\n",
       "      <td>nan</td>\n",
       "      <td>nan</td>\n",
       "      <td>nan</td>\n",
       "      <td>0.43859</td>\n",
       "      <td>0.11474</td>\n",
       "      <td>0.45290</td>\n",
       "      <td>0.01181</td>\n",
       "      <td>0.15927</td>\n",
       "      <td>0.07555</td>\n",
       "      <td>0.45404</td>\n",
       "      <td>nan</td>\n",
       "      <td>nan</td>\n",
       "      <td>nan</td>\n",
       "      <td>nan</td>\n",
       "      <td>0.02017</td>\n",
       "      <td>0.03515</td>\n",
       "      <td>0.00393</td>\n",
       "      <td>0.01106</td>\n",
       "      <td>0.01025</td>\n",
       "      <td>0.04869</td>\n",
       "      <td>0.04380</td>\n",
       "      <td>0.03568</td>\n",
       "      <td>0.07595</td>\n",
       "      <td>0.02813</td>\n",
       "      <td>0.07595</td>\n",
       "      <td>0.04333</td>\n",
       "      <td>0.04689</td>\n",
       "      <td>0.03802</td>\n",
       "      <td>0.03773</td>\n",
       "      <td>0.00154</td>\n",
       "      <td>0.01080</td>\n",
       "      <td>0.02051</td>\n",
       "      <td>0.02051</td>\n",
       "      <td>0.03774</td>\n",
       "      <td>0.04562</td>\n",
       "      <td>0.03654</td>\n",
       "      <td>0.00445</td>\n",
       "      <td>0.01450</td>\n",
       "      <td>0.00745</td>\n",
       "      <td>0.03627</td>\n",
       "      <td>nan</td>\n",
       "      <td>0.04457</td>\n",
       "      <td>0.00806</td>\n",
       "      <td>0.03146</td>\n",
       "      <td>0.01822</td>\n",
       "      <td>0.03869</td>\n",
       "      <td>0.00815</td>\n",
       "      <td>0.01669</td>\n",
       "      <td>nan</td>\n",
       "      <td>0.02099</td>\n",
       "      <td>0.00496</td>\n",
       "      <td>0.00734</td>\n",
       "    </tr>\n",
       "    <tr>\n",
       "      <th>Campaign_Start_Month</th>\n",
       "      <td>nan</td>\n",
       "      <td>nan</td>\n",
       "      <td>nan</td>\n",
       "      <td>nan</td>\n",
       "      <td>nan</td>\n",
       "      <td>0.84790</td>\n",
       "      <td>0.98495</td>\n",
       "      <td>0.30225</td>\n",
       "      <td>nan</td>\n",
       "      <td>nan</td>\n",
       "      <td>nan</td>\n",
       "      <td>nan</td>\n",
       "      <td>nan</td>\n",
       "      <td>nan</td>\n",
       "      <td>0.34021</td>\n",
       "      <td>0.22118</td>\n",
       "      <td>0.45893</td>\n",
       "      <td>0.18871</td>\n",
       "      <td>0.16414</td>\n",
       "      <td>0.03886</td>\n",
       "      <td>0.36719</td>\n",
       "      <td>nan</td>\n",
       "      <td>nan</td>\n",
       "      <td>nan</td>\n",
       "      <td>nan</td>\n",
       "      <td>0.02219</td>\n",
       "      <td>0.00526</td>\n",
       "      <td>0.00432</td>\n",
       "      <td>0.02501</td>\n",
       "      <td>0.01216</td>\n",
       "      <td>0.00923</td>\n",
       "      <td>0.02199</td>\n",
       "      <td>0.02714</td>\n",
       "      <td>0.03663</td>\n",
       "      <td>0.00675</td>\n",
       "      <td>0.03663</td>\n",
       "      <td>0.04143</td>\n",
       "      <td>0.10450</td>\n",
       "      <td>0.03495</td>\n",
       "      <td>0.01427</td>\n",
       "      <td>0.04177</td>\n",
       "      <td>0.03334</td>\n",
       "      <td>0.02267</td>\n",
       "      <td>0.02267</td>\n",
       "      <td>0.00060</td>\n",
       "      <td>0.02415</td>\n",
       "      <td>0.01351</td>\n",
       "      <td>0.02854</td>\n",
       "      <td>0.03907</td>\n",
       "      <td>0.01714</td>\n",
       "      <td>0.02096</td>\n",
       "      <td>nan</td>\n",
       "      <td>0.03608</td>\n",
       "      <td>0.01470</td>\n",
       "      <td>0.01007</td>\n",
       "      <td>0.08768</td>\n",
       "      <td>0.00643</td>\n",
       "      <td>0.01393</td>\n",
       "      <td>0.04502</td>\n",
       "      <td>nan</td>\n",
       "      <td>0.01336</td>\n",
       "      <td>0.00303</td>\n",
       "      <td>0.00877</td>\n",
       "    </tr>\n",
       "  </tbody>\n",
       "</table>\n",
       "</div>"
      ],
      "text/plain": [
       "                      coupon_id  customer_id  campaign_type  \\\n",
       "coupon_id                   nan      0.00755        0.18309   \n",
       "customer_id                 nan          nan        0.02119   \n",
       "campaign_type               nan          nan            nan   \n",
       "Campaign_Start_Day          nan          nan            nan   \n",
       "Campaign_Start_Month        nan          nan            nan   \n",
       "\n",
       "                      Campaign_Start_Day  Campaign_Start_Month  \\\n",
       "coupon_id                        0.05841               0.10991   \n",
       "customer_id                      0.00742               0.00888   \n",
       "campaign_type                    0.40220               0.03381   \n",
       "Campaign_Start_Day                   nan               0.10640   \n",
       "Campaign_Start_Month                 nan                   nan   \n",
       "\n",
       "                      Campaign_Start_Year  Campaign_Start_Quarter  \\\n",
       "coupon_id                         0.14160                 0.13476   \n",
       "customer_id                       0.00675                 0.00514   \n",
       "campaign_type                     0.07639                 0.10080   \n",
       "Campaign_Start_Day                0.20850                 0.04867   \n",
       "Campaign_Start_Month              0.84790                 0.98495   \n",
       "\n",
       "                      Campaign_Start_DayOfWeek  Campaign_Start_MonthStart  \\\n",
       "coupon_id                              0.14578                        nan   \n",
       "customer_id                            0.00262                        nan   \n",
       "campaign_type                          0.65729                        nan   \n",
       "Campaign_Start_Day                     0.18975                        nan   \n",
       "Campaign_Start_Month                   0.30225                        nan   \n",
       "\n",
       "                      Campaign_Start_MonthEnd  Campaign_Start_QuarterStart  \\\n",
       "coupon_id                                 nan                          nan   \n",
       "customer_id                               nan                          nan   \n",
       "campaign_type                             nan                          nan   \n",
       "Campaign_Start_Day                        nan                          nan   \n",
       "Campaign_Start_Month                      nan                          nan   \n",
       "\n",
       "                      Campaign_Start_QuarterEnd  Campaign_Start_YearStart  \\\n",
       "coupon_id                                   nan                       nan   \n",
       "customer_id                                 nan                       nan   \n",
       "campaign_type                               nan                       nan   \n",
       "Campaign_Start_Day                          nan                       nan   \n",
       "Campaign_Start_Month                        nan                       nan   \n",
       "\n",
       "                      Campaign_Start_YearEnd  Campaign_End_Day  \\\n",
       "coupon_id                                nan           0.13877   \n",
       "customer_id                              nan           0.01133   \n",
       "campaign_type                            nan           0.58204   \n",
       "Campaign_Start_Day                       nan           0.43859   \n",
       "Campaign_Start_Month                     nan           0.34021   \n",
       "\n",
       "                      Campaign_End_Month  Campaign_End_Year  \\\n",
       "coupon_id                        0.01408            0.11224   \n",
       "customer_id                      0.00145            0.00137   \n",
       "campaign_type                    0.02776            0.15629   \n",
       "Campaign_Start_Day               0.11474            0.45290   \n",
       "Campaign_Start_Month             0.22118            0.45893   \n",
       "\n",
       "                      Campaign_End_Quarter  Campaign_End_DayOfWeek  \\\n",
       "coupon_id                          0.04535                 0.03175   \n",
       "customer_id                        0.00689                 0.02338   \n",
       "campaign_type                      0.11434                 0.16215   \n",
       "Campaign_Start_Day                 0.01181                 0.15927   \n",
       "Campaign_Start_Month               0.18871                 0.16414   \n",
       "\n",
       "                      Campaign_End_MonthStart  Campaign_End_MonthEnd  \\\n",
       "coupon_id                             0.00966                0.08420   \n",
       "customer_id                           0.00124                0.01709   \n",
       "campaign_type                         0.04811                0.38190   \n",
       "Campaign_Start_Day                    0.07555                0.45404   \n",
       "Campaign_Start_Month                  0.03886                0.36719   \n",
       "\n",
       "                      Campaign_End_QuarterStart  Campaign_End_QuarterEnd  \\\n",
       "coupon_id                                   nan                      nan   \n",
       "customer_id                                 nan                      nan   \n",
       "campaign_type                               nan                      nan   \n",
       "Campaign_Start_Day                          nan                      nan   \n",
       "Campaign_Start_Month                        nan                      nan   \n",
       "\n",
       "                      Campaign_End_YearStart  Campaign_End_YearEnd  age_range  \\\n",
       "coupon_id                                nan                   nan    0.01972   \n",
       "customer_id                              nan                   nan    0.04481   \n",
       "campaign_type                            nan                   nan    0.05118   \n",
       "Campaign_Start_Day                       nan                   nan    0.02017   \n",
       "Campaign_Start_Month                     nan                   nan    0.02219   \n",
       "\n",
       "                      marital_status  rented  family_size  no_of_children  \\\n",
       "coupon_id                    0.00317 0.00993      0.02026         0.02124   \n",
       "customer_id                  0.02631 0.00817      0.01213         0.00085   \n",
       "campaign_type                0.02593 0.03305      0.06153         0.05669   \n",
       "Campaign_Start_Day           0.03515 0.00393      0.01106         0.01025   \n",
       "Campaign_Start_Month         0.00526 0.00432      0.02501         0.01216   \n",
       "\n",
       "                      income_bracket  number_of_unique_item_id_per_coupon  \\\n",
       "coupon_id                    0.00560                              0.15723   \n",
       "customer_id                  0.06419                              0.00351   \n",
       "campaign_type                0.05107                              0.05019   \n",
       "Campaign_Start_Day           0.04869                              0.04380   \n",
       "Campaign_Start_Month         0.00923                              0.02199   \n",
       "\n",
       "                      number_of_unique_brands_per_coupon  \\\n",
       "coupon_id                                        0.14800   \n",
       "customer_id                                      0.00338   \n",
       "campaign_type                                    0.05327   \n",
       "Campaign_Start_Day                               0.03568   \n",
       "Campaign_Start_Month                             0.02714   \n",
       "\n",
       "                      common_brand_per_coupon  \\\n",
       "coupon_id                             0.60684   \n",
       "customer_id                           0.00034   \n",
       "campaign_type                         0.10518   \n",
       "Campaign_Start_Day                    0.07595   \n",
       "Campaign_Start_Month                  0.03663   \n",
       "\n",
       "                      number_of_unique_brand_types_per_coupon  \\\n",
       "coupon_id                                             0.20108   \n",
       "customer_id                                           0.00324   \n",
       "campaign_type                                         0.07848   \n",
       "Campaign_Start_Day                                    0.02813   \n",
       "Campaign_Start_Month                                  0.00675   \n",
       "\n",
       "                      common_brand_type_per_coupon  \\\n",
       "coupon_id                                  0.60684   \n",
       "customer_id                                0.00034   \n",
       "campaign_type                              0.10518   \n",
       "Campaign_Start_Day                         0.07595   \n",
       "Campaign_Start_Month                       0.03663   \n",
       "\n",
       "                      number_of_unique_category_per_coupon  \\\n",
       "coupon_id                                          0.15753   \n",
       "customer_id                                        0.00163   \n",
       "campaign_type                                      0.05099   \n",
       "Campaign_Start_Day                                 0.04333   \n",
       "Campaign_Start_Month                               0.04143   \n",
       "\n",
       "                      common_category_per_coupon  \\\n",
       "coupon_id                                0.11716   \n",
       "customer_id                              0.01246   \n",
       "campaign_type                            0.07898   \n",
       "Campaign_Start_Day                       0.04689   \n",
       "Campaign_Start_Month                     0.10450   \n",
       "\n",
       "                      average_other_discount_pct_per_customer  \\\n",
       "coupon_id                                             0.00160   \n",
       "customer_id                                           0.02205   \n",
       "campaign_type                                         0.03979   \n",
       "Campaign_Start_Day                                    0.03802   \n",
       "Campaign_Start_Month                                  0.03495   \n",
       "\n",
       "                      average_coupon_discount_pct_per_customer  \\\n",
       "coupon_id                                              0.00611   \n",
       "customer_id                                            0.02917   \n",
       "campaign_type                                          0.03329   \n",
       "Campaign_Start_Day                                     0.03773   \n",
       "Campaign_Start_Month                                   0.01427   \n",
       "\n",
       "                      number_of_unique_item_id_purchased_per_coupon  \\\n",
       "coupon_id                                                   0.03771   \n",
       "customer_id                                                 0.00094   \n",
       "campaign_type                                               0.02766   \n",
       "Campaign_Start_Day                                          0.00154   \n",
       "Campaign_Start_Month                                        0.04177   \n",
       "\n",
       "                      commonly_purchased_item_per_customer  \\\n",
       "coupon_id                                          0.00876   \n",
       "customer_id                                        0.00551   \n",
       "campaign_type                                      0.02931   \n",
       "Campaign_Start_Day                                 0.01080   \n",
       "Campaign_Start_Month                               0.03334   \n",
       "\n",
       "                      total_quantity_purchased_per_customer  \\\n",
       "coupon_id                                           0.01197   \n",
       "customer_id                                         0.02328   \n",
       "campaign_type                                       0.06122   \n",
       "Campaign_Start_Day                                  0.02051   \n",
       "Campaign_Start_Month                                0.02267   \n",
       "\n",
       "                      total_amount_per_customer  average_amount_per_customer  \\\n",
       "coupon_id                               0.01197                      0.00152   \n",
       "customer_id                             0.02328                      0.00710   \n",
       "campaign_type                           0.06122                      0.01753   \n",
       "Campaign_Start_Day                      0.02051                      0.03774   \n",
       "Campaign_Start_Month                    0.02267                      0.00060   \n",
       "\n",
       "                      median_amount_per_customer  \\\n",
       "coupon_id                                0.00281   \n",
       "customer_id                              0.01586   \n",
       "campaign_type                            0.02835   \n",
       "Campaign_Start_Day                       0.04562   \n",
       "Campaign_Start_Month                     0.02415   \n",
       "\n",
       "                      total_other_discount_per_customer  \\\n",
       "coupon_id                                       0.03078   \n",
       "customer_id                                     0.11179   \n",
       "campaign_type                                   0.10484   \n",
       "Campaign_Start_Day                              0.03654   \n",
       "Campaign_Start_Month                            0.01351   \n",
       "\n",
       "                      average_other_discount_per_customer  \\\n",
       "coupon_id                                         0.00362   \n",
       "customer_id                                       0.04046   \n",
       "campaign_type                                     0.02715   \n",
       "Campaign_Start_Day                                0.00445   \n",
       "Campaign_Start_Month                              0.02854   \n",
       "\n",
       "                      median_other_discount_per_customer  \\\n",
       "coupon_id                                        0.01016   \n",
       "customer_id                                      0.03600   \n",
       "campaign_type                                    0.01006   \n",
       "Campaign_Start_Day                               0.01450   \n",
       "Campaign_Start_Month                             0.03907   \n",
       "\n",
       "                      total_coupon_discount_per_customer  \\\n",
       "coupon_id                                        0.01722   \n",
       "customer_id                                      0.05158   \n",
       "campaign_type                                    0.05010   \n",
       "Campaign_Start_Day                               0.00745   \n",
       "Campaign_Start_Month                             0.01714   \n",
       "\n",
       "                      average_coupon_discount_per_customer  \\\n",
       "coupon_id                                          0.00553   \n",
       "customer_id                                        0.01559   \n",
       "campaign_type                                      0.01806   \n",
       "Campaign_Start_Day                                 0.03627   \n",
       "Campaign_Start_Month                               0.02096   \n",
       "\n",
       "                      median_coupon_discount_per_customer  \\\n",
       "coupon_id                                             nan   \n",
       "customer_id                                           nan   \n",
       "campaign_type                                         nan   \n",
       "Campaign_Start_Day                                    nan   \n",
       "Campaign_Start_Month                                  nan   \n",
       "\n",
       "                      customer_since_how_many_years  \\\n",
       "coupon_id                                   0.00598   \n",
       "customer_id                                 0.01734   \n",
       "campaign_type                               0.00696   \n",
       "Campaign_Start_Day                          0.04457   \n",
       "Campaign_Start_Month                        0.03608   \n",
       "\n",
       "                      most_shopped_day_per_customer  \\\n",
       "coupon_id                                   0.00153   \n",
       "customer_id                                 0.02598   \n",
       "campaign_type                               0.00510   \n",
       "Campaign_Start_Day                          0.00806   \n",
       "Campaign_Start_Month                        0.01470   \n",
       "\n",
       "                      most_shopped_dayofweek_per_customer  \\\n",
       "coupon_id                                         0.00049   \n",
       "customer_id                                       0.03169   \n",
       "campaign_type                                     0.02848   \n",
       "Campaign_Start_Day                                0.03146   \n",
       "Campaign_Start_Month                              0.01007   \n",
       "\n",
       "                      most_shopped_month_per_customer  \\\n",
       "coupon_id                                     0.01183   \n",
       "customer_id                                   0.00438   \n",
       "campaign_type                                 0.01522   \n",
       "Campaign_Start_Day                            0.01822   \n",
       "Campaign_Start_Month                          0.08768   \n",
       "\n",
       "                      number_of_unique_item_id_per_customer  \\\n",
       "coupon_id                                           0.03613   \n",
       "customer_id                                         0.11772   \n",
       "campaign_type                                       0.13009   \n",
       "Campaign_Start_Day                                  0.03869   \n",
       "Campaign_Start_Month                                0.00643   \n",
       "\n",
       "                      number_of_unique_brands_per_customer  \\\n",
       "coupon_id                                          0.03029   \n",
       "customer_id                                        0.12147   \n",
       "campaign_type                                      0.13434   \n",
       "Campaign_Start_Day                                 0.00815   \n",
       "Campaign_Start_Month                               0.01393   \n",
       "\n",
       "                      common_brand_per_customer  \\\n",
       "coupon_id                               0.00705   \n",
       "customer_id                             0.01611   \n",
       "campaign_type                           0.01582   \n",
       "Campaign_Start_Day                      0.01669   \n",
       "Campaign_Start_Month                    0.04502   \n",
       "\n",
       "                      number_of_unique_brand_types_per_customer  \\\n",
       "coupon_id                                                   nan   \n",
       "customer_id                                                 nan   \n",
       "campaign_type                                               nan   \n",
       "Campaign_Start_Day                                          nan   \n",
       "Campaign_Start_Month                                        nan   \n",
       "\n",
       "                      common_brand_type_per_customer  \\\n",
       "coupon_id                                    0.00377   \n",
       "customer_id                                  0.02635   \n",
       "campaign_type                                0.01919   \n",
       "Campaign_Start_Day                           0.02099   \n",
       "Campaign_Start_Month                         0.01336   \n",
       "\n",
       "                      number_of_unique_category_per_customer  \\\n",
       "coupon_id                                            0.02147   \n",
       "customer_id                                          0.09193   \n",
       "campaign_type                                        0.07876   \n",
       "Campaign_Start_Day                                   0.00496   \n",
       "Campaign_Start_Month                                 0.00303   \n",
       "\n",
       "                      common_category_per_customer  \n",
       "coupon_id                                  0.00167  \n",
       "customer_id                                0.04915  \n",
       "campaign_type                              0.01239  \n",
       "Campaign_Start_Day                         0.00734  \n",
       "Campaign_Start_Month                       0.00877  "
      ]
     },
     "execution_count": 97,
     "metadata": {},
     "output_type": "execute_result"
    }
   ],
   "source": [
    "# Upper triangle of correlations\n",
    "upper = corr_matrix.where(np.triu(np.ones(corr_matrix.shape), k=1).astype(np.bool))\n",
    "upper.head()"
   ]
  },
  {
   "cell_type": "code",
   "execution_count": 98,
   "metadata": {
    "collapsed": false
   },
   "outputs": [
    {
     "name": "stdout",
     "output_type": "stream",
     "text": [
      "There are 6 columns to remove.\n",
      "Following columns can be dropped ['Campaign_Start_Quarter', 'Campaign_End_Quarter', 'common_brand_type_per_coupon', 'total_amount_per_customer', 'average_coupon_discount_per_customer', 'number_of_unique_brands_per_customer']\n"
     ]
    }
   ],
   "source": [
    "# Select columns with correlations above threshold\n",
    "to_drop = [column for column in upper.columns if any(upper[column] > threshold)]\n",
    "print('There are %d columns to remove.' % (len(to_drop)))\n",
    "print (\"Following columns can be dropped {}\".format(to_drop))"
   ]
  },
  {
   "cell_type": "code",
   "execution_count": 99,
   "metadata": {
    "collapsed": false
   },
   "outputs": [
    {
     "name": "stderr",
     "output_type": "stream",
     "text": [
      "C:\\Users\\m1013523\\AppData\\Local\\Continuum\\Anaconda3\\lib\\site-packages\\pandas\\core\\frame.py:3940: SettingWithCopyWarning: \n",
      "A value is trying to be set on a copy of a slice from a DataFrame\n",
      "\n",
      "See the caveats in the documentation: http://pandas.pydata.org/pandas-docs/stable/indexing.html#indexing-view-versus-copy\n",
      "  errors=errors)\n"
     ]
    }
   ],
   "source": [
    "train.drop(to_drop,axis=1,inplace=True)\n",
    "test.drop(to_drop,axis=1,inplace=True)"
   ]
  },
  {
   "cell_type": "code",
   "execution_count": null,
   "metadata": {
    "collapsed": true
   },
   "outputs": [],
   "source": []
  },
  {
   "cell_type": "code",
   "execution_count": 100,
   "metadata": {
    "collapsed": false
   },
   "outputs": [],
   "source": [
    "# Standardizing some features\n",
    "scaled_features_train = train.copy()\n",
    "scaled_features_test = test.copy()\n",
    "\n",
    "col_names = ['average_other_discount_pct_per_customer','average_coupon_discount_pct_per_customer',\n",
    "            'average_amount_per_customer','median_amount_per_customer','total_other_discount_per_customer','average_other_discount_per_customer',\n",
    "            'median_other_discount_per_customer','total_coupon_discount_per_customer']\n",
    "\n",
    "features_train = scaled_features_train[col_names]\n",
    "features_test = scaled_features_test[col_names]\n",
    "\n",
    "scaler_train = StandardScaler().fit(features_train.values)\n",
    "scaler_test = StandardScaler().fit(features_test.values)\n",
    "\n",
    "features_train = scaler_train.transform(features_train.values)\n",
    "features_test = scaler_test.transform(features_test.values)\n",
    "\n",
    "scaled_features_train[col_names] = features_train\n",
    "scaled_features_test[col_names] = features_test\n",
    "\n",
    "train = scaled_features_train\n",
    "test = scaled_features_test\n",
    "\n",
    "X = train"
   ]
  },
  {
   "cell_type": "code",
   "execution_count": 101,
   "metadata": {
    "collapsed": false
   },
   "outputs": [
    {
     "name": "stderr",
     "output_type": "stream",
     "text": [
      "C:\\Users\\m1013523\\AppData\\Local\\Continuum\\Anaconda3\\lib\\site-packages\\sklearn\\externals\\six.py:31: DeprecationWarning: The module is deprecated in version 0.21 and will be removed in version 0.23 since we've dropped support for Python 2.7. Please rely on the official version of six (https://pypi.org/project/six/).\n",
      "  \"(https://pypi.org/project/six/).\", DeprecationWarning)\n"
     ]
    }
   ],
   "source": [
    "from imblearn.under_sampling import TomekLinks\n",
    "\n",
    "tl = TomekLinks(ratio='majority')\n",
    "X_Resample, y_Resample = tl.fit_sample(X, y)"
   ]
  },
  {
   "cell_type": "code",
   "execution_count": 102,
   "metadata": {
    "collapsed": false
   },
   "outputs": [
    {
     "name": "stdout",
     "output_type": "stream",
     "text": [
      "(62404, 57)\n",
      "(62404,)\n",
      "(15600, 57)\n",
      "(15600,)\n"
     ]
    }
   ],
   "source": [
    "kf = StratifiedKFold(n_splits=5,shuffle=True,random_state=42)\n",
    "for train_index,test_index in kf.split(X_Resample,y_Resample):\n",
    "    X_Train,X_Valid = X.loc[train_index],X.loc[test_index]\n",
    "    y_Train,y_Valid = y.loc[train_index],y.loc[test_index]\n",
    "print (X_Train.shape)\n",
    "print (y_Train.shape)\n",
    "print (X_Valid.shape)\n",
    "print (y_Valid.shape)"
   ]
  },
  {
   "cell_type": "code",
   "execution_count": 103,
   "metadata": {
    "collapsed": false
   },
   "outputs": [
    {
     "data": {
      "text/plain": [
       "RandomizedSearchCV(cv=10, error_score='raise-deprecating',\n",
       "                   estimator=LGBMClassifier(boosting_type='gbdt',\n",
       "                                            class_weight='balanced',\n",
       "                                            colsample_bytree=1.0,\n",
       "                                            importance_type='split',\n",
       "                                            learning_rate=0.1, max_depth=-1,\n",
       "                                            min_child_samples=20,\n",
       "                                            min_child_weight=0.001,\n",
       "                                            min_split_gain=0.0,\n",
       "                                            n_estimators=100, n_jobs=-1,\n",
       "                                            num_leaves=31, objective='binary',\n",
       "                                            random_state=42, reg_alph...\n",
       "                                        'learning_rate': [0.01, 0.05, 0.1, 0.3],\n",
       "                                        'max_depth': [3, 4, 5, 6, 7, -1],\n",
       "                                        'min_data_in_leaf': [1, 3, 5, 7, 10,\n",
       "                                                             25],\n",
       "                                        'n_estimators': [50, 100, 150, 200,\n",
       "                                                         250],\n",
       "                                        'num_leaves': [7, 15, 31, 63, 127],\n",
       "                                        'reg_alpha': [0.5, 1, 2],\n",
       "                                        'reg_lambda': [0.5, 1, 2],\n",
       "                                        'subsample': [0.5, 0.6, 0.7, 0.8, 0.9]},\n",
       "                   pre_dispatch='2*n_jobs', random_state=None, refit=True,\n",
       "                   return_train_score=False, scoring='roc_auc', verbose=0)"
      ]
     },
     "execution_count": 103,
     "metadata": {},
     "output_type": "execute_result"
    }
   ],
   "source": [
    "clf = lgb.LGBMClassifier(boosting_type='gbdt',objective='binary',random_state=42,class_weight='balanced',n_jobs=-1,verbose=1)\n",
    "params = {\"max_depth\":[3,4,5,6,7,-1],\n",
    "          \"learning_rate\":[0.01,0.05,0.1,0.3],\n",
    "          \"subsample\":[0.5,0.6,0.7,0.8,0.9],\n",
    "          \"colsample_bytree\":[0.5,0.6,0.7,0.8,0.9],\n",
    "          \"reg_alpha\":[0.5,1,2],\n",
    "          \"reg_lambda\":[0.5,1,2],\n",
    "          \"num_leaves\":[7,15,31,63,127],\n",
    "          \"min_data_in_leaf\":[1,3,5,7,10,25],\n",
    "          \"n_estimators\":list(range(50,300,50))}\n",
    "random_search = RandomizedSearchCV(estimator=clf,param_distributions=params,cv=10,scoring='roc_auc')\n",
    "random_search.fit(X_Train,y_Train)"
   ]
  },
  {
   "cell_type": "code",
   "execution_count": 104,
   "metadata": {
    "collapsed": false
   },
   "outputs": [
    {
     "data": {
      "text/plain": [
       "(LGBMClassifier(boosting_type='gbdt', class_weight='balanced',\n",
       "                colsample_bytree=0.5, importance_type='split',\n",
       "                learning_rate=0.05, max_depth=5, min_child_samples=20,\n",
       "                min_child_weight=0.001, min_data_in_leaf=3, min_split_gain=0.0,\n",
       "                n_estimators=200, n_jobs=-1, num_leaves=7, objective='binary',\n",
       "                random_state=42, reg_alpha=2, reg_lambda=1, silent=True,\n",
       "                subsample=0.6, subsample_for_bin=200000, subsample_freq=0,\n",
       "                verbose=1),\n",
       " {'colsample_bytree': 0.5,\n",
       "  'learning_rate': 0.05,\n",
       "  'max_depth': 5,\n",
       "  'min_data_in_leaf': 3,\n",
       "  'n_estimators': 200,\n",
       "  'num_leaves': 7,\n",
       "  'reg_alpha': 2,\n",
       "  'reg_lambda': 1,\n",
       "  'subsample': 0.6},\n",
       " 0.9360848623921941)"
      ]
     },
     "execution_count": 104,
     "metadata": {},
     "output_type": "execute_result"
    }
   ],
   "source": [
    "random_search.best_estimator_,random_search.best_params_,random_search.best_score_"
   ]
  },
  {
   "cell_type": "code",
   "execution_count": null,
   "metadata": {
    "collapsed": true
   },
   "outputs": [],
   "source": [
    "#Submission['redemption_status'] = random_search.best_estimator_.predict_proba(test)[:,1]\n",
    "Submission.to_csv(\"Submission_22.csv\",index=None)"
   ]
  },
  {
   "cell_type": "code",
   "execution_count": null,
   "metadata": {
    "collapsed": false
   },
   "outputs": [],
   "source": [
    "ser = pd.Series(random_search.best_estimator_.feature_importances_,X_Train.columns).sort_values()\n",
    "lst = list(ser[ser > 0].index)\n",
    "print (lst)\n",
    "print (len(lst))"
   ]
  },
  {
   "cell_type": "code",
   "execution_count": null,
   "metadata": {
    "collapsed": false
   },
   "outputs": [],
   "source": [
    "\"\"\"\n",
    "X_Train = X_Train[lst]\n",
    "X_Valid = X_Valid[lst]\n",
    "test = test[lst]\n",
    "\n",
    "clf = lgb.LGBMClassifier(boosting_type='gbdt',objective='binary',random_state=42,class_weight='balanced',n_jobs=-1,verbose=1)\n",
    "params = {\"max_depth\":[3,4,5,6,7,-1],\n",
    "          \"learning_rate\":[0.01,0.05,0.1,0.3],\n",
    "          \"subsample\":[0.5,0.6,0.7,0.8,0.9],\n",
    "          \"colsample_bytree\":[0.5,0.6,0.7,0.8,0.9],\n",
    "          \"reg_alpha\":[0.5,1,2],\n",
    "          \"reg_lambda\":[0.5,1,2],\n",
    "          \"num_leaves\":[7,15,31,63,127],\n",
    "          \"min_data_in_leaf\":[1,3,5,7,10,25],\n",
    "          \"n_estimators\":list(range(50,300,50))}\n",
    "random_search = RandomizedSearchCV(estimator=clf,param_distributions=params,cv=10,scoring='roc_auc')\n",
    "random_search.fit(X_Train,y_Train)\"\"\""
   ]
  },
  {
   "cell_type": "code",
   "execution_count": null,
   "metadata": {
    "collapsed": false
   },
   "outputs": [],
   "source": [
    "#random_search.best_estimator_,random_search.best_params_,random_search.best_score_"
   ]
  },
  {
   "cell_type": "code",
   "execution_count": null,
   "metadata": {
    "collapsed": false
   },
   "outputs": [],
   "source": [
    "#Submission['redemption_status'] = random_search.best_estimator_.predict_proba(test)[:,1]\n",
    "#Submission.to_csv(\"Submission_22.csv\",index=None)"
   ]
  }
 ],
 "metadata": {
  "kernelspec": {
   "display_name": "Python 3",
   "language": "python",
   "name": "python3"
  },
  "language_info": {
   "codemirror_mode": {
    "name": "ipython",
    "version": 3
   },
   "file_extension": ".py",
   "mimetype": "text/x-python",
   "name": "python",
   "nbconvert_exporter": "python",
   "pygments_lexer": "ipython3",
   "version": "3.6.8"
  }
 },
 "nbformat": 4,
 "nbformat_minor": 2
}
